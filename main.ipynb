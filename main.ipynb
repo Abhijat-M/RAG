{
 "cells": [
  {
   "cell_type": "markdown",
   "metadata": {},
   "source": [
    "# RAG 2.0 Feature Test Notebook\n",
    "\n",
    "This notebook will test all major components of the RAG application. \n",
    "\n",
    "### ⚠️ Prerequisites\n",
    "\n",
    "1.  **Run from `RAG/` directory:** This notebook *must* be saved in your main `RAG/` project folder to resolve the imports correctly.\n",
    "2.  **`.env` File:** Ensure you have a `.env` file in the `RAG/` directory with your `HF_API_TOKEN` and other settings.\n",
    "3.  **Dependencies:** Make sure you have run `pip install -r requirements.txt` and `pip install jupyter notebook` in your virtual environment.\n",
    "4.  **Clean Database:** For a clean test, stop any running apps and delete your old database directory:\n",
    "    * **Windows (PowerShell):** `Remove-Item -Path .\\\\chroma_db_store -Recurse -Force`\n",
    "    * **macOS/Linux:** `rm -rf ./chroma_db_store`"
   ]
  },
  {
   "cell_type": "code",
   "execution_count": null,
   "metadata": {},
   "outputs": [
    {
     "name": "stdout",
     "output_type": "stream",
     "text": [
      "2025-10-21 04:59:53,617 - RAG_App - INFO - Loading configuration...\n",
      "2025-10-21 04:59:53,618 - RAG_App - INFO - Configuration validated successfully.\n",
      "2025-10-21 04:59:54,499 - faiss.loader - INFO - Loading faiss with AVX512 support.\n",
      "2025-10-21 04:59:54,500 - faiss.loader - INFO - Could not load library with AVX512 support due to:\n",
      "ModuleNotFoundError(\"No module named 'faiss.swigfaiss_avx512'\")\n",
      "2025-10-21 04:59:54,500 - faiss.loader - INFO - Loading faiss with AVX2 support.\n",
      "2025-10-21 04:59:54,638 - faiss.loader - INFO - Successfully loaded faiss with AVX2 support.\n"
     ]
    },
    {
     "name": "stderr",
     "output_type": "stream",
     "text": [
      "c:\\Users\\Wizard\\AppData\\Local\\Programs\\Python\\Python311\\Lib\\site-packages\\tqdm\\auto.py:21: TqdmWarning: IProgress not found. Please update jupyter and ipywidgets. See https://ipywidgets.readthedocs.io/en/stable/user_install.html\n",
      "  from .autonotebook import tqdm as notebook_tqdm\n"
     ]
    },
    {
     "name": "stdout",
     "output_type": "stream",
     "text": [
      "2025-10-21 05:00:32,655 - datasets - INFO - TensorFlow version 2.20.0 available.\n",
      "2025-10-21 05:00:32,657 - datasets - INFO - JAX version 0.7.2 available.\n",
      "2025-10-21 05:00:37,583 - tensorflow - WARNING - From c:\\Users\\Wizard\\AppData\\Local\\Programs\\Python\\Python311\\Lib\\site-packages\\tf_keras\\src\\losses.py:2976: The name tf.losses.sparse_softmax_cross_entropy is deprecated. Please use tf.compat.v1.losses.sparse_softmax_cross_entropy instead.\n",
      "\n"
     ]
    }
   ],
   "source": [
    "import os\n",
    "import io\n",
    "import sys\n",
    "import json\n",
    "from IPython.display import display, Markdown\n",
    "import plotly.io as pio\n",
    "\n",
    "# Set Plotly to dark mode for the notebook\n",
    "pio.templates.default = \"plotly_dark\"\n",
    "\n",
    "# Import all our application modules\n",
    "from config import Config, IS_CONFIG_VALID\n",
    "from logger import logger\n",
    "from core.rag_engine import RAGEngine\n",
    "from ingestion.document_processor import DocumentProcessor\n",
    "from ingestion.web_crawler import WebCrawler\n",
    "from core.knowledge_graph import KnowledgeGraphBuilder\n",
    "\n",
    "def pjson(data):\n",
    "    \"\"\"Helper function to pretty-print JSON.\"\"\"\n",
    "    print(json.dumps(data, indent=2))"
   ]
  },
  {
   "cell_type": "markdown",
   "metadata": {},
   "source": [
    "## 1. Configuration & Setup\n",
    "\n",
    "This cell checks if the `.env` config is valid and initializes the main `RAGEngine`. It will also clear any existing vector store to ensure a clean test."
   ]
  },
  {
   "cell_type": "code",
   "execution_count": 11,
   "metadata": {},
   "outputs": [
    {
     "name": "stdout",
     "output_type": "stream",
     "text": [
      "2025-10-21 05:06:19,574 - RAG_App - INFO - Configuration is valid.\n",
      "LLM Provider: featherless-ai\n",
      "LLM Model: inclusionAI/Ling-1T\n",
      "Vector Store: chroma\n",
      "2025-10-21 05:06:19,575 - RAG_App - INFO - Initializing RAGEngine...\n",
      "2025-10-21 05:06:19,575 - RAG_App - INFO - RAGEngine initialized with provider featherless-ai and model inclusionAI/Ling-1T\n",
      "2025-10-21 05:06:19,575 - RAG_App - WARNING - Clearing vector store for a clean test...\n",
      "2025-10-21 05:06:19,576 - RAG_App - WARNING - Clearing vector store...\n",
      "2025-10-21 05:06:19,588 - RAG_App - ERROR - Error deleting chroma collection: Collection [rag_collection] does not exist\n",
      "2025-10-21 05:06:19,589 - RAG_App - INFO - Vector store cleared and re-initialized.\n",
      "\n",
      "Vector store cleared.\n"
     ]
    }
   ],
   "source": [
    "if not IS_CONFIG_VALID:\n",
    "    logger.error(\"CRITICAL: .env file is not configured correctly. Please check it.\")\n",
    "else:\n",
    "    logger.info(\"Configuration is valid.\")\n",
    "    print(f\"LLM Provider: {Config.LLM_PROVIDER}\")\n",
    "    print(f\"LLM Model: {Config.LLM_MODEL}\")\n",
    "    print(f\"Vector Store: {Config.VECTOR_STORE_TYPE}\")\n",
    "\n",
    "# Initialize the main engine\n",
    "rag_engine = RAGEngine()\n",
    "\n",
    "# Clear the store for a clean test\n",
    "logger.warning(\"Clearing vector store for a clean test...\")\n",
    "rag_engine.clear_vector_store()\n",
    "print(\"\\nVector store cleared.\")"
   ]
  },
  {
   "cell_type": "markdown",
   "metadata": {},
   "source": [
    "## 2. Feature 1: Document Ingestion\n",
    "\n",
    "We will create two dummy `.txt` files, process them, and add them to the `RAGEngine`."
   ]
  },
  {
   "cell_type": "code",
   "execution_count": 12,
   "metadata": {},
   "outputs": [
    {
     "name": "stdout",
     "output_type": "stream",
     "text": [
      "2025-10-21 05:06:24,072 - RAG_App - INFO - DocumentProcessor initialized.\n",
      "2025-10-21 05:06:24,072 - RAG_App - INFO - Processing file: test_paris.txt\n",
      "2025-10-21 05:06:24,074 - RAG_App - INFO - Successfully processed test_paris.txt, created 1 chunks.\n",
      "2025-10-21 05:06:24,074 - RAG_App - INFO - Processing file: test_berlin.txt\n",
      "2025-10-21 05:06:24,075 - RAG_App - INFO - Successfully processed test_berlin.txt, created 1 chunks.\n",
      "DocumentProcessor created 2 chunks from 2 files.\n",
      "2025-10-21 05:06:24,075 - RAG_App - INFO - Adding 2 documents to Chroma...\n"
     ]
    },
    {
     "name": "stderr",
     "output_type": "stream",
     "text": [
      "Batches: 100%|██████████| 1/1 [00:00<00:00, 90.61it/s]"
     ]
    },
    {
     "name": "stdout",
     "output_type": "stream",
     "text": [
      "2025-10-21 05:06:24,090 - RAG_App - ERROR - Error adding batch to Chroma: Error getting collection: Collection [f5ac716d-72d6-4bbf-95f6-176837ad59b3] does not exist.\n",
      "2025-10-21 05:06:24,090 - RAG_App - INFO - Document addition to Chroma complete.\n",
      "2025-10-21 05:06:24,090 - RAG_App - INFO - ChromaVectorStore is persistent. No explicit save needed.\n"
     ]
    },
    {
     "name": "stderr",
     "output_type": "stream",
     "text": [
      "\n"
     ]
    },
    {
     "ename": "NotFoundError",
     "evalue": "Collection [f5ac716d-72d6-4bbf-95f6-176837ad59b3] does not exist.",
     "output_type": "error",
     "traceback": [
      "\u001b[31m---------------------------------------------------------------------------\u001b[39m",
      "\u001b[31mNotFoundError\u001b[39m                             Traceback (most recent call last)",
      "\u001b[36mCell\u001b[39m\u001b[36m \u001b[39m\u001b[32mIn[12]\u001b[39m\u001b[32m, line 25\u001b[39m\n\u001b[32m     22\u001b[39m rag_engine.add_documents(processed_docs)\n\u001b[32m     24\u001b[39m \u001b[38;5;66;03m# 4. Check stats\u001b[39;00m\n\u001b[32m---> \u001b[39m\u001b[32m25\u001b[39m stats = \u001b[43mrag_engine\u001b[49m\u001b[43m.\u001b[49m\u001b[43mget_vector_store_stats\u001b[49m\u001b[43m(\u001b[49m\u001b[43m)\u001b[49m\n\u001b[32m     26\u001b[39m \u001b[38;5;28mprint\u001b[39m(\u001b[33m\"\u001b[39m\u001b[38;5;130;01m\\n\u001b[39;00m\u001b[33m--- Vector Store Stats after Document Ingestion ---\u001b[39m\u001b[33m\"\u001b[39m)\n\u001b[32m     27\u001b[39m pjson(stats)\n",
      "\u001b[36mFile \u001b[39m\u001b[32mc:\\Users\\Wizard\\Documents\\RAG\\core\\rag_engine.py:149\u001b[39m, in \u001b[36mRAGEngine.get_vector_store_stats\u001b[39m\u001b[34m(self)\u001b[39m\n\u001b[32m    147\u001b[39m \u001b[38;5;28;01mdef\u001b[39;00m\u001b[38;5;250m \u001b[39m\u001b[34mget_vector_store_stats\u001b[39m(\u001b[38;5;28mself\u001b[39m) -> Dict[\u001b[38;5;28mstr\u001b[39m, Any]:\n\u001b[32m    148\u001b[39m \u001b[38;5;250m    \u001b[39m\u001b[33;03m\"\"\"Get vector store statistics.\"\"\"\u001b[39;00m\n\u001b[32m--> \u001b[39m\u001b[32m149\u001b[39m     \u001b[38;5;28;01mreturn\u001b[39;00m \u001b[38;5;28;43mself\u001b[39;49m\u001b[43m.\u001b[49m\u001b[43mvector_store\u001b[49m\u001b[43m.\u001b[49m\u001b[43mget_stats\u001b[49m\u001b[43m(\u001b[49m\u001b[43m)\u001b[49m\n",
      "\u001b[36mFile \u001b[39m\u001b[32mc:\\Users\\Wizard\\Documents\\RAG\\storage\\vector_store.py:152\u001b[39m, in \u001b[36mChromaVectorStore.get_stats\u001b[39m\u001b[34m(self)\u001b[39m\n\u001b[32m    150\u001b[39m \u001b[38;5;28;01mdef\u001b[39;00m\u001b[38;5;250m \u001b[39m\u001b[34mget_stats\u001b[39m(\u001b[38;5;28mself\u001b[39m) -> Dict[\u001b[38;5;28mstr\u001b[39m, Any]:\n\u001b[32m    151\u001b[39m     \u001b[38;5;28;01mreturn\u001b[39;00m {\n\u001b[32m--> \u001b[39m\u001b[32m152\u001b[39m         \u001b[33m'\u001b[39m\u001b[33mtotal_documents\u001b[39m\u001b[33m'\u001b[39m: \u001b[38;5;28;43mself\u001b[39;49m\u001b[43m.\u001b[49m\u001b[43mcollection\u001b[49m\u001b[43m.\u001b[49m\u001b[43mcount\u001b[49m\u001b[43m(\u001b[49m\u001b[43m)\u001b[49m,\n\u001b[32m    153\u001b[39m         \u001b[33m'\u001b[39m\u001b[33mindex_size\u001b[39m\u001b[33m'\u001b[39m: \u001b[38;5;28mself\u001b[39m.collection.count(),\n\u001b[32m    154\u001b[39m         \u001b[33m'\u001b[39m\u001b[33mdimension\u001b[39m\u001b[33m'\u001b[39m: \u001b[38;5;28mself\u001b[39m.dimension,\n\u001b[32m    155\u001b[39m         \u001b[33m'\u001b[39m\u001b[33mmodel\u001b[39m\u001b[33m'\u001b[39m: \u001b[38;5;28mself\u001b[39m.model_name,\n\u001b[32m    156\u001b[39m         \u001b[33m'\u001b[39m\u001b[33mtype\u001b[39m\u001b[33m'\u001b[39m: \u001b[33m'\u001b[39m\u001b[33mChroma\u001b[39m\u001b[33m'\u001b[39m\n\u001b[32m    157\u001b[39m     }\n",
      "\u001b[36mFile \u001b[39m\u001b[32mc:\\Users\\Wizard\\AppData\\Local\\Programs\\Python\\Python311\\Lib\\site-packages\\chromadb\\api\\models\\Collection.py:43\u001b[39m, in \u001b[36mCollection.count\u001b[39m\u001b[34m(self)\u001b[39m\n\u001b[32m     36\u001b[39m \u001b[38;5;28;01mdef\u001b[39;00m\u001b[38;5;250m \u001b[39m\u001b[34mcount\u001b[39m(\u001b[38;5;28mself\u001b[39m) -> \u001b[38;5;28mint\u001b[39m:\n\u001b[32m     37\u001b[39m \u001b[38;5;250m    \u001b[39m\u001b[33;03m\"\"\"The total number of embeddings added to the database\u001b[39;00m\n\u001b[32m     38\u001b[39m \n\u001b[32m     39\u001b[39m \u001b[33;03m    Returns:\u001b[39;00m\n\u001b[32m     40\u001b[39m \u001b[33;03m        int: The total number of embeddings added to the database\u001b[39;00m\n\u001b[32m     41\u001b[39m \n\u001b[32m     42\u001b[39m \u001b[33;03m    \"\"\"\u001b[39;00m\n\u001b[32m---> \u001b[39m\u001b[32m43\u001b[39m     \u001b[38;5;28;01mreturn\u001b[39;00m \u001b[38;5;28;43mself\u001b[39;49m\u001b[43m.\u001b[49m\u001b[43m_client\u001b[49m\u001b[43m.\u001b[49m\u001b[43m_count\u001b[49m\u001b[43m(\u001b[49m\n\u001b[32m     44\u001b[39m \u001b[43m        \u001b[49m\u001b[43mcollection_id\u001b[49m\u001b[43m=\u001b[49m\u001b[38;5;28;43mself\u001b[39;49m\u001b[43m.\u001b[49m\u001b[43mid\u001b[49m\u001b[43m,\u001b[49m\n\u001b[32m     45\u001b[39m \u001b[43m        \u001b[49m\u001b[43mtenant\u001b[49m\u001b[43m=\u001b[49m\u001b[38;5;28;43mself\u001b[39;49m\u001b[43m.\u001b[49m\u001b[43mtenant\u001b[49m\u001b[43m,\u001b[49m\n\u001b[32m     46\u001b[39m \u001b[43m        \u001b[49m\u001b[43mdatabase\u001b[49m\u001b[43m=\u001b[49m\u001b[38;5;28;43mself\u001b[39;49m\u001b[43m.\u001b[49m\u001b[43mdatabase\u001b[49m\u001b[43m,\u001b[49m\n\u001b[32m     47\u001b[39m \u001b[43m    \u001b[49m\u001b[43m)\u001b[49m\n",
      "\u001b[36mFile \u001b[39m\u001b[32mc:\\Users\\Wizard\\AppData\\Local\\Programs\\Python\\Python311\\Lib\\site-packages\\chromadb\\api\\rust.py:338\u001b[39m, in \u001b[36mRustBindingsAPI._count\u001b[39m\u001b[34m(self, collection_id, tenant, database)\u001b[39m\n\u001b[32m    331\u001b[39m \u001b[38;5;129m@override\u001b[39m\n\u001b[32m    332\u001b[39m \u001b[38;5;28;01mdef\u001b[39;00m\u001b[38;5;250m \u001b[39m\u001b[34m_count\u001b[39m(\n\u001b[32m    333\u001b[39m     \u001b[38;5;28mself\u001b[39m,\n\u001b[32m   (...)\u001b[39m\u001b[32m    336\u001b[39m     database: \u001b[38;5;28mstr\u001b[39m = DEFAULT_DATABASE,\n\u001b[32m    337\u001b[39m ) -> \u001b[38;5;28mint\u001b[39m:\n\u001b[32m--> \u001b[39m\u001b[32m338\u001b[39m     \u001b[38;5;28;01mreturn\u001b[39;00m \u001b[38;5;28;43mself\u001b[39;49m\u001b[43m.\u001b[49m\u001b[43mbindings\u001b[49m\u001b[43m.\u001b[49m\u001b[43mcount\u001b[49m\u001b[43m(\u001b[49m\u001b[38;5;28;43mstr\u001b[39;49m\u001b[43m(\u001b[49m\u001b[43mcollection_id\u001b[49m\u001b[43m)\u001b[49m\u001b[43m,\u001b[49m\u001b[43m \u001b[49m\u001b[43mtenant\u001b[49m\u001b[43m,\u001b[49m\u001b[43m \u001b[49m\u001b[43mdatabase\u001b[49m\u001b[43m)\u001b[49m\n",
      "\u001b[31mNotFoundError\u001b[39m: Collection [f5ac716d-72d6-4bbf-95f6-176837ad59b3] does not exist."
     ]
    }
   ],
   "source": [
    "# 1. Create dummy files\n",
    "mock_files_data = [\n",
    "    {\n",
    "        'name': 'test_paris.txt',\n",
    "        'type': 'text/plain',\n",
    "        'data': b\"The capital of France is Paris. Paris is known for the Eiffel Tower, the Louvre Museum, and its beautiful cafes. It is a major center for art and culture.\"\n",
    "    },\n",
    "    {\n",
    "        'name': 'test_berlin.txt',\n",
    "        'type': 'text/plain',\n",
    "        'data': b\"Berlin is the capital of Germany. It is famous for the Brandenburg Gate and the remains of the Berlin Wall. It has a vibrant nightlife and tech scene.\"\n",
    "    }\n",
    "]\n",
    "\n",
    "# 2. Process files\n",
    "processor = DocumentProcessor()\n",
    "processed_docs = processor.process_uploaded_files(mock_files_data)\n",
    "\n",
    "print(f\"DocumentProcessor created {len(processed_docs)} chunks from {len(mock_files_data)} files.\")\n",
    "\n",
    "# 3. Add to RAG Engine\n",
    "rag_engine.add_documents(processed_docs)\n",
    "\n",
    "# 4. Check stats\n",
    "stats = rag_engine.get_vector_store_stats()\n",
    "print(\"\\n--- Vector Store Stats after Document Ingestion ---\")\n",
    "pjson(stats)"
   ]
  },
  {
   "cell_type": "markdown",
   "metadata": {},
   "source": [
    "## 3. Feature 2: Web Crawling\n",
    "\n",
    "We will crawl a simple, text-heavy webpage and add the content to the RAG Engine."
   ]
  },
  {
   "cell_type": "code",
   "execution_count": 13,
   "metadata": {},
   "outputs": [
    {
     "name": "stdout",
     "output_type": "stream",
     "text": [
      "Starting crawl for https://en.wikipedia.org/wiki/Bread...\n",
      "2025-10-21 05:06:31,804 - RAG_App - INFO - Starting crawl 1/1 for root URL: https://en.wikipedia.org/wiki/Bread\n",
      "2025-10-21 05:06:31,805 - RAG_App - INFO - Crawling (Depth 0): https://en.wikipedia.org/wiki/Bread\n",
      "2025-10-21 05:06:33,172 - RAG_App - INFO - Crawling (Depth 1): https://en.wikipedia.org/wiki/Grain_trade\n",
      "2025-10-21 05:06:34,550 - RAG_App - INFO - Crawl complete. Fetched 2 total pages.\n",
      "WebCrawler found 2 relevant pages.\n",
      "2025-10-21 05:06:34,551 - RAG_App - INFO - Adding 2 documents to Chroma...\n"
     ]
    },
    {
     "name": "stderr",
     "output_type": "stream",
     "text": [
      "Batches: 100%|██████████| 1/1 [00:00<00:00, 41.33it/s]"
     ]
    },
    {
     "name": "stdout",
     "output_type": "stream",
     "text": [
      "2025-10-21 05:06:34,580 - RAG_App - ERROR - Error adding batch to Chroma: Error getting collection: Collection [f5ac716d-72d6-4bbf-95f6-176837ad59b3] does not exist.\n",
      "2025-10-21 05:06:34,581 - RAG_App - INFO - Document addition to Chroma complete.\n",
      "2025-10-21 05:06:34,582 - RAG_App - INFO - ChromaVectorStore is persistent. No explicit save needed.\n"
     ]
    },
    {
     "name": "stderr",
     "output_type": "stream",
     "text": [
      "\n"
     ]
    },
    {
     "ename": "NotFoundError",
     "evalue": "Collection [f5ac716d-72d6-4bbf-95f6-176837ad59b3] does not exist.",
     "output_type": "error",
     "traceback": [
      "\u001b[31m---------------------------------------------------------------------------\u001b[39m",
      "\u001b[31mNotFoundError\u001b[39m                             Traceback (most recent call last)",
      "\u001b[36mCell\u001b[39m\u001b[36m \u001b[39m\u001b[32mIn[13]\u001b[39m\u001b[32m, line 17\u001b[39m\n\u001b[32m     14\u001b[39m rag_engine.add_documents(crawled_content)\n\u001b[32m     16\u001b[39m \u001b[38;5;66;03m# Check stats again\u001b[39;00m\n\u001b[32m---> \u001b[39m\u001b[32m17\u001b[39m stats = \u001b[43mrag_engine\u001b[49m\u001b[43m.\u001b[49m\u001b[43mget_vector_store_stats\u001b[49m\u001b[43m(\u001b[49m\u001b[43m)\u001b[49m\n\u001b[32m     18\u001b[39m \u001b[38;5;28mprint\u001b[39m(\u001b[33m\"\u001b[39m\u001b[38;5;130;01m\\n\u001b[39;00m\u001b[33m--- Vector Store Stats after Web Crawl ---\u001b[39m\u001b[33m\"\u001b[39m)\n\u001b[32m     19\u001b[39m pjson(stats)\n",
      "\u001b[36mFile \u001b[39m\u001b[32mc:\\Users\\Wizard\\Documents\\RAG\\core\\rag_engine.py:149\u001b[39m, in \u001b[36mRAGEngine.get_vector_store_stats\u001b[39m\u001b[34m(self)\u001b[39m\n\u001b[32m    147\u001b[39m \u001b[38;5;28;01mdef\u001b[39;00m\u001b[38;5;250m \u001b[39m\u001b[34mget_vector_store_stats\u001b[39m(\u001b[38;5;28mself\u001b[39m) -> Dict[\u001b[38;5;28mstr\u001b[39m, Any]:\n\u001b[32m    148\u001b[39m \u001b[38;5;250m    \u001b[39m\u001b[33;03m\"\"\"Get vector store statistics.\"\"\"\u001b[39;00m\n\u001b[32m--> \u001b[39m\u001b[32m149\u001b[39m     \u001b[38;5;28;01mreturn\u001b[39;00m \u001b[38;5;28;43mself\u001b[39;49m\u001b[43m.\u001b[49m\u001b[43mvector_store\u001b[49m\u001b[43m.\u001b[49m\u001b[43mget_stats\u001b[49m\u001b[43m(\u001b[49m\u001b[43m)\u001b[49m\n",
      "\u001b[36mFile \u001b[39m\u001b[32mc:\\Users\\Wizard\\Documents\\RAG\\storage\\vector_store.py:152\u001b[39m, in \u001b[36mChromaVectorStore.get_stats\u001b[39m\u001b[34m(self)\u001b[39m\n\u001b[32m    150\u001b[39m \u001b[38;5;28;01mdef\u001b[39;00m\u001b[38;5;250m \u001b[39m\u001b[34mget_stats\u001b[39m(\u001b[38;5;28mself\u001b[39m) -> Dict[\u001b[38;5;28mstr\u001b[39m, Any]:\n\u001b[32m    151\u001b[39m     \u001b[38;5;28;01mreturn\u001b[39;00m {\n\u001b[32m--> \u001b[39m\u001b[32m152\u001b[39m         \u001b[33m'\u001b[39m\u001b[33mtotal_documents\u001b[39m\u001b[33m'\u001b[39m: \u001b[38;5;28;43mself\u001b[39;49m\u001b[43m.\u001b[49m\u001b[43mcollection\u001b[49m\u001b[43m.\u001b[49m\u001b[43mcount\u001b[49m\u001b[43m(\u001b[49m\u001b[43m)\u001b[49m,\n\u001b[32m    153\u001b[39m         \u001b[33m'\u001b[39m\u001b[33mindex_size\u001b[39m\u001b[33m'\u001b[39m: \u001b[38;5;28mself\u001b[39m.collection.count(),\n\u001b[32m    154\u001b[39m         \u001b[33m'\u001b[39m\u001b[33mdimension\u001b[39m\u001b[33m'\u001b[39m: \u001b[38;5;28mself\u001b[39m.dimension,\n\u001b[32m    155\u001b[39m         \u001b[33m'\u001b[39m\u001b[33mmodel\u001b[39m\u001b[33m'\u001b[39m: \u001b[38;5;28mself\u001b[39m.model_name,\n\u001b[32m    156\u001b[39m         \u001b[33m'\u001b[39m\u001b[33mtype\u001b[39m\u001b[33m'\u001b[39m: \u001b[33m'\u001b[39m\u001b[33mChroma\u001b[39m\u001b[33m'\u001b[39m\n\u001b[32m    157\u001b[39m     }\n",
      "\u001b[36mFile \u001b[39m\u001b[32mc:\\Users\\Wizard\\AppData\\Local\\Programs\\Python\\Python311\\Lib\\site-packages\\chromadb\\api\\models\\Collection.py:43\u001b[39m, in \u001b[36mCollection.count\u001b[39m\u001b[34m(self)\u001b[39m\n\u001b[32m     36\u001b[39m \u001b[38;5;28;01mdef\u001b[39;00m\u001b[38;5;250m \u001b[39m\u001b[34mcount\u001b[39m(\u001b[38;5;28mself\u001b[39m) -> \u001b[38;5;28mint\u001b[39m:\n\u001b[32m     37\u001b[39m \u001b[38;5;250m    \u001b[39m\u001b[33;03m\"\"\"The total number of embeddings added to the database\u001b[39;00m\n\u001b[32m     38\u001b[39m \n\u001b[32m     39\u001b[39m \u001b[33;03m    Returns:\u001b[39;00m\n\u001b[32m     40\u001b[39m \u001b[33;03m        int: The total number of embeddings added to the database\u001b[39;00m\n\u001b[32m     41\u001b[39m \n\u001b[32m     42\u001b[39m \u001b[33;03m    \"\"\"\u001b[39;00m\n\u001b[32m---> \u001b[39m\u001b[32m43\u001b[39m     \u001b[38;5;28;01mreturn\u001b[39;00m \u001b[38;5;28;43mself\u001b[39;49m\u001b[43m.\u001b[49m\u001b[43m_client\u001b[49m\u001b[43m.\u001b[49m\u001b[43m_count\u001b[49m\u001b[43m(\u001b[49m\n\u001b[32m     44\u001b[39m \u001b[43m        \u001b[49m\u001b[43mcollection_id\u001b[49m\u001b[43m=\u001b[49m\u001b[38;5;28;43mself\u001b[39;49m\u001b[43m.\u001b[49m\u001b[43mid\u001b[49m\u001b[43m,\u001b[49m\n\u001b[32m     45\u001b[39m \u001b[43m        \u001b[49m\u001b[43mtenant\u001b[49m\u001b[43m=\u001b[49m\u001b[38;5;28;43mself\u001b[39;49m\u001b[43m.\u001b[49m\u001b[43mtenant\u001b[49m\u001b[43m,\u001b[49m\n\u001b[32m     46\u001b[39m \u001b[43m        \u001b[49m\u001b[43mdatabase\u001b[49m\u001b[43m=\u001b[49m\u001b[38;5;28;43mself\u001b[39;49m\u001b[43m.\u001b[49m\u001b[43mdatabase\u001b[49m\u001b[43m,\u001b[49m\n\u001b[32m     47\u001b[39m \u001b[43m    \u001b[49m\u001b[43m)\u001b[49m\n",
      "\u001b[36mFile \u001b[39m\u001b[32mc:\\Users\\Wizard\\AppData\\Local\\Programs\\Python\\Python311\\Lib\\site-packages\\chromadb\\api\\rust.py:338\u001b[39m, in \u001b[36mRustBindingsAPI._count\u001b[39m\u001b[34m(self, collection_id, tenant, database)\u001b[39m\n\u001b[32m    331\u001b[39m \u001b[38;5;129m@override\u001b[39m\n\u001b[32m    332\u001b[39m \u001b[38;5;28;01mdef\u001b[39;00m\u001b[38;5;250m \u001b[39m\u001b[34m_count\u001b[39m(\n\u001b[32m    333\u001b[39m     \u001b[38;5;28mself\u001b[39m,\n\u001b[32m   (...)\u001b[39m\u001b[32m    336\u001b[39m     database: \u001b[38;5;28mstr\u001b[39m = DEFAULT_DATABASE,\n\u001b[32m    337\u001b[39m ) -> \u001b[38;5;28mint\u001b[39m:\n\u001b[32m--> \u001b[39m\u001b[32m338\u001b[39m     \u001b[38;5;28;01mreturn\u001b[39;00m \u001b[38;5;28;43mself\u001b[39;49m\u001b[43m.\u001b[49m\u001b[43mbindings\u001b[49m\u001b[43m.\u001b[49m\u001b[43mcount\u001b[49m\u001b[43m(\u001b[49m\u001b[38;5;28;43mstr\u001b[39;49m\u001b[43m(\u001b[49m\u001b[43mcollection_id\u001b[49m\u001b[43m)\u001b[49m\u001b[43m,\u001b[49m\u001b[43m \u001b[49m\u001b[43mtenant\u001b[49m\u001b[43m,\u001b[49m\u001b[43m \u001b[49m\u001b[43mdatabase\u001b[49m\u001b[43m)\u001b[49m\n",
      "\u001b[31mNotFoundError\u001b[39m: Collection [f5ac716d-72d6-4bbf-95f6-176837ad59b3] does not exist."
     ]
    }
   ],
   "source": [
    "crawler = WebCrawler()\n",
    "urls_to_crawl = [\"https://en.wikipedia.org/wiki/Bread\"]\n",
    "context = \"baking, history, flour\"\n",
    "max_pages = 2\n",
    "max_depth = 1 # 0 = root page, 1 = root + its links\n",
    "\n",
    "print(f\"Starting crawl for {urls_to_crawl[0]}...\")\n",
    "crawled_content = crawler.crawl_root_urls(urls_to_crawl, context, max_pages, max_depth)\n",
    "\n",
    "print(f\"WebCrawler found {len(crawled_content)} relevant pages.\")\n",
    "\n",
    "if crawled_content:\n",
    "    # Add to RAG Engine\n",
    "    rag_engine.add_documents(crawled_content)\n",
    "    \n",
    "    # Check stats again\n",
    "    stats = rag_engine.get_vector_store_stats()\n",
    "    print(\"\\n--- Vector Store Stats after Web Crawl ---\")\n",
    "    pjson(stats)\n",
    "else:\n",
    "    print(\"Skipping web crawl addition, no content found.\")"
   ]
  },
  {
   "cell_type": "markdown",
   "metadata": {},
   "source": [
    "## 4. Feature 3: RAG Engine - Retrieval\n",
    "\n",
    "Test the `retrieve_relevant_documents` function. The top result should be from `test_paris.txt`."
   ]
  },
  {
   "cell_type": "code",
   "execution_count": 14,
   "metadata": {},
   "outputs": [
    {
     "name": "stdout",
     "output_type": "stream",
     "text": [
      "Testing retrieval for: 'What is the capital of France?'\n",
      "\n"
     ]
    },
    {
     "ename": "NotFoundError",
     "evalue": "Collection [f5ac716d-72d6-4bbf-95f6-176837ad59b3] does not exist.",
     "output_type": "error",
     "traceback": [
      "\u001b[31m---------------------------------------------------------------------------\u001b[39m",
      "\u001b[31mNotFoundError\u001b[39m                             Traceback (most recent call last)",
      "\u001b[36mCell\u001b[39m\u001b[36m \u001b[39m\u001b[32mIn[14]\u001b[39m\u001b[32m, line 4\u001b[39m\n\u001b[32m      1\u001b[39m query = \u001b[33m\"\u001b[39m\u001b[33mWhat is the capital of France?\u001b[39m\u001b[33m\"\u001b[39m\n\u001b[32m      2\u001b[39m \u001b[38;5;28mprint\u001b[39m(\u001b[33mf\u001b[39m\u001b[33m\"\u001b[39m\u001b[33mTesting retrieval for: \u001b[39m\u001b[33m'\u001b[39m\u001b[38;5;132;01m{\u001b[39;00mquery\u001b[38;5;132;01m}\u001b[39;00m\u001b[33m'\u001b[39m\u001b[38;5;130;01m\\n\u001b[39;00m\u001b[33m\"\u001b[39m)\n\u001b[32m----> \u001b[39m\u001b[32m4\u001b[39m retrieved_docs = \u001b[43mrag_engine\u001b[49m\u001b[43m.\u001b[49m\u001b[43mretrieve_relevant_documents\u001b[49m\u001b[43m(\u001b[49m\u001b[43mquery\u001b[49m\u001b[43m,\u001b[49m\u001b[43m \u001b[49m\u001b[43mk\u001b[49m\u001b[43m=\u001b[49m\u001b[32;43m3\u001b[39;49m\u001b[43m)\u001b[49m\n\u001b[32m      6\u001b[39m pjson(retrieved_docs)\n",
      "\u001b[36mFile \u001b[39m\u001b[32mc:\\Users\\Wizard\\Documents\\RAG\\core\\rag_engine.py:47\u001b[39m, in \u001b[36mretrieve_relevant_documents\u001b[39m\u001b[34m(self, query, k)\u001b[39m\n\u001b[32m     46\u001b[39m \u001b[38;5;28;01mdef\u001b[39;00m\u001b[38;5;250m \u001b[39m\u001b[34mretrieve_relevant_documents\u001b[39m(\u001b[38;5;28mself\u001b[39m, query: \u001b[38;5;28mstr\u001b[39m, k: \u001b[38;5;28mint\u001b[39m = \u001b[32m5\u001b[39m) -> List[Dict[\u001b[38;5;28mstr\u001b[39m, Any]]:\n\u001b[32m---> \u001b[39m\u001b[32m47\u001b[39m \u001b[38;5;250m    \u001b[39m\u001b[33;03m\"\"\"Retrieve relevant documents for a query.\"\"\"\u001b[39;00m\n\u001b[32m     48\u001b[39m     \u001b[38;5;28;01mreturn\u001b[39;00m \u001b[38;5;28mself\u001b[39m.vector_store.search(query, k)\n",
      "\u001b[36mFile \u001b[39m\u001b[32mc:\\Users\\Wizard\\Documents\\RAG\\storage\\vector_store.py:100\u001b[39m, in \u001b[36mChromaVectorStore.search\u001b[39m\u001b[34m(self, query, k)\u001b[39m\n\u001b[32m     99\u001b[39m \u001b[38;5;28;01mdef\u001b[39;00m\u001b[38;5;250m \u001b[39m\u001b[34msearch\u001b[39m(\u001b[38;5;28mself\u001b[39m, query: \u001b[38;5;28mstr\u001b[39m, k: \u001b[38;5;28mint\u001b[39m = \u001b[32m5\u001b[39m) -> List[Dict[\u001b[38;5;28mstr\u001b[39m, Any]]:\n\u001b[32m--> \u001b[39m\u001b[32m100\u001b[39m     \u001b[38;5;28;01mif\u001b[39;00m \u001b[38;5;28;43mself\u001b[39;49m\u001b[43m.\u001b[49m\u001b[43mcollection\u001b[49m\u001b[43m.\u001b[49m\u001b[43mcount\u001b[49m\u001b[43m(\u001b[49m\u001b[43m)\u001b[49m == \u001b[32m0\u001b[39m:\n\u001b[32m    101\u001b[39m         \u001b[38;5;28;01mreturn\u001b[39;00m []\n\u001b[32m    103\u001b[39m     query_embedding = \u001b[38;5;28mself\u001b[39m.model.encode([query]).tolist()\n",
      "\u001b[36mFile \u001b[39m\u001b[32mc:\\Users\\Wizard\\AppData\\Local\\Programs\\Python\\Python311\\Lib\\site-packages\\chromadb\\api\\models\\Collection.py:43\u001b[39m, in \u001b[36mCollection.count\u001b[39m\u001b[34m(self)\u001b[39m\n\u001b[32m     36\u001b[39m \u001b[38;5;28;01mdef\u001b[39;00m\u001b[38;5;250m \u001b[39m\u001b[34mcount\u001b[39m(\u001b[38;5;28mself\u001b[39m) -> \u001b[38;5;28mint\u001b[39m:\n\u001b[32m     37\u001b[39m \u001b[38;5;250m    \u001b[39m\u001b[33;03m\"\"\"The total number of embeddings added to the database\u001b[39;00m\n\u001b[32m     38\u001b[39m \n\u001b[32m     39\u001b[39m \u001b[33;03m    Returns:\u001b[39;00m\n\u001b[32m     40\u001b[39m \u001b[33;03m        int: The total number of embeddings added to the database\u001b[39;00m\n\u001b[32m     41\u001b[39m \n\u001b[32m     42\u001b[39m \u001b[33;03m    \"\"\"\u001b[39;00m\n\u001b[32m---> \u001b[39m\u001b[32m43\u001b[39m     \u001b[38;5;28;01mreturn\u001b[39;00m \u001b[38;5;28;43mself\u001b[39;49m\u001b[43m.\u001b[49m\u001b[43m_client\u001b[49m\u001b[43m.\u001b[49m\u001b[43m_count\u001b[49m\u001b[43m(\u001b[49m\n\u001b[32m     44\u001b[39m \u001b[43m        \u001b[49m\u001b[43mcollection_id\u001b[49m\u001b[43m=\u001b[49m\u001b[38;5;28;43mself\u001b[39;49m\u001b[43m.\u001b[49m\u001b[43mid\u001b[49m\u001b[43m,\u001b[49m\n\u001b[32m     45\u001b[39m \u001b[43m        \u001b[49m\u001b[43mtenant\u001b[49m\u001b[43m=\u001b[49m\u001b[38;5;28;43mself\u001b[39;49m\u001b[43m.\u001b[49m\u001b[43mtenant\u001b[49m\u001b[43m,\u001b[49m\n\u001b[32m     46\u001b[39m \u001b[43m        \u001b[49m\u001b[43mdatabase\u001b[49m\u001b[43m=\u001b[49m\u001b[38;5;28;43mself\u001b[39;49m\u001b[43m.\u001b[49m\u001b[43mdatabase\u001b[49m\u001b[43m,\u001b[49m\n\u001b[32m     47\u001b[39m \u001b[43m    \u001b[49m\u001b[43m)\u001b[49m\n",
      "\u001b[36mFile \u001b[39m\u001b[32mc:\\Users\\Wizard\\AppData\\Local\\Programs\\Python\\Python311\\Lib\\site-packages\\chromadb\\api\\rust.py:338\u001b[39m, in \u001b[36mRustBindingsAPI._count\u001b[39m\u001b[34m(self, collection_id, tenant, database)\u001b[39m\n\u001b[32m    331\u001b[39m \u001b[38;5;129m@override\u001b[39m\n\u001b[32m    332\u001b[39m \u001b[38;5;28;01mdef\u001b[39;00m\u001b[38;5;250m \u001b[39m\u001b[34m_count\u001b[39m(\n\u001b[32m    333\u001b[39m     \u001b[38;5;28mself\u001b[39m,\n\u001b[32m   (...)\u001b[39m\u001b[32m    336\u001b[39m     database: \u001b[38;5;28mstr\u001b[39m = DEFAULT_DATABASE,\n\u001b[32m    337\u001b[39m ) -> \u001b[38;5;28mint\u001b[39m:\n\u001b[32m--> \u001b[39m\u001b[32m338\u001b[39m     \u001b[38;5;28;01mreturn\u001b[39;00m \u001b[38;5;28;43mself\u001b[39;49m\u001b[43m.\u001b[49m\u001b[43mbindings\u001b[49m\u001b[43m.\u001b[49m\u001b[43mcount\u001b[49m\u001b[43m(\u001b[49m\u001b[38;5;28;43mstr\u001b[39;49m\u001b[43m(\u001b[49m\u001b[43mcollection_id\u001b[49m\u001b[43m)\u001b[49m\u001b[43m,\u001b[49m\u001b[43m \u001b[49m\u001b[43mtenant\u001b[49m\u001b[43m,\u001b[49m\u001b[43m \u001b[49m\u001b[43mdatabase\u001b[49m\u001b[43m)\u001b[49m\n",
      "\u001b[31mNotFoundError\u001b[39m: Collection [f5ac716d-72d6-4bbf-95f6-176837ad59b3] does not exist."
     ]
    }
   ],
   "source": [
    "query = \"What is the capital of France?\"\n",
    "print(f\"Testing retrieval for: '{query}'\\n\")\n",
    "\n",
    "retrieved_docs = rag_engine.retrieve_relevant_documents(query, k=3)\n",
    "\n",
    "pjson(retrieved_docs)"
   ]
  },
  {
   "cell_type": "markdown",
   "metadata": {},
   "source": [
    "## 5. Feature 4: RAG Engine - Generation (Single-Turn)\n",
    "\n",
    "Test the full `generate_response` pipeline. We'll test both our uploaded document and the crawled content."
   ]
  },
  {
   "cell_type": "code",
   "execution_count": null,
   "metadata": {},
   "outputs": [],
   "source": [
    "display(Markdown(\"### Test 1: Query from Uploaded Document\"))\n",
    "query1 = \"What is Paris known for?\"\n",
    "print(f\"Testing generation for: '{query1}'\\n\")\n",
    "response1 = rag_engine.generate_response(query1)\n",
    "pjson(response1)\n",
    "\n",
    "display(Markdown(\"\\n### Test 2: Query from Crawled Webpage\"))\n",
    "query2 = \"What is bread?\"\n",
    "print(f\"Testing generation for: '{query2}'\\n\")\n",
    "response2 = rag_engine.generate_response(query2)\n",
    "pjson(response2)"
   ]
  },
  {
   "cell_type": "markdown",
   "metadata": {},
   "source": [
    "## 6. Feature 5: RAG Engine - Chat Mode (Multi-Turn)\n",
    "\n",
    "Test the `chat_mode` function to see if it can handle history and use context correctly. We will also test its ability to *not* answer questions when the information isn't in the context."
   ]
  },
  {
   "cell_type": "code",
   "execution_count": null,
   "metadata": {},
   "outputs": [],
   "source": [
    "chat_history = []\n",
    "\n",
    "display(Markdown(\"### Chat Turn 1: Initial Question (from context)\"))\n",
    "query1 = \"What is the capital of Germany?\"\n",
    "print(f\"HUMAN: {query1}\")\n",
    "response1 = rag_engine.chat_mode(query1, chat_history)\n",
    "print(f\"ASSISTANT: {response1['answer']}\")\n",
    "\n",
    "# Add to history\n",
    "chat_history.append({'human': query1, 'assistant': response1['answer']})\n",
    "\n",
    "display(Markdown(\"\\n### Chat Turn 2: Follow-up (NOT in context)\"))\n",
    "query2 = \"How many people live there?\"\n",
    "print(f\"HUMAN: {query2}\")\n",
    "response2 = rag_engine.chat_mode(query2, chat_history)\n",
    "print(f\"ASSISTANT: {response2['answer']}\")\n",
    "\n",
    "# Add to history\n",
    "chat_history.append({'human': query2, 'assistant': response2['answer']})\n",
    "\n",
    "display(Markdown(\"\\n### Chat Turn 3: New Topic (from context)\"))\n",
    "query3 = \"What is the Eiffel Tower?\"\n",
    "print(f\"HUMAN: {query3}\")\n",
    "response3 = rag_engine.chat_mode(query3, chat_history)\n",
    "print(f\"ASSISTANT: {response3['answer']}\")\n"
   ]
  },
  {
   "cell_type": "markdown",
   "metadata": {},
   "source": [
    "## 7. Feature 6: Knowledge Graph\n",
    "\n",
    "Finally, we'll test the Knowledge Graph builder by feeding it all the documents we've ingested. This may take a moment."
   ]
  },
  {
   "cell_type": "code",
   "execution_count": null,
   "metadata": {},
   "outputs": [],
   "source": [
    "display(Markdown(\"### Building Knowledge Graph...\"))\n",
    "\n",
    "kg_builder = KnowledgeGraphBuilder()\n",
    "\n",
    "# 1. Get all documents from the vector store\n",
    "all_docs = rag_engine.get_all_documents_for_kg()\n",
    "print(f\"Building KG from {len(all_docs)} total document chunks.\")\n",
    "\n",
    "# 2. Extract entities and relationships\n",
    "kg_stats = kg_builder.extract_entities_and_relationships(all_docs)\n",
    "print(\"\\n--- Knowledge Graph Stats ---\")\n",
    "pjson(kg_stats)\n",
    "\n",
    "# 3. Visualize the graph\n",
    "if kg_stats.get('graph_nodes', 0) > 0:\n",
    "    display(Markdown(\"### Interactive Knowledge Graph Visualization\"))\n",
    "    fig = kg_builder.visualize_graph_plotly()\n",
    "    display(fig)\n",
    "else:\n",
    "    print(\"No nodes found for KG visualization.\")"
   ]
  },
  {
   "cell_type": "markdown",
   "metadata": {},
   "source": [
    "## 8. Cleanup\n",
    "\n",
    "You can now manually delete the `chroma_db_store` and `logs` directories if you wish."
   ]
  },
  {
   "cell_type": "code",
   "execution_count": null,
   "metadata": {},
   "outputs": [],
   "source": [
    "print(\"Test complete. Remember to delete 'chroma_db_store' and 'logs' if you want a fresh start next time.\")"
   ]
  }
 ],
 "metadata": {
  "kernelspec": {
   "display_name": "Python 3",
   "language": "python",
   "name": "python3"
  },
  "language_info": {
   "codemirror_mode": {
    "name": "ipython",
    "version": 3
   },
   "file_extension": ".py",
   "mimetype": "text/x-python",
   "name": "python",
   "nbconvert_exporter": "python",
   "pygments_lexer": "ipython3",
   "version": "3.11.9"
  }
 },
 "nbformat": 4,
 "nbformat_minor": 4
}
