{
 "cells": [
  {
   "cell_type": "markdown",
   "metadata": {},
   "source": [
    "# RAG 2.0 Feature Test Notebook\n",
    "\n",
    "This notebook will test all major components of the RAG application. \n",
    "\n",
    "### ⚠️ Prerequisites\n",
    "\n",
    "1.  **Run from `RAG/` directory:** This notebook *must* be saved in your main `RAG/` project folder to resolve the imports correctly.\n",
    "2.  **`.env` File:** Ensure you have a `.env` file in the `RAG/` directory with your `HF_API_TOKEN` and other settings.\n",
    "3.  **Dependencies:** Make sure you have run `pip install -r requirements.txt` and `pip install jupyter notebook` in your virtual environment.\n",
    "4.  **Clean Database:** For a clean test, stop any running apps and delete your old database directory:\n",
    "    * **Windows (PowerShell):** `Remove-Item -Path .\\\\chroma_db_store -Recurse -Force`\n",
    "    * **macOS/Linux:** `rm -rf ./chroma_db_store`"
   ]
  },
  {
   "cell_type": "code",
   "execution_count": 1,
   "metadata": {},
   "outputs": [
    {
     "name": "stdout",
     "output_type": "stream",
     "text": [
      "2025-10-23 13:16:32,994 - RAG_App - INFO - Loading configuration...\n",
      "2025-10-23 13:16:32,995 - RAG_App - INFO - Configuration validated successfully.\n",
      "2025-10-23 13:16:33,965 - faiss.loader - INFO - Loading faiss with AVX512 support.\n",
      "2025-10-23 13:16:33,966 - faiss.loader - INFO - Could not load library with AVX512 support due to:\n",
      "ModuleNotFoundError(\"No module named 'faiss.swigfaiss_avx512'\")\n",
      "2025-10-23 13:16:33,966 - faiss.loader - INFO - Loading faiss with AVX2 support.\n",
      "2025-10-23 13:16:34,145 - faiss.loader - INFO - Successfully loaded faiss with AVX2 support.\n"
     ]
    },
    {
     "name": "stderr",
     "output_type": "stream",
     "text": [
      "c:\\Users\\Wizard\\AppData\\Local\\Programs\\Python\\Python311\\Lib\\site-packages\\tqdm\\auto.py:21: TqdmWarning: IProgress not found. Please update jupyter and ipywidgets. See https://ipywidgets.readthedocs.io/en/stable/user_install.html\n",
      "  from .autonotebook import tqdm as notebook_tqdm\n"
     ]
    },
    {
     "name": "stdout",
     "output_type": "stream",
     "text": [
      "2025-10-23 13:17:00,624 - datasets - INFO - TensorFlow version 2.20.0 available.\n",
      "2025-10-23 13:17:00,625 - datasets - INFO - JAX version 0.7.2 available.\n",
      "2025-10-23 13:17:04,524 - tensorflow - WARNING - From c:\\Users\\Wizard\\AppData\\Local\\Programs\\Python\\Python311\\Lib\\site-packages\\tf_keras\\src\\losses.py:2976: The name tf.losses.sparse_softmax_cross_entropy is deprecated. Please use tf.compat.v1.losses.sparse_softmax_cross_entropy instead.\n",
      "\n"
     ]
    }
   ],
   "source": [
    "import os\n",
    "import io\n",
    "import sys\n",
    "import json\n",
    "from IPython.display import display, Markdown\n",
    "import plotly.io as pio\n",
    "\n",
    "# Set Plotly to dark mode for the notebook\n",
    "pio.templates.default = \"plotly_dark\"\n",
    "\n",
    "# Import all our application modules\n",
    "from config import Config, IS_CONFIG_VALID\n",
    "from logger import logger\n",
    "from core.rag_engine import RAGEngine\n",
    "from ingestion.document_processor import DocumentProcessor\n",
    "from ingestion.web_crawler import WebCrawler\n",
    "from core.knowledge_graph import KnowledgeGraphBuilder\n",
    "\n",
    "def pjson(data):\n",
    "    \"\"\"Helper function to pretty-print JSON.\"\"\"\n",
    "    print(json.dumps(data, indent=2))"
   ]
  },
  {
   "cell_type": "markdown",
   "metadata": {},
   "source": [
    "## 1. Configuration & Setup\n",
    "\n",
    "This cell checks if the `.env` config is valid and initializes the main `RAGEngine`. It will also clear any existing vector store to ensure a clean test."
   ]
  },
  {
   "cell_type": "code",
   "execution_count": 2,
   "metadata": {},
   "outputs": [
    {
     "name": "stdout",
     "output_type": "stream",
     "text": [
      "2025-10-23 13:17:07,024 - RAG_App - INFO - Configuration is valid.\n",
      "LLM Provider: featherless-ai\n",
      "LLM Model: inclusionAI/Ling-1T\n",
      "Vector Store: chroma\n",
      "2025-10-23 13:17:07,025 - RAG_App - INFO - Initializing RAGEngine...\n",
      "2025-10-23 13:17:07,025 - RAG_App - INFO - Initializing ChromaVectorStore at ./chroma_db_store\n",
      "2025-10-23 13:17:07,064 - chromadb.telemetry.product.posthog - INFO - Anonymized telemetry enabled. See                     https://docs.trychroma.com/telemetry for more information.\n"
     ]
    },
    {
     "name": "stderr",
     "output_type": "stream",
     "text": [
      "2025-10-23 13:17:07.239 WARNING streamlit.runtime.scriptrunner_utils.script_run_context: Thread 'MainThread': missing ScriptRunContext! This warning can be ignored when running in bare mode.\n",
      "2025-10-23 13:17:07.502 \n",
      "  \u001b[33m\u001b[1mWarning:\u001b[0m to view this Streamlit app on a browser, run it with the following\n",
      "  command:\n",
      "\n",
      "    streamlit run C:\\Users\\Wizard\\AppData\\Roaming\\Python\\Python311\\site-packages\\ipykernel_launcher.py [ARGUMENTS]\n",
      "2025-10-23 13:17:07.503 Thread 'MainThread': missing ScriptRunContext! This warning can be ignored when running in bare mode.\n",
      "2025-10-23 13:17:07.504 Thread 'MainThread': missing ScriptRunContext! This warning can be ignored when running in bare mode.\n",
      "2025-10-23 13:17:07.504 Thread 'MainThread': missing ScriptRunContext! This warning can be ignored when running in bare mode.\n"
     ]
    },
    {
     "name": "stdout",
     "output_type": "stream",
     "text": [
      "2025-10-23 13:17:07,506 - RAG_App - INFO - Loading embedding model: sentence-transformers/all-MiniLM-L6-v2\n",
      "2025-10-23 13:17:07,535 - sentence_transformers.SentenceTransformer - INFO - Use pytorch device_name: cuda:0\n",
      "2025-10-23 13:17:07,536 - sentence_transformers.SentenceTransformer - INFO - Load pretrained SentenceTransformer: sentence-transformers/all-MiniLM-L6-v2\n"
     ]
    },
    {
     "name": "stderr",
     "output_type": "stream",
     "text": [
      "2025-10-23 13:17:08.017 Thread 'Thread-4': missing ScriptRunContext! This warning can be ignored when running in bare mode.\n",
      "2025-10-23 13:17:08.019 Thread 'Thread-4': missing ScriptRunContext! This warning can be ignored when running in bare mode.\n",
      "2025-10-23 13:17:08.019 Thread 'Thread-4': missing ScriptRunContext! This warning can be ignored when running in bare mode.\n",
      "2025-10-23 13:17:13.279 Thread 'MainThread': missing ScriptRunContext! This warning can be ignored when running in bare mode.\n",
      "2025-10-23 13:17:13.279 Thread 'MainThread': missing ScriptRunContext! This warning can be ignored when running in bare mode.\n",
      "2025-10-23 13:17:13.280 Thread 'MainThread': missing ScriptRunContext! This warning can be ignored when running in bare mode.\n"
     ]
    },
    {
     "name": "stdout",
     "output_type": "stream",
     "text": [
      "2025-10-23 13:17:13,312 - RAG_App - INFO - ChromaVectorStore loaded on initialization.\n",
      "2025-10-23 13:17:13,313 - RAG_App - INFO - Vector store loaded successfully.\n",
      "2025-10-23 13:17:13,313 - RAG_App - INFO - RAGEngine initialized with provider featherless-ai and model inclusionAI/Ling-1T\n",
      "2025-10-23 13:17:13,314 - RAG_App - WARNING - Clearing vector store for a clean test...\n",
      "2025-10-23 13:17:13,314 - RAG_App - WARNING - Clearing vector store...\n",
      "2025-10-23 13:17:13,326 - RAG_App - ERROR - Error resetting chroma database: Reset is disabled by config\n",
      "2025-10-23 13:17:13,326 - RAG_App - INFO - Vector store cleared and re-initialized.\n",
      "\n",
      "Vector store cleared.\n"
     ]
    }
   ],
   "source": [
    "if not IS_CONFIG_VALID:\n",
    "    logger.error(\"CRITICAL: .env file is not configured correctly. Please check it.\")\n",
    "else:\n",
    "    logger.info(\"Configuration is valid.\")\n",
    "    print(f\"LLM Provider: {Config.LLM_PROVIDER}\")\n",
    "    print(f\"LLM Model: {Config.LLM_MODEL}\")\n",
    "    print(f\"Vector Store: {Config.VECTOR_STORE_TYPE}\")\n",
    "\n",
    "# Initialize the main engine\n",
    "rag_engine = RAGEngine()\n",
    "\n",
    "# Clear the store for a clean test\n",
    "logger.warning(\"Clearing vector store for a clean test...\")\n",
    "rag_engine.clear_vector_store()\n",
    "print(\"\\nVector store cleared.\")"
   ]
  },
  {
   "cell_type": "markdown",
   "metadata": {},
   "source": [
    "## 2. Feature 1: Document Ingestion\n",
    "\n",
    "We will create two dummy `.txt` files, process them, and add them to the `RAGEngine`."
   ]
  },
  {
   "cell_type": "code",
   "execution_count": 3,
   "metadata": {},
   "outputs": [
    {
     "name": "stdout",
     "output_type": "stream",
     "text": [
      "2025-10-23 13:17:13,336 - RAG_App - INFO - DocumentProcessor initialized.\n",
      "2025-10-23 13:17:13,336 - RAG_App - INFO - Processing file: test_paris.txt\n",
      "2025-10-23 13:17:13,336 - RAG_App - INFO - Successfully processed test_paris.txt, created 1 chunks.\n",
      "2025-10-23 13:17:13,337 - RAG_App - INFO - Processing file: test_berlin.txt\n",
      "2025-10-23 13:17:13,337 - RAG_App - INFO - Successfully processed test_berlin.txt, created 1 chunks.\n",
      "DocumentProcessor created 2 chunks from 2 files.\n",
      "2025-10-23 13:17:13,339 - RAG_App - INFO - Adding 2 documents to Chroma...\n"
     ]
    },
    {
     "name": "stderr",
     "output_type": "stream",
     "text": [
      "Batches: 100%|██████████| 1/1 [00:00<00:00,  1.78it/s]"
     ]
    },
    {
     "name": "stdout",
     "output_type": "stream",
     "text": [
      "2025-10-23 13:17:13,971 - RAG_App - INFO - Document addition to Chroma complete.\n",
      "2025-10-23 13:17:13,971 - RAG_App - INFO - ChromaVectorStore is persistent. No explicit save needed.\n",
      "\n",
      "--- Vector Store Stats after Document Ingestion ---\n",
      "{\n",
      "  \"total_documents\": 2,\n",
      "  \"index_size\": 2,\n",
      "  \"dimension\": 384,\n",
      "  \"model\": \"sentence-transformers/all-MiniLM-L6-v2\",\n",
      "  \"type\": \"Chroma\"\n",
      "}\n"
     ]
    },
    {
     "name": "stderr",
     "output_type": "stream",
     "text": [
      "\n"
     ]
    }
   ],
   "source": [
    "# 1. Create dummy files\n",
    "mock_files_data = [\n",
    "    {\n",
    "        'name': 'test_paris.txt',\n",
    "        'type': 'text/plain',\n",
    "        'data': b\"The capital of France is Paris. Paris is known for the Eiffel Tower, the Louvre Museum, and its beautiful cafes. It is a major center for art and culture.\"\n",
    "    },\n",
    "    {\n",
    "        'name': 'test_berlin.txt',\n",
    "        'type': 'text/plain',\n",
    "        'data': b\"Berlin is the capital of Germany. It is famous for the Brandenburg Gate and the remains of the Berlin Wall. It has a vibrant nightlife and tech scene.\"\n",
    "    }\n",
    "]\n",
    "\n",
    "# 2. Process files\n",
    "processor = DocumentProcessor()\n",
    "processed_docs = processor.process_uploaded_files(mock_files_data)\n",
    "\n",
    "print(f\"DocumentProcessor created {len(processed_docs)} chunks from {len(mock_files_data)} files.\")\n",
    "\n",
    "# 3. Add to RAG Engine\n",
    "rag_engine.add_documents(processed_docs)\n",
    "\n",
    "# 4. Check stats\n",
    "stats = rag_engine.get_vector_store_stats()\n",
    "print(\"\\n--- Vector Store Stats after Document Ingestion ---\")\n",
    "pjson(stats)"
   ]
  },
  {
   "cell_type": "markdown",
   "metadata": {},
   "source": [
    "## 3. Feature 2: Web Crawling\n",
    "\n",
    "We will crawl a simple, text-heavy webpage and add the content to the RAG Engine."
   ]
  },
  {
   "cell_type": "code",
   "execution_count": 4,
   "metadata": {},
   "outputs": [
    {
     "name": "stdout",
     "output_type": "stream",
     "text": [
      "Starting crawl for https://en.wikipedia.org/wiki/Bread...\n",
      "2025-10-23 13:17:13,985 - RAG_App - INFO - Starting crawl 1/1 for root URL: https://en.wikipedia.org/wiki/Bread\n",
      "2025-10-23 13:17:13,985 - RAG_App - INFO - Crawling (Depth 0): https://en.wikipedia.org/wiki/Bread\n",
      "2025-10-23 13:17:15,518 - RAG_App - INFO - Crawling (Depth 1): https://en.wikipedia.org/wiki/Lactic_acid\n",
      "2025-10-23 13:17:16,232 - RAG_App - INFO - Crawl complete. Fetched 2 total pages.\n",
      "WebCrawler found 2 relevant pages.\n",
      "2025-10-23 13:17:16,233 - RAG_App - INFO - Adding 2 documents to Chroma...\n"
     ]
    },
    {
     "name": "stderr",
     "output_type": "stream",
     "text": [
      "Batches: 100%|██████████| 1/1 [00:00<00:00, 46.75it/s]"
     ]
    },
    {
     "name": "stdout",
     "output_type": "stream",
     "text": [
      "2025-10-23 13:17:16,273 - RAG_App - INFO - Document addition to Chroma complete.\n",
      "2025-10-23 13:17:16,273 - RAG_App - INFO - ChromaVectorStore is persistent. No explicit save needed.\n",
      "\n",
      "--- Vector Store Stats after Web Crawl ---\n",
      "{\n",
      "  \"total_documents\": 4,\n",
      "  \"index_size\": 4,\n",
      "  \"dimension\": 384,\n",
      "  \"model\": \"sentence-transformers/all-MiniLM-L6-v2\",\n",
      "  \"type\": \"Chroma\"\n",
      "}\n"
     ]
    },
    {
     "name": "stderr",
     "output_type": "stream",
     "text": [
      "\n"
     ]
    }
   ],
   "source": [
    "crawler = WebCrawler()\n",
    "urls_to_crawl = [\"https://en.wikipedia.org/wiki/Bread\"]\n",
    "context = \"baking, history, flour\"\n",
    "max_pages = 2\n",
    "max_depth = 1 # 0 = root page, 1 = root + its links\n",
    "\n",
    "print(f\"Starting crawl for {urls_to_crawl[0]}...\")\n",
    "crawled_content = crawler.crawl_root_urls(urls_to_crawl, context, max_pages, max_depth)\n",
    "\n",
    "print(f\"WebCrawler found {len(crawled_content)} relevant pages.\")\n",
    "\n",
    "if crawled_content:\n",
    "    # Add to RAG Engine\n",
    "    rag_engine.add_documents(crawled_content)\n",
    "    \n",
    "    # Check stats again\n",
    "    stats = rag_engine.get_vector_store_stats()\n",
    "    print(\"\\n--- Vector Store Stats after Web Crawl ---\")\n",
    "    pjson(stats)\n",
    "else:\n",
    "    print(\"Skipping web crawl addition, no content found.\")"
   ]
  },
  {
   "cell_type": "markdown",
   "metadata": {},
   "source": [
    "## 4. Feature 3: RAG Engine - Retrieval\n",
    "\n",
    "Test the `retrieve_relevant_documents` function. The top result should be from `test_paris.txt`."
   ]
  },
  {
   "cell_type": "code",
   "execution_count": 5,
   "metadata": {},
   "outputs": [
    {
     "name": "stdout",
     "output_type": "stream",
     "text": [
      "Testing retrieval for: 'What is the capital of France?'\n",
      "\n"
     ]
    },
    {
     "name": "stderr",
     "output_type": "stream",
     "text": [
      "Batches: 100%|██████████| 1/1 [00:00<00:00, 26.64it/s]"
     ]
    },
    {
     "name": "stdout",
     "output_type": "stream",
     "text": [
      "[\n",
      "  {\n",
      "    \"document\": \"The capital of France is Paris. Paris is known for the Eiffel Tower, the Louvre Museum, and its beautiful cafes. It is a major center for art and culture.\",\n",
      "    \"metadata\": {\n",
      "      \"file_type\": \"text/plain\",\n",
      "      \"source\": \"upload\",\n",
      "      \"chunk_id\": 0,\n",
      "      \"filename\": \"test_paris.txt\"\n",
      "    },\n",
      "    \"score\": 0.689079999923706\n",
      "  },\n",
      "  {\n",
      "    \"document\": \"Berlin is the capital of Germany. It is famous for the Brandenburg Gate and the remains of the Berlin Wall. It has a vibrant nightlife and tech scene.\",\n",
      "    \"metadata\": {\n",
      "      \"filename\": \"test_berlin.txt\",\n",
      "      \"source\": \"upload\",\n",
      "      \"chunk_id\": 0,\n",
      "      \"file_type\": \"text/plain\"\n",
      "    },\n",
      "    \"score\": 0.2829338312149048\n",
      "  },\n",
      "  {\n",
      "    \"document\": \"Bread - Wikipedia Jump to content From Wikipedia, the free encyclopedia Food made of flour and water For other uses, see Bread (disambiguation). BreadVarious leavened breadsMain ingredientsFlour, water Cookbook: Bread\\u00a0 Media: Bread Bread is a baked food product made from water, flour, and often yeast. Throughout recorded history and around the world, it has been an important part of many cultures' diets. baking soda), industrially produced yeast, or high-pressure aeration, which creates the gas bubbles that fluff up bread. [4] The Russo-Ukrainian War has made sourcing wheat flour more challenging and raised concerns of bread flour fraud. [5] History Main article: History of bread Bread is one of the oldest prepared foods. [10] Woman baking bread (c. The Egyptians refined the process and started adding yeast to the flour. Parts of the ancient world that drank wine instead of beer used a paste composed of grape juice and flour that was allowed to begin fermenting, or wheat bran steeped in wine, as a source for yeast. [14][15][16] Types Main article: List of breads Brown bread (left) and whole grain breadDark sprouted breadRuisreik\\u00e4leip\\u00e4, a flat rye flour loaf with a hole Bread is the staple food of the Middle East, Central Asia, North Africa, Europe, and in European-derived cultures such as those in the Americas, Australia, and Southern Africa. Bread is usually made from a wheat-flour dough that is cultured with yeast, allowed to rise, and baked in an oven. [18] Bread is also made from the flour of other wheat species (including spelt, emmer, einkorn and kamut). [19] Non-wheat cereals including rye, barley, maize (corn), oats, sorghum, millet and rice have been used to make bread, but, with the exception of rye, usually in combination with wheat flour as they have less gluten. [20] Gluten-free breads are made using flours from a variety of ingredients such as almonds, rice, sorghum, corn, legumes such as beans, and tubers such as cassava. Some flours (for example, spelt, emmer and einkorn) contain fewer FODMAPs, but the difference between grain types is relatively small (between 1 and 2 percent by weight). The study thus shows that it is essentially the baking technique and not the type of grain that determines whether a bread is well tolerated or not. A better tolerance of bread made from original cereals can therefore not be explained by the original cereal itself, but rather by the fact that traditional, artisanal baking techniques are generally used when baking original cereals, which include a long dough process. Salt, fat and leavening agents such as yeast and baking soda are common ingredients, though bread may contain other ingredients, such as milk, egg, sugar, spice, fruit (such as raisins), vegetables (such as onion), nuts (such as walnut) or seeds (such as poppy). Formulation Baking bread in East Timor Professional bread recipes are stated using the baker's percentage notation. The amount of flour is denoted to be 100%, and the other ingredients are expressed as a percentage of that amount by weight. The proportion of water to flour is the most important measurement in a bread recipe, as it affects texture and crumb the most. Hard wheat flours absorb about 62% water, while softer wheat flours absorb about 56%. 1 pounds) of flour, which yields a single loaf of bread or two baguettes. [43] Flour Main article: Flour Flour is grain ground into a powder. Flour provides the primary structure, starch and protein to the final baked bread. The protein content of the flour is the best indicator of the quality of the bread dough and the finished bread. While bread can be made from all-purpose wheat flour, a specialty bread flour, containing more protein (12\\u201314%), is recommended for high-quality bread. If one uses a flour with a lower protein content (9\\u201311%) to produce bread, a shorter mixing time is required to develop gluten strength properly. [44] Wheat flour, in addition to its starch, contains three water-soluble protein groups (albumin, globulin, and proteoses) and two water-insoluble protein groups (glutenin and gliadin). When flour is mixed with water, the water-soluble proteins dissolve, leaving the glutenin and gliadin to form the structure of the resulting bread. [45] Fortification Processing of flours usually involves removal of the outer layers, which contain important nutrients. Such flours, and bread made from them, may be fortified by adding nutrients. Fortification with added calcium, iron, thiamine (Vitamin B1) and niacin (Vitamin B3) is a legal requirement in the UK (wholemeal flours, from which the nutrients have not been stripped, are exempt). [46] The unregulated term \\\"wheatmeal\\\" is used to describe flour containing some but not all of the outer covering and central part of the wheat grain. [47] Liquids Water, or some other liquid, is used to form the flour into a paste or dough. The weight or ratio of liquid required varies between recipes, but a ratio of three parts liquid to five parts flour is common for yeast breads. [48] Recipes that use steam as the primary leavening method may have a liquid content in excess of one part liquid to one part flour. Leavening See also: Unleavened bread A dough trough, located in Aberdour Castle, once used for leavening bread Leavening is the process of adding gas to a dough before or during baking to produce a lighter, more easily chewed bread. The first is to use baking powder or a self-raising flour that includes baking powder. The second is to include an acidic ingredient such as buttermilk and add baking soda; the reaction of the acid with the soda produces gas. Water is mixed with flour, salt and the leavening agent. [54] Many breads are made from a \\\"straight dough\\\", which means that all of the ingredients are combined in one step, and the dough is baked after the rising time;[54] others are made from a \\\"pre-ferment\\\" in which the leavening agent is combined with some of the flour and water a day or so ahead of baking and allowed to ferment overnight. On the day of baking, the rest of the ingredients are added, and the process continues as with straight dough. Most yeasted pre-ferments fall into one of three categories: \\\"poolish\\\" or \\\"pouliche\\\", a loose-textured mixture composed of roughly equal amounts of flour and water (by weight); \\\"biga\\\", a stiff mixture with a higher proportion of flour; and \\\"p\\u00e2te ferment\\u00e9e\\\", which is a portion of dough reserved from a previous batch. The starter cultivates yeast and lactobacilli in a mixture of flour and water, making use of the microorganisms already present on flour; it does not need any added yeast. A starter may be maintained indefinitely by regular additions of flour and water. [54] Steam The rapid expansion of steam produced during baking leavens the bread, which is as simple as it is unpredictable. Steam leavening happens regardless of the raising agents (baking soda, yeast, baking powder, sour dough, beaten egg white) included in the mix. [65] The Pressure-Vacuum mixer was later developed by the Flour Milling and Baking Research Association for the Chorleywood bread process. [66] Cultural significance Main article: Bread in culture A Ukrainian woman in national dress welcoming with bread and salt Bread has a significance beyond mere nutrition in many cultures because of its history and contemporary importance. [80] See also Food portal Bark bread\\u00a0\\u2013 Scandinavian bread used as famine food Bread bowl\\u00a0\\u2013 Bowl made of bread Bread clip\\u00a0\\u2013 Closure device for plastic bags Breading\\u00a0\\u2013 Residue of dried breadPages displaying short descriptions of redirect targets Bread machine\\u00a0\\u2013 Type of home appliance for baking bread Bread pan\\u00a0\\u2013 Kitchen utensil Crouton\\u00a0\\u2013 Rebaked bread used as toppings List of breads List of bread dishes\\u00a0\\u2013 Dishes using bread as a main ingredient, listed by category List of toast dishes Quick bread\\u00a0\\u2013 Bread leavened with agents other than yeast Sliced bread\\u00a0\\u2013 Loaf of bread pre-sliced with a machine Slow Bread\\u00a0\\u2013 Type of bread made using very little yeast Sop\\u00a0\\u2013 Bread soaked in liquid and eaten Stuffing\\u00a0\\u2013 Edible mixture filling a food's cavity White bread\\u00a0\\u2013 Type of bread made from white wheat flour References ^ a b Harper, Douglas. The Paths of History. ^ \\\"Looking for fraud in wheat flour\\\". dicoccum) flour and breads. 2011), Flour and Breads and their Fortification in Health and Disease Prevention, Academic Press, California, pp. Food in History. Natural History. uk: \\\"History of bread \\u2013 20th century\\\"\\\". \\\"Effect of wheat variety, farming site, and bread-baking on total phenolics\\\". \\\"Effects of Asparagine, Fructose, and Baking Conditions on Acrylamide Content in Yeast-Leavened Wheat Bread\\\". A high gluten white flour will require more mix time than a white flour with a lower gluten content,. ^ \\\"Bread and Flour Regulations\\\". UK Flour Millers. ^ \\\"Yeast & Baking Lessongs. ^ \\\"Artisan bread baking tips: Poolish & biga\\\". King Arthur Flour. An example Further reading Kaplan, Steven Laurence: Good Bread Is Back: A Contemporary History of French Bread, the Way It Is Made, and the People Who Make It. ISBN\\u00a0978-0-8223-3833-8 Jacob, Heinrich Eduard: Six Thousand Years of Bread: Its Holy and Unholy History. The food chronology: a food lover's compendium of events and anecdotes from prehistory to the present. \\\"Brewing and baking\\\". Baking Science & Technology 3rd Ed. Bread and confectionery travel guide from Wikivoyage vteBreadTypes Bark bread Brown bread Beer bread Bun Flatbread Hearth bread Multigrain Quick Rye bread Salt-rising Sandwich bread Soda bread Sourdough Sprouted Unleavened White bread Whole wheat Ingredients Baker's yeast Barm Calcium propanoate Dough conditioner Eggs Fat Flour Leavening agent Milk Salt Shortening Sugar Water Equipment Oven Alveograph Bread machine Bread pan Dough scraper Farinograph Lame Peel Stand mixer Warmer Toaster Weighing scales Processes andtechniques Autolysis Baking Biga Chorleywood bread process Kneading Leavening Maillard reaction No-knead bread Proofing Pre-ferment Pre-slicing Sponge and dough Steaming Straight dough Vienna process Uses Beer from bread Breadcrumbs Bread bowl Bread pakora Bread pudding Croutons French toast Rusks Stuffing Sandwiches Toast Other Bakery Breadmaking Baker percentage Bread and salt Bread in Europe Bread clip History of bread List articles American breads Brand name breads Bread dishes Bread rolls British breads Buns French breads Indian breads Pakistani breads Quick breads Sourdough breads Sweet breads Swiss breads Toast dishes Category vteWheatTypes Common Marquis Norin 10 Red Fife Winter wheat Durum Einkorn Emmer Khorasan Spelt Agronomy Wheat diseases list Wheat mildew Hessian fly Trade Australian Wheat Board Canadian Wheat Board Corn exchange Exports International Wheat Council Peak wheat Production statistics Protein premium Wheat pools in Canada Plant parts and their uses Stalk Straw Seed Bran Germ Chaff (husk) Endosperm Gluten Sprouts Basic preparation None Berries or groats Milling Farina Flour Middlings Semolina Parboiling Bulgur As an ingredient Bread Couscous Cracker Flatbread Pasta Wheat beer Wheat germ oil Wheat gluten Associated human diseases Anaphylaxis Gluten-related disorders coeliac disease non-celiac gluten sensitivity wheat allergy dermatitis herpetiformis ataxia Related concepts Bread riot Plant breeding Refined grains Staple food Wheatpaste Whole grain Shattering Tell Abu Hureyra Tell Aswad Category vteCereals and pseudocerealsCereals Barley Fonio Job's tears Maize (Corn) Millets Oats Rice Rye Sorghum Teff Triticale Wild rice Wheat (Triticum) Bread Durum Khorasan Red Fife Norin 10 Winter Farro Einkorn Emmer Spelt PseudocerealsPolygonaceae Buckwheat Tartary buckwheat AmaranthaceaeAmaranth A. hypochondriacus Celosia Quinoa Pitseed goosefoot Ca\\u00f1ihua Djulis Lamiaceae Chia Emerging grain crops Canary grass Drinn Indian ricegrass Intermediate wheatgrass Kangaroo grass Nipa grass Oryza coarctata See also Triticeae Founder crops Neolithic Revolution History of agriculture Natufian culture Fertile Crescent Tell Abu Hureyra Tell Aswad Domestication Green Revolution Genetic engineering Selective breeding Crop wild relative vteCuisinesContinentalAfrican North West list Americas Caribbean North South list Asian Caucasian Central Levantine South North Indian South Indian list European Balkan Central Eastern Caucasian list Oceanian Australian New Zealander Intercontinental Global Latin American Mediterranean Middle Eastern National and(regional) Afghan Albanian Algerian American Puerto Rican Angolan Antarctic Argentine Armenian Australian Austrian Azerbaijani Bahraini Bangladeshi Barbadian Belarusian Belgian Belizean Beninese Bhutanese Bolivian Bosnian-Herzegovinian Botswana Brazilian British Anguillia Channel Islands English Gibraltarian Northern Irish Saint Helena Scottish Welsh Bruneian Bulgarian Burkinab\\u00e9 Burmese Burundian Cambodian Cameroonian Canadian Acadian Qu\\u00e9b\\u00e9cois Central African Republic Chadian Chilean Chinese Beijing Cantonese Hong Kong Hunan Macanese Shandong Sichuan Tibetan Xinjiang Colombian Congolese Croatian Cuban Cypriot Czech Danish Faroese Greenlandic Djiboutian Dominican Dominican Republic Dutch East Timorese Ecuadorian Egyptian Emirati Equatorial Guinean Eritrean Estonian Ethiopian Fijian Filipino Kapampangan Finnish French Corsican La R\\u00e9union French Guianan Occitan Gabonese Gambian Georgian German Ghanaian Greek Cretan Epirotic Greek Macedonian Heptanesean Guatemalan Guinea-Bissauan Guinean Guyana Haitian Honduran Hungarian Icelandic Indian Andhra Arunachali Assamese Bengali Bihari Chhattisgarhi Goan Gujarati Haryanvi Kashmiri Jharkhandi Karnataka Kerala Maharashtrian Manipuri Meghalayan Mizo Naga Odia Punjabi Rajasthani Sikkimese Sindhi Tamil Telangana Tripuri Uttar Pradesh Uttarakhandi Indonesian Acehnese Balinese Banjar Batak Betawi Gorontalese Indo Javanese Madurese Makassar Minahasan Minangkabau Palembangese Sundanese Iranian Iraqi Irish Israeli Italian Abruzzese Apulian Emilian Ligurian Lombard Lucanian Neapolitan Piedmontese Roman Sardinian Sicilian Tuscan Venetian Ivorian Jamaican Japanese Okinawan Jordanian Kazakh Kenyan Korean North Korean South Korean Kosovan Kuwaiti Kyrgyz Lao Latvian Lebanese Lesotho Liberian Libyan Liechtensteiner Lithuanian Luxembourgish Macedonian Malagasy Malawian Malaysian Sabahan Sarawakian Maldivian Malian Maltese Marshallese Mauritanian Mauritian Mexican Moldovan Mon\\u00e9gasque Mongolian Montenegrin Moroccan Mozambican Namibian Nauruan Nepalese New Zealand Nicaraguan Niger Nigerian Niuean Norwegian Omani Pakistani Palestinian Panamanian Papua New Guinean Paraguayan Peruvian Polish Portuguese Qatari Romanian Russian Bashkir Chechen Circassian Cossack Komi Mordovian Sakha Tatar Udmurt Yamal Rwandan Saint Lucian Salvadoran Sammarinese S\\u00e3o Tom\\u00e9 and Pr\\u00edncipe Saudi Arabian Senegalese Serbian Seychellois Sierra Leonean Singaporean Slovak Slovenian Somali South African Spanish Andalusian Asturian Balearic Basque Canarian Cantabrian Catalan Extremaduran Galician Manchegan Valencian Sri Lankan Sudanese Swazi Swedish Swiss Syrian Taiwanese Tajik Tanzanian Zanzibari Thai Togolese Trinidadian and Tobagonian Tunisian Turkish Turkmen Tuvaluan Ugandan Ukrainian Uruguayan Uzbek Vanuatuan Venezuelan Vietnamese Western Saharan Yemeni Zambian Zimbabwean Ethnic African American Ainu Arab Arab-Indonesian Aromanian Assyrian Balochi Berber Buryat Cajun Chinese American Australian British Cambodian Canadian Filipino Indian Indonesian Malaysian Pakistani Peruvian Crimean Tatar Gagauz Greek-American Hausa Hazaragi Hmong Indian English Indonesian Malaysian Indigenous American Indigenous Australian Inuit Italian American Jewish American Ashkenazi Bukharan Ethiopian Mizrahi Moroccan Sephardic Syrian Kurdish Livonian Louisiana Creole Malay Ossetian Parsi Pashtun Pennsylvania Dutch Peranakan Pontic Greek Romani S\\u00e1mi Tejano Transylvanian Saxon Yup'ik Religious Buddhist Christian Goan Catholic Mangalorean Catholic Mennonite Hindu Islamic Chinese Ital Jain Kashrut Kosher food Sikh Historical Ancient Egyptian Ancient Greek Ancient Israelite Ancient Roman Antebellum America Aztec Byzantine Early modern European Historical Argentine Historical Chinese Historical Indian subcontinent Historical Japanese Historical North Indian and Pakistani History of agriculture History of alcoholic drinks History of bread History of seafood History of vegetarianism Hittite Inca Mayan Muisca Mughal Medieval Ottoman Peasant Pre-contact Hawaiian Korean royal court Scottish royal household Soviet Thirteen Colonies Styles Classique Confectionery Fast food Fusion New American Eurasian Haute Molecular gastronomy Note by Note Nouvelle Vegetarian Lists List of cuisines List of historical cuisines Lists of foods Prepared Related Cookbook Cooking Culinary arts Drink Food history sociology specialty Diet Fat Meal Meal preparation Ritual slaughter Category Outline Authority control databases InternationalGNDNationalUnited StatesFranceBnF dataJapanCzech RepublicSpainIsraelOtherNARAYale LUX Retrieved from \\\"https://en\",\n",
      "    \"metadata\": {\n",
      "      \"url\": \"https://en.wikipedia.org/wiki/Bread\",\n",
      "      \"description\": \"\",\n",
      "      \"source\": \"web_crawl\",\n",
      "      \"context\": \"baking, history, flour\",\n",
      "      \"title\": \"Bread - Wikipedia\"\n",
      "    },\n",
      "    \"score\": 0.07703655958175659\n",
      "  }\n",
      "]\n"
     ]
    },
    {
     "name": "stderr",
     "output_type": "stream",
     "text": [
      "\n"
     ]
    }
   ],
   "source": [
    "query = \"What is the capital of France?\"\n",
    "print(f\"Testing retrieval for: '{query}'\\n\")\n",
    "\n",
    "retrieved_docs = rag_engine.retrieve_relevant_documents(query, k=3)\n",
    "\n",
    "pjson(retrieved_docs)"
   ]
  },
  {
   "cell_type": "markdown",
   "metadata": {},
   "source": [
    "## 5. Feature 4: RAG Engine - Generation (Single-Turn)\n",
    "\n",
    "Test the full `generate_response` pipeline. We'll test both our uploaded document and the crawled content."
   ]
  },
  {
   "cell_type": "code",
   "execution_count": 6,
   "metadata": {},
   "outputs": [
    {
     "data": {
      "text/markdown": [
       "### Test 1: Query from Uploaded Document"
      ],
      "text/plain": [
       "<IPython.core.display.Markdown object>"
      ]
     },
     "metadata": {},
     "output_type": "display_data"
    },
    {
     "name": "stdout",
     "output_type": "stream",
     "text": [
      "Testing generation for: 'What is Paris known for?'\n",
      "\n"
     ]
    },
    {
     "name": "stderr",
     "output_type": "stream",
     "text": [
      "Batches: 100%|██████████| 1/1 [00:00<00:00, 199.90it/s]"
     ]
    },
    {
     "name": "stdout",
     "output_type": "stream",
     "text": [
      "2025-10-23 13:17:16,363 - RAG_App - INFO - Generating LLM chat completion for 1 messages...\n"
     ]
    },
    {
     "name": "stderr",
     "output_type": "stream",
     "text": [
      "\n"
     ]
    },
    {
     "name": "stdout",
     "output_type": "stream",
     "text": [
      "2025-10-23 13:17:21,036 - RAG_App - INFO - LLM response received.\n",
      "{\n",
      "  \"answer\": \"Paris is known for the Eiffel Tower, the Louvre Museum, and its beautiful cafes. It is also a major center for art and culture.\",\n",
      "  \"sources\": [\n",
      "    {\n",
      "      \"filename\": \"test_paris.txt\",\n",
      "      \"chunk_id\": 0,\n",
      "      \"source\": \"upload\",\n",
      "      \"file_type\": \"text/plain\"\n",
      "    },\n",
      "    {\n",
      "      \"source\": \"upload\",\n",
      "      \"file_type\": \"text/plain\",\n",
      "      \"chunk_id\": 0,\n",
      "      \"filename\": \"test_berlin.txt\"\n",
      "    },\n",
      "    {\n",
      "      \"description\": \"\",\n",
      "      \"title\": \"Bread - Wikipedia\",\n",
      "      \"context\": \"baking, history, flour\",\n",
      "      \"source\": \"web_crawl\",\n",
      "      \"url\": \"https://en.wikipedia.org/wiki/Bread\"\n",
      "    }\n",
      "  ],\n",
      "  \"confidence\": 0.27571433782577515,\n",
      "  \"context_used\": \"The capital of France is Paris. Paris is known for the Eiffel Tower, the Louvre Museum, and its beautiful cafes. It is a major center for art and culture.\\n\\n---\\n\\nBerlin is the capital of Germany. It is famous for the Brandenburg Gate and the remains of the Berlin Wall. It has a vibrant nightlife and tech scene.\\n\\n---\\n\\nBread - Wikipedia Jump to content From Wikipedia, the free encyclopedia Food made of flour and water For other uses, see Bread (disambiguation). BreadVarious leavened breadsMain ingr...\"\n",
      "}\n"
     ]
    },
    {
     "data": {
      "text/markdown": [
       "\n",
       "### Test 2: Query from Crawled Webpage"
      ],
      "text/plain": [
       "<IPython.core.display.Markdown object>"
      ]
     },
     "metadata": {},
     "output_type": "display_data"
    },
    {
     "name": "stdout",
     "output_type": "stream",
     "text": [
      "Testing generation for: 'What is bread?'\n",
      "\n"
     ]
    },
    {
     "name": "stderr",
     "output_type": "stream",
     "text": [
      "Batches: 100%|██████████| 1/1 [00:00<00:00, 117.52it/s]"
     ]
    },
    {
     "name": "stdout",
     "output_type": "stream",
     "text": [
      "2025-10-23 13:17:21,054 - RAG_App - INFO - Generating LLM chat completion for 1 messages...\n"
     ]
    },
    {
     "name": "stderr",
     "output_type": "stream",
     "text": [
      "\n"
     ]
    },
    {
     "name": "stdout",
     "output_type": "stream",
     "text": [
      "2025-10-23 13:17:26,245 - RAG_App - INFO - LLM response received.\n",
      "{\n",
      "  \"answer\": \"Bread is a baked food product made from water, flour, and often yeast. It has been an important part of many cultures' diets throughout history and is typically made by culturing wheat-flour dough with yeast, allowing it to rise, and baking it in an oven.\",\n",
      "  \"sources\": [\n",
      "    {\n",
      "      \"context\": \"baking, history, flour\",\n",
      "      \"source\": \"web_crawl\",\n",
      "      \"title\": \"Bread - Wikipedia\",\n",
      "      \"url\": \"https://en.wikipedia.org/wiki/Bread\",\n",
      "      \"description\": \"\"\n",
      "    },\n",
      "    {\n",
      "      \"source\": \"web_crawl\",\n",
      "      \"url\": \"https://en.wikipedia.org/wiki/Lactic_acid\",\n",
      "      \"description\": \"\",\n",
      "      \"context\": \"baking, history, flour\",\n",
      "      \"title\": \"Lactic acid - Wikipedia\"\n",
      "    },\n",
      "    {\n",
      "      \"file_type\": \"text/plain\",\n",
      "      \"chunk_id\": 0,\n",
      "      \"source\": \"upload\",\n",
      "      \"filename\": \"test_berlin.txt\"\n",
      "    }\n",
      "  ],\n",
      "  \"confidence\": 0.2364456206560135,\n",
      "  \"context_used\": \"Bread - Wikipedia Jump to content From Wikipedia, the free encyclopedia Food made of flour and water For other uses, see Bread (disambiguation). BreadVarious leavened breadsMain ingredientsFlour, water Cookbook: Bread\\u00a0 Media: Bread Bread is a baked food product made from water, flour, and often yeast. Throughout recorded history and around the world, it has been an important part of many cultures' diets. baking soda), industrially produced yeast, or high-pressure aeration, which creates the gas ...\"\n",
      "}\n"
     ]
    }
   ],
   "source": [
    "display(Markdown(\"### Test 1: Query from Uploaded Document\"))\n",
    "query1 = \"What is Paris known for?\"\n",
    "print(f\"Testing generation for: '{query1}'\\n\")\n",
    "response1 = rag_engine.generate_response(query1)\n",
    "pjson(response1)\n",
    "\n",
    "display(Markdown(\"\\n### Test 2: Query from Crawled Webpage\"))\n",
    "query2 = \"What is bread?\"\n",
    "print(f\"Testing generation for: '{query2}'\\n\")\n",
    "response2 = rag_engine.generate_response(query2)\n",
    "pjson(response2)"
   ]
  },
  {
   "cell_type": "markdown",
   "metadata": {},
   "source": [
    "## 6. Feature 5: RAG Engine - Chat Mode (Multi-Turn)\n",
    "\n",
    "Test the `chat_mode` function to see if it can handle history and use context correctly. We will also test its ability to *not* answer questions when the information isn't in the context."
   ]
  },
  {
   "cell_type": "code",
   "execution_count": 7,
   "metadata": {},
   "outputs": [
    {
     "data": {
      "text/markdown": [
       "### Chat Turn 1: Initial Question (from context)"
      ],
      "text/plain": [
       "<IPython.core.display.Markdown object>"
      ]
     },
     "metadata": {},
     "output_type": "display_data"
    },
    {
     "name": "stdout",
     "output_type": "stream",
     "text": [
      "HUMAN: What is the capital of Germany?\n"
     ]
    },
    {
     "name": "stderr",
     "output_type": "stream",
     "text": [
      "Batches: 100%|██████████| 1/1 [00:00<00:00, 110.95it/s]"
     ]
    },
    {
     "name": "stdout",
     "output_type": "stream",
     "text": [
      "2025-10-23 13:17:26,271 - RAG_App - INFO - Generating LLM chat completion for 1 messages...\n"
     ]
    },
    {
     "name": "stderr",
     "output_type": "stream",
     "text": [
      "\n"
     ]
    },
    {
     "name": "stdout",
     "output_type": "stream",
     "text": [
      "2025-10-23 13:17:28,275 - RAG_App - INFO - LLM response received.\n",
      "ASSISTANT: Berlin\n"
     ]
    },
    {
     "data": {
      "text/markdown": [
       "\n",
       "### Chat Turn 2: Follow-up (NOT in context)"
      ],
      "text/plain": [
       "<IPython.core.display.Markdown object>"
      ]
     },
     "metadata": {},
     "output_type": "display_data"
    },
    {
     "name": "stdout",
     "output_type": "stream",
     "text": [
      "HUMAN: How many people live there?\n"
     ]
    },
    {
     "name": "stderr",
     "output_type": "stream",
     "text": [
      "Batches: 100%|██████████| 1/1 [00:00<00:00, 111.12it/s]"
     ]
    },
    {
     "name": "stdout",
     "output_type": "stream",
     "text": [
      "2025-10-23 13:17:28,291 - RAG_App - INFO - Generating LLM chat completion for 3 messages...\n"
     ]
    },
    {
     "name": "stderr",
     "output_type": "stream",
     "text": [
      "\n"
     ]
    },
    {
     "name": "stdout",
     "output_type": "stream",
     "text": [
      "2025-10-23 13:17:30,687 - RAG_App - INFO - LLM response received.\n",
      "ASSISTANT: I do not have that information in my documents.\n"
     ]
    },
    {
     "data": {
      "text/markdown": [
       "\n",
       "### Chat Turn 3: New Topic (from context)"
      ],
      "text/plain": [
       "<IPython.core.display.Markdown object>"
      ]
     },
     "metadata": {},
     "output_type": "display_data"
    },
    {
     "name": "stdout",
     "output_type": "stream",
     "text": [
      "HUMAN: What is the Eiffel Tower?\n"
     ]
    },
    {
     "name": "stderr",
     "output_type": "stream",
     "text": [
      "Batches: 100%|██████████| 1/1 [00:00<00:00, 122.92it/s]"
     ]
    },
    {
     "name": "stdout",
     "output_type": "stream",
     "text": [
      "2025-10-23 13:17:30,703 - RAG_App - INFO - Generating LLM chat completion for 5 messages...\n"
     ]
    },
    {
     "name": "stderr",
     "output_type": "stream",
     "text": [
      "\n"
     ]
    },
    {
     "name": "stdout",
     "output_type": "stream",
     "text": [
      "2025-10-23 13:17:35,077 - RAG_App - INFO - LLM response received.\n",
      "ASSISTANT: The Eiffel Tower is a landmark in Paris, France.\n"
     ]
    }
   ],
   "source": [
    "chat_history = []\n",
    "\n",
    "display(Markdown(\"### Chat Turn 1: Initial Question (from context)\"))\n",
    "query1 = \"What is the capital of Germany?\"\n",
    "print(f\"HUMAN: {query1}\")\n",
    "response1 = rag_engine.chat_mode(query1, chat_history)\n",
    "print(f\"ASSISTANT: {response1['answer']}\")\n",
    "\n",
    "# Add to history\n",
    "chat_history.append({'human': query1, 'assistant': response1['answer']})\n",
    "\n",
    "display(Markdown(\"\\n### Chat Turn 2: Follow-up (NOT in context)\"))\n",
    "query2 = \"How many people live there?\"\n",
    "print(f\"HUMAN: {query2}\")\n",
    "response2 = rag_engine.chat_mode(query2, chat_history)\n",
    "print(f\"ASSISTANT: {response2['answer']}\")\n",
    "\n",
    "# Add to history\n",
    "chat_history.append({'human': query2, 'assistant': response2['answer']})\n",
    "\n",
    "display(Markdown(\"\\n### Chat Turn 3: New Topic (from context)\"))\n",
    "query3 = \"What is the Eiffel Tower?\"\n",
    "print(f\"HUMAN: {query3}\")\n",
    "response3 = rag_engine.chat_mode(query3, chat_history)\n",
    "print(f\"ASSISTANT: {response3['answer']}\")\n"
   ]
  },
  {
   "cell_type": "markdown",
   "metadata": {},
   "source": [
    "## 7. Feature 6: Knowledge Graph\n",
    "\n",
    "Finally, we'll test the Knowledge Graph builder by feeding it all the documents we've ingested. This may take a moment."
   ]
  },
  {
   "cell_type": "code",
   "execution_count": 8,
   "metadata": {},
   "outputs": [
    {
     "data": {
      "text/markdown": [
       "### Building Knowledge Graph..."
      ],
      "text/plain": [
       "<IPython.core.display.Markdown object>"
      ]
     },
     "metadata": {},
     "output_type": "display_data"
    },
    {
     "name": "stdout",
     "output_type": "stream",
     "text": [
      "2025-10-23 13:17:35,086 - RAG_App - INFO - Retrieving all documents for KG build...\n",
      "Building KG from 4 total document chunks.\n",
      "2025-10-23 13:17:35,097 - RAG_App - INFO - Starting KG extraction from 4 documents...\n",
      "2025-10-23 13:17:35,099 - RAG_App - INFO - Processing document 0/4 for KG...\n",
      "2025-10-23 13:17:35,609 - RAG_App - INFO - KG build complete. Nodes: 115, Edges: 1\n",
      "\n",
      "--- Knowledge Graph Stats ---\n",
      "{\n",
      "  \"entities_count\": 115,\n",
      "  \"relationships_count\": 1,\n",
      "  \"graph_nodes\": 115,\n",
      "  \"graph_edges\": 1\n",
      "}\n"
     ]
    },
    {
     "data": {
      "text/markdown": [
       "### Interactive Knowledge Graph Visualization"
      ],
      "text/plain": [
       "<IPython.core.display.Markdown object>"
      ]
     },
     "metadata": {},
     "output_type": "display_data"
    },
    {
     "ename": "ValueError",
     "evalue": "Mime type rendering requires nbformat>=4.2.0 but it is not installed",
     "output_type": "error",
     "traceback": [
      "\u001b[31m---------------------------------------------------------------------------\u001b[39m",
      "\u001b[31mValueError\u001b[39m                                Traceback (most recent call last)",
      "\u001b[36mFile \u001b[39m\u001b[32m~\\AppData\\Roaming\\Python\\Python311\\site-packages\\IPython\\core\\formatters.py:984\u001b[39m, in \u001b[36mIPythonDisplayFormatter.__call__\u001b[39m\u001b[34m(self, obj)\u001b[39m\n\u001b[32m    982\u001b[39m method = get_real_method(obj, \u001b[38;5;28mself\u001b[39m.print_method)\n\u001b[32m    983\u001b[39m \u001b[38;5;28;01mif\u001b[39;00m method \u001b[38;5;129;01mis\u001b[39;00m \u001b[38;5;129;01mnot\u001b[39;00m \u001b[38;5;28;01mNone\u001b[39;00m:\n\u001b[32m--> \u001b[39m\u001b[32m984\u001b[39m     \u001b[43mmethod\u001b[49m\u001b[43m(\u001b[49m\u001b[43m)\u001b[49m\n\u001b[32m    985\u001b[39m     \u001b[38;5;28;01mreturn\u001b[39;00m \u001b[38;5;28;01mTrue\u001b[39;00m\n",
      "\u001b[36mFile \u001b[39m\u001b[32mc:\\Users\\Wizard\\AppData\\Local\\Programs\\Python\\Python311\\Lib\\site-packages\\plotly\\basedatatypes.py:850\u001b[39m, in \u001b[36mBaseFigure._ipython_display_\u001b[39m\u001b[34m(self)\u001b[39m\n\u001b[32m    847\u001b[39m \u001b[38;5;28;01mimport\u001b[39;00m\u001b[38;5;250m \u001b[39m\u001b[34;01mplotly\u001b[39;00m\u001b[34;01m.\u001b[39;00m\u001b[34;01mio\u001b[39;00m\u001b[38;5;250m \u001b[39m\u001b[38;5;28;01mas\u001b[39;00m\u001b[38;5;250m \u001b[39m\u001b[34;01mpio\u001b[39;00m\n\u001b[32m    849\u001b[39m \u001b[38;5;28;01mif\u001b[39;00m pio.renderers.render_on_display \u001b[38;5;129;01mand\u001b[39;00m pio.renderers.default:\n\u001b[32m--> \u001b[39m\u001b[32m850\u001b[39m     \u001b[43mpio\u001b[49m\u001b[43m.\u001b[49m\u001b[43mshow\u001b[49m\u001b[43m(\u001b[49m\u001b[38;5;28;43mself\u001b[39;49m\u001b[43m)\u001b[49m\n\u001b[32m    851\u001b[39m \u001b[38;5;28;01melse\u001b[39;00m:\n\u001b[32m    852\u001b[39m     \u001b[38;5;28mprint\u001b[39m(\u001b[38;5;28mrepr\u001b[39m(\u001b[38;5;28mself\u001b[39m))\n",
      "\u001b[36mFile \u001b[39m\u001b[32mc:\\Users\\Wizard\\AppData\\Local\\Programs\\Python\\Python311\\Lib\\site-packages\\plotly\\io\\_renderers.py:415\u001b[39m, in \u001b[36mshow\u001b[39m\u001b[34m(fig, renderer, validate, **kwargs)\u001b[39m\n\u001b[32m    410\u001b[39m     \u001b[38;5;28;01mraise\u001b[39;00m \u001b[38;5;167;01mValueError\u001b[39;00m(\n\u001b[32m    411\u001b[39m         \u001b[33m\"\u001b[39m\u001b[33mMime type rendering requires ipython but it is not installed\u001b[39m\u001b[33m\"\u001b[39m\n\u001b[32m    412\u001b[39m     )\n\u001b[32m    414\u001b[39m \u001b[38;5;28;01mif\u001b[39;00m \u001b[38;5;129;01mnot\u001b[39;00m nbformat \u001b[38;5;129;01mor\u001b[39;00m Version(nbformat.__version__) < Version(\u001b[33m\"\u001b[39m\u001b[33m4.2.0\u001b[39m\u001b[33m\"\u001b[39m):\n\u001b[32m--> \u001b[39m\u001b[32m415\u001b[39m     \u001b[38;5;28;01mraise\u001b[39;00m \u001b[38;5;167;01mValueError\u001b[39;00m(\n\u001b[32m    416\u001b[39m         \u001b[33m\"\u001b[39m\u001b[33mMime type rendering requires nbformat>=4.2.0 but it is not installed\u001b[39m\u001b[33m\"\u001b[39m\n\u001b[32m    417\u001b[39m     )\n\u001b[32m    419\u001b[39m display_jupyter_version_warnings()\n\u001b[32m    421\u001b[39m ipython_display.display(bundle, raw=\u001b[38;5;28;01mTrue\u001b[39;00m)\n",
      "\u001b[31mValueError\u001b[39m: Mime type rendering requires nbformat>=4.2.0 but it is not installed"
     ]
    },
    {
     "data": {
      "application/vnd.plotly.v1+json": {
       "config": {
        "plotlyServerURL": "https://plot.ly"
       },
       "data": [
        {
         "hoverinfo": "none",
         "line": {
          "color": "gray",
          "width": 1
         },
         "mode": "lines",
         "showlegend": false,
         "type": "scatter",
         "x": [
          0.0818083472134615,
          0.2377381393646877,
          null
         ],
         "y": [
          -0.22490619484851754,
          -0.16815085934496712,
          null
         ]
        },
        {
         "hoverinfo": "text",
         "hovertext": [
          "Type<br>Type: concept",
          "Afghan Albanian Algerian American Puerto Rican Angolan Antarctic Argentine Armenian Australian Austrian Azerbaijani Bahraini Bangladeshi Barbadian Belarusian Belgian Belizean Beninese Bhutanese Bolivian Bosnian<br>Type: date",
          "Lists<br>Type: concept",
          "Loaf<br>Type: concept",
          "Swedish<br>Type: concept",
          "Note<br>Type: concept",
          "People Who Make It<br>Type: concept",
          "List<br>Type: concept",
          "Acrylamide Content<br>Type: person",
          "Toast<br>Type: concept",
          "Water<br>Type: concept",
          "Its Holy<br>Type: person",
          "Soda<br>Type: concept",
          "Brand<br>Type: concept",
          "Kitchen<br>Type: concept",
          "Shattering Tell Abu Hureyra Tell Aswad Category<br>Type: concept",
          "North West<br>Type: person",
          "Carl Wilhelm Scheele<br>Type: person",
          "European<br>Type: concept",
          "Wheat<br>Type: concept",
          "Bread  Media<br>Type: person",
          "Contemporary History<br>Type: person",
          "Sponge<br>Type: concept",
          "Flour Main<br>Type: person",
          "Way It Is Made<br>Type: concept",
          "Protein<br>Type: concept",
          "Burmese Burundian Cambodian Cameroonian Canadian Acadian<br>Type: concept",
          "References<br>Type: concept",
          "Such<br>Type: concept",
          "North Africa<br>Type: person",
          "Unleavened<br>Type: concept",
          "The Russo<br>Type: person",
          "Technology<br>Type: concept",
          "Sourdough<br>Type: concept",
          "Winter Farro Einkorn Emmer Spelt<br>Type: concept",
          "Sweet<br>Type: concept",
          "Good Bread Is Back<br>Type: concept",
          "Scottish<br>Type: concept",
          "Bowl<br>Type: concept",
          "Fortification<br>Type: concept",
          "Sourdough Sprouted Unleavened White<br>Type: concept",
          "Salt<br>Type: concept",
          "Rebaked<br>Type: concept",
          "Crouton<br>Type: concept",
          "Trade Australian Wheat Board Canadian Wheat Board Corn<br>Type: concept",
          "Corn<br>Type: concept",
          "Unholy History<br>Type: person",
          "Vienna<br>Type: concept",
          "Pakistani<br>Type: concept",
          "Mongolian Montenegrin Moroccan Mozambican Namibian Nauruan Nepalese New Zealand Nicaraguan Niger Nigerian Niuean Norwegian Omani Pakistani Palestinian Panamanian Papua New Guinean Paraguayan Peruvian Polish Portuguese Qatari Romanian Russian Bashkir Chechen Circassian Cossack Komi Mordovian Sakha Tatar Udmurt Yamal Rwandan Saint Lucian Salvadoran Sammarinese<br>Type: date",
          "Lactic Acid Making<br>Type: person",
          "Middle East<br>Type: person",
          "Americas<br>Type: concept",
          "Fructose<br>Type: concept",
          "Durum Einkorn Emmer Khorasan Spelt Agronomy Wheat<br>Type: concept",
          "Ukrainian War<br>Type: person",
          "American<br>Type: concept",
          "Poolish<br>Type: concept",
          "Berlin<br>Type: concept",
          "Douglas<br>Type: concept",
          "Woman<br>Type: concept",
          "Gluten<br>Type: concept",
          "Brown<br>Type: concept",
          "See<br>Type: concept",
          "Canada Plant<br>Type: person",
          "Ritual<br>Type: concept",
          "Heinrich Eduard<br>Type: person",
          "History<br>Type: concept",
          "Milling Farina Flour Middlings Semolina Parboiling Bulgur As<br>Type: concept",
          "Germany<br>Type: concept",
          "Multigrain Quick Rye<br>Type: person",
          "Baking Research Association<br>Type: person",
          "Disease Prevention<br>Type: person",
          "Vacuum<br>Type: concept",
          "Drink Food<br>Type: person",
          "Bissauan Guinean Guyana Haitian Honduran Hungarian Icelandic Indian Andhra Arunachali Assamese Bengali Bihari Chhattisgarhi Goan Gujarati Haryanvi Kashmiri Jharkhandi Karnataka Kerala Maharashtrian Manipuri Meghalayan Mizo Naga Odia Punjabi Rajasthani Sikkimese Sindhi Tamil Telangana Tripuri Uttar Pradesh Uttarakhandi Indonesian Acehnese Balinese Banjar Batak Betawi Gorontalese Indo Javanese Madurese Makassar Minahasan Minangkabau Palembangese Sundanese Iranian Iraqi Irish Israeli Italian Abruzzese Apulian Emilian Ligurian Lombard Lucanian Neapolitan Piedmontese Roman Sardinian Sicilian Tuscan Venetian Ivorian Jamaican Japanese Okinawan Jordanian Kazakh Kenyan Korean North Korean South Korean Kosovan Kuwaiti Kyrgyz Lao Latvian Lebanese Lesotho Liberian Libyan Liechtensteiner Lithuanian Luxembourgish Macedonian Malagasy Malawian Malaysian Sabahan Sarawakian Maldivian Malian Maltese Marshallese Mauritanian Mauritian Mexican Moldovan<br>Type: date",
          "Sikh Historical Ancient Egyptian Ancient Greek Ancient Israelite Ancient Roman Antebellum America Aztec Byzantine Early<br>Type: concept",
          "Baking Science<br>Type: person",
          "Academic Press<br>Type: person",
          "Louvre Museum<br>Type: person",
          "Cultural<br>Type: concept",
          "Plant<br>Type: concept",
          "Natufian<br>Type: concept",
          "Biotechnology<br>Type: concept",
          "Processes<br>Type: concept",
          "Tobagonian Tunisian Turkish Turkmen Tuvaluan Ugandan Ukrainian Uruguayan Uzbek Vanuatuan Venezuelan Vietnamese Western Saharan Yemeni Zambian Zimbabwean Ethnic African American Ainu Arab Arab<br>Type: concept",
          "Benninga<br>Type: concept",
          "The Paths<br>Type: person",
          "Types Main<br>Type: person",
          "Herzegovinian Botswana Brazilian British Anguillia Channel Islands English Gibraltarian Northern Irish Saint Helena Scottish Welsh Bruneian Bulgarian<br>Type: concept",
          "Non<br>Type: concept",
          "Flour Regulations<br>Type: person",
          "Pakistani History<br>Type: person",
          "Fusion New American Eurasian Haute Molecular<br>Type: concept",
          "East Timor Professional<br>Type: person",
          "Liquids Water<br>Type: person",
          "Sandwich<br>Type: concept",
          "Harper<br>Type: concept",
          "Aberdour Castle<br>Type: person",
          "France<br>Type: concept",
          "Scandinavian<br>Type: concept",
          "Diet Fat Meal Meal<br>Type: concept",
          "Uses Beer<br>Type: person",
          "Barley Fonio Job<br>Type: person",
          "Further<br>Type: concept",
          "Djulis Lamiaceae Chia Emerging<br>Type: date",
          "King Arthur Flour<br>Type: person",
          "Wikipedia Jump<br>Type: person",
          "Hittite Inca Mayan Muisca Mughal Medieval Ottoman Peasant Pre<br>Type: date",
          "Berlin Wall<br>Type: person",
          "The<br>Type: concept",
          "Eiffel Tower<br>Type: person",
          "Brandenburg Gate<br>Type: person",
          "Paris<br>Type: concept",
          "Chapter<br>Type: concept"
         ],
         "marker": {
          "color": [
           "lightgray",
           "pink",
           "lightgray",
           "lightgray",
           "lightgray",
           "lightgray",
           "lightgray",
           "lightgray",
           "lightblue",
           "lightgray",
           "lightgray",
           "lightblue",
           "lightgray",
           "lightgray",
           "lightgray",
           "lightgray",
           "lightblue",
           "lightblue",
           "lightgray",
           "lightgray",
           "lightblue",
           "lightblue",
           "lightgray",
           "lightblue",
           "lightgray",
           "lightgray",
           "lightgray",
           "lightgray",
           "lightgray",
           "lightblue",
           "lightgray",
           "lightblue",
           "lightgray",
           "lightgray",
           "lightgray",
           "lightgray",
           "lightgray",
           "lightgray",
           "lightgray",
           "lightgray",
           "lightgray",
           "lightgray",
           "lightgray",
           "lightgray",
           "lightgray",
           "lightgray",
           "lightblue",
           "lightgray",
           "lightgray",
           "pink",
           "lightblue",
           "lightblue",
           "lightgray",
           "lightgray",
           "lightgray",
           "lightblue",
           "lightgray",
           "lightgray",
           "lightgray",
           "lightgray",
           "lightgray",
           "lightgray",
           "lightgray",
           "lightgray",
           "lightblue",
           "lightgray",
           "lightblue",
           "lightgray",
           "lightgray",
           "lightgray",
           "lightblue",
           "lightblue",
           "lightblue",
           "lightgray",
           "lightblue",
           "pink",
           "lightgray",
           "lightblue",
           "lightblue",
           "lightblue",
           "lightgray",
           "lightgray",
           "lightgray",
           "lightgray",
           "lightgray",
           "lightgray",
           "lightgray",
           "lightblue",
           "lightblue",
           "lightgray",
           "lightgray",
           "lightblue",
           "lightblue",
           "lightgray",
           "lightblue",
           "lightblue",
           "lightgray",
           "lightgray",
           "lightblue",
           "lightgray",
           "lightgray",
           "lightgray",
           "lightblue",
           "lightblue",
           "lightgray",
           "pink",
           "lightblue",
           "lightblue",
           "pink",
           "lightblue",
           "lightgray",
           "lightblue",
           "lightblue",
           "lightgray",
           "lightgray"
          ],
          "line": {
           "color": "black",
           "width": 1
          },
          "size": [
           10,
           10,
           10,
           10,
           10,
           10,
           10,
           10,
           10,
           10,
           10,
           10,
           10,
           10,
           10,
           10,
           10,
           10,
           10,
           10,
           10,
           10,
           10,
           10,
           10,
           10,
           10,
           10,
           10,
           10,
           10,
           10,
           10,
           10,
           10,
           10,
           10,
           10,
           10,
           10,
           10,
           10,
           10,
           10,
           10,
           10,
           10,
           10,
           10,
           10,
           10,
           10,
           10,
           10,
           10,
           10,
           10,
           10,
           10,
           10,
           10,
           10,
           10,
           10,
           10,
           10,
           10,
           10,
           10,
           10,
           10,
           10,
           10,
           10,
           10,
           10,
           10,
           10,
           10,
           10,
           10,
           10,
           10,
           10,
           10,
           10,
           10,
           10,
           10,
           10,
           10,
           10,
           10,
           10,
           10,
           10,
           10,
           10,
           10,
           10,
           10,
           10,
           10,
           10,
           10,
           10,
           10,
           10,
           10,
           10,
           10,
           10,
           10,
           10,
           10
          ]
         },
         "mode": "markers+text",
         "showlegend": false,
         "text": [
          "Type",
          "Afghan Albanian Algerian American Puerto Rican Angolan Antarctic Argentine Armenian Australian Austrian Azerbaijani Bahraini Bangladeshi Barbadian Belarusian Belgian Belizean Beninese Bhutanese Bolivian Bosnian",
          "Lists",
          "Loaf",
          "Swedish",
          "Note",
          "People Who Make It",
          "List",
          "Acrylamide Content",
          "Toast",
          "Water",
          "Its Holy",
          "Soda",
          "Brand",
          "Kitchen",
          "Shattering Tell Abu Hureyra Tell Aswad Category",
          "North West",
          "Carl Wilhelm Scheele",
          "European",
          "Wheat",
          "Bread  Media",
          "Contemporary History",
          "Sponge",
          "Flour Main",
          "Way It Is Made",
          "Protein",
          "Burmese Burundian Cambodian Cameroonian Canadian Acadian",
          "References",
          "Such",
          "North Africa",
          "Unleavened",
          "The Russo",
          "Technology",
          "Sourdough",
          "Winter Farro Einkorn Emmer Spelt",
          "Sweet",
          "Good Bread Is Back",
          "Scottish",
          "Bowl",
          "Fortification",
          "Sourdough Sprouted Unleavened White",
          "Salt",
          "Rebaked",
          "Crouton",
          "Trade Australian Wheat Board Canadian Wheat Board Corn",
          "Corn",
          "Unholy History",
          "Vienna",
          "Pakistani",
          "Mongolian Montenegrin Moroccan Mozambican Namibian Nauruan Nepalese New Zealand Nicaraguan Niger Nigerian Niuean Norwegian Omani Pakistani Palestinian Panamanian Papua New Guinean Paraguayan Peruvian Polish Portuguese Qatari Romanian Russian Bashkir Chechen Circassian Cossack Komi Mordovian Sakha Tatar Udmurt Yamal Rwandan Saint Lucian Salvadoran Sammarinese",
          "Lactic Acid Making",
          "Middle East",
          "Americas",
          "Fructose",
          "Durum Einkorn Emmer Khorasan Spelt Agronomy Wheat",
          "Ukrainian War",
          "American",
          "Poolish",
          "Berlin",
          "Douglas",
          "Woman",
          "Gluten",
          "Brown",
          "See",
          "Canada Plant",
          "Ritual",
          "Heinrich Eduard",
          "History",
          "Milling Farina Flour Middlings Semolina Parboiling Bulgur As",
          "Germany",
          "Multigrain Quick Rye",
          "Baking Research Association",
          "Disease Prevention",
          "Vacuum",
          "Drink Food",
          "Bissauan Guinean Guyana Haitian Honduran Hungarian Icelandic Indian Andhra Arunachali Assamese Bengali Bihari Chhattisgarhi Goan Gujarati Haryanvi Kashmiri Jharkhandi Karnataka Kerala Maharashtrian Manipuri Meghalayan Mizo Naga Odia Punjabi Rajasthani Sikkimese Sindhi Tamil Telangana Tripuri Uttar Pradesh Uttarakhandi Indonesian Acehnese Balinese Banjar Batak Betawi Gorontalese Indo Javanese Madurese Makassar Minahasan Minangkabau Palembangese Sundanese Iranian Iraqi Irish Israeli Italian Abruzzese Apulian Emilian Ligurian Lombard Lucanian Neapolitan Piedmontese Roman Sardinian Sicilian Tuscan Venetian Ivorian Jamaican Japanese Okinawan Jordanian Kazakh Kenyan Korean North Korean South Korean Kosovan Kuwaiti Kyrgyz Lao Latvian Lebanese Lesotho Liberian Libyan Liechtensteiner Lithuanian Luxembourgish Macedonian Malagasy Malawian Malaysian Sabahan Sarawakian Maldivian Malian Maltese Marshallese Mauritanian Mauritian Mexican Moldovan",
          "Sikh Historical Ancient Egyptian Ancient Greek Ancient Israelite Ancient Roman Antebellum America Aztec Byzantine Early",
          "Baking Science",
          "Academic Press",
          "Louvre Museum",
          "Cultural",
          "Plant",
          "Natufian",
          "Biotechnology",
          "Processes",
          "Tobagonian Tunisian Turkish Turkmen Tuvaluan Ugandan Ukrainian Uruguayan Uzbek Vanuatuan Venezuelan Vietnamese Western Saharan Yemeni Zambian Zimbabwean Ethnic African American Ainu Arab Arab",
          "Benninga",
          "The Paths",
          "Types Main",
          "Herzegovinian Botswana Brazilian British Anguillia Channel Islands English Gibraltarian Northern Irish Saint Helena Scottish Welsh Bruneian Bulgarian",
          "Non",
          "Flour Regulations",
          "Pakistani History",
          "Fusion New American Eurasian Haute Molecular",
          "East Timor Professional",
          "Liquids Water",
          "Sandwich",
          "Harper",
          "Aberdour Castle",
          "France",
          "Scandinavian",
          "Diet Fat Meal Meal",
          "Uses Beer",
          "Barley Fonio Job",
          "Further",
          "Djulis Lamiaceae Chia Emerging",
          "King Arthur Flour",
          "Wikipedia Jump",
          "Hittite Inca Mayan Muisca Mughal Medieval Ottoman Peasant Pre",
          "Berlin Wall",
          "The",
          "Eiffel Tower",
          "Brandenburg Gate",
          "Paris",
          "Chapter"
         ],
         "textfont": {
          "size": 8
         },
         "textposition": "top center",
         "type": "scatter",
         "x": [
          -0.056409917088014905,
          0.789378839139489,
          -0.6781004761891646,
          -0.8774505550899908,
          0.3108426001361509,
          -0.7281417500883415,
          0.7726373521025138,
          -0.7654132049901297,
          -0.6885176245685793,
          -0.3381704676465943,
          0.21433419758491024,
          0.0818083472134615,
          -0.05855577207188427,
          -0.9171591389452486,
          0.03982459082998889,
          0.37814346811265687,
          -0.6058399852285372,
          0.906093755452706,
          -0.4324749761997101,
          0.8989056229584482,
          -0.957144971963357,
          -0.7890755859832299,
          -0.6371753036628952,
          -0.46705889929511063,
          0.10791815829810433,
          0.956112811751541,
          0.7437396426716357,
          0.07315175790199771,
          -0.8335816720256628,
          -0.9632088742333023,
          -0.5319325223889173,
          0.9329604602110779,
          -0.8490600351697383,
          -0.6410233173349791,
          -0.4171322864044282,
          0.5916216549810185,
          -0.9488533692421746,
          0.6266182432465938,
          0.5449727220218602,
          -0.057942159029295406,
          0.87671270804455,
          -0.20636049548049762,
          -0.6740811802469103,
          0.7057388793119127,
          0.9730922394404723,
          -0.8779556753562772,
          0.2377381393646877,
          0.9313284890413468,
          0.364496709637724,
          -0.7673708291986228,
          -0.9691981205643211,
          -0.8510626765129977,
          0.946102209099702,
          -0.15468160366990455,
          -0.5579270389836058,
          -0.6101090813884755,
          0.7933569878206653,
          0.17203765087029402,
          0.6807270024238398,
          0.9719072404882878,
          0.46537604590231674,
          -0.29022460126306343,
          -0.8964937330813304,
          0.5571098258312174,
          -0.9964775717176523,
          -0.20081089626786067,
          -0.9157620921216564,
          0.9834910423098219,
          0.03404213064391027,
          -0.19388213442686683,
          0.9417134358143118,
          0.497739885586467,
          -0.3695541302593283,
          0.7067982615166051,
          -0.9175302063538501,
          0.8536720479743796,
          -0.9472113137060968,
          0.9134883596992285,
          0.44892798105695636,
          -0.4789934785523092,
          -0.24507538517344382,
          0.8347271970755705,
          -0.8130729139133201,
          -0.4761839674140896,
          -0.980986853420775,
          0.4143932088878152,
          0.00581109045555854,
          0.4659533197721541,
          0.8424474711873241,
          0.7620803449681136,
          -0.12353754044246236,
          0.6534631134111603,
          -0.7932493583183771,
          0.9394083943961101,
          0.25571573288459476,
          -0.5048730947412722,
          0.9599759426308777,
          -0.8142029496295989,
          0.35798698134943835,
          0.83123661785315,
          0.31188563945714937,
          -0.30233847914070294,
          0.16394102044868925,
          -0.9287521941971879,
          -0.9094438789138204,
          0.14985380614191793,
          0.6354949310640233,
          0.7866735610371407,
          -0.3596902067720642,
          0.2557813369483345,
          0.5410585615518845,
          -0.9607980582431052,
          -0.8018196650640776,
          1,
          0.9365845013613581
         ],
         "y": [
          0.9892550758826654,
          0.4864273107701809,
          -0.7290148570273671,
          0.5233791584594626,
          0.863968191071677,
          0.7677301943237842,
          -0.6167000366577247,
          -0.6146497129525029,
          0.5583708599948216,
          -0.8388281663444896,
          -0.9398259774708855,
          -0.22490619484851754,
          0.9333566009664735,
          0.1675879245713035,
          -0.9885253173020447,
          -0.8747966160612428,
          0.8464920587595257,
          0.48754112051831605,
          -0.8827867350791642,
          -0.12450383442196455,
          0.04739011851984169,
          0.6781993364520826,
          0.6729291763590868,
          0.7058990824087182,
          -0.938474033285493,
          0.36036668485547846,
          0.7261000259768724,
          0.9793019990458564,
          -0.55773880546276,
          -0.24326950937966565,
          -0.7485747106799743,
          -0.23455546831007978,
          0.31440663745602543,
          0.7531170057457562,
          0.9526188142078417,
          -0.7761619224237958,
          0.38653207430105513,
          0.7063458968102596,
          -0.8491619781800148,
          -0.9596728448327527,
          0.4104469547766121,
          -0.967232805665264,
          -0.6240838216197907,
          0.6061953988535647,
          -0.02027075049405641,
          0.43127369667027715,
          -0.16815085934496712,
          0.033003635541492285,
          0.7268500600621915,
          -0.6989838449295006,
          0.2258006261170538,
          -0.016089231239337372,
          -0.30344982117943026,
          0.9150144460786983,
          -0.8319306243719486,
          -0.7478413615073325,
          0.6395419875818964,
          0.954309408458692,
          -0.7150415512626506,
          0.08805438663731212,
          0.8914978249280995,
          -0.9328351526667651,
          -0.22467662310725828,
          0.8314126163779073,
          -0.023280741217217613,
          -0.9104905430316708,
          -0.31904494519764975,
          -0.17643418452905646,
          0.9052115645462094,
          0.9822395284321843,
          -0.3819814144183636,
          -0.7370906899260571,
          -0.9347168789984204,
          -0.4886407784386866,
          -0.3953290645565377,
          -0.5247916130229705,
          -0.08024853788987298,
          -0.46671707479827046,
          0.8324839116658134,
          0.8154577451382662,
          0.8579599145920623,
          0.29347362113718534,
          0.5985260299820846,
          -0.8276507154127369,
          0.1207022277450832,
          -0.9215712212217964,
          -0.928672121562906,
          -0.8373045273414141,
          -0.3609699717861086,
          -0.693938163067267,
          -0.9625197814418699,
          0.7939240106234442,
          0.4877178435180754,
          0.15124415676733044,
          -0.8778234234241895,
          0.8828354486167271,
          0.21325864689885207,
          -0.3867284947989213,
          0.9248810116273675,
          0.5582291118766999,
          -0.9324341742897249,
          0.9491834708482494,
          -0.9919284150507095,
          0.30037688516345523,
          -0.48544597527465233,
          0.8934840843474018,
          -0.6967008881733217,
          -0.5328211584692287,
          0.86310900570763,
          0.9314622561493873,
          0.7052444064317055,
          -0.15287667383084008,
          -0.49831184537147444,
          -0.08880268691595053,
          0.2862786002105349
         ]
        }
       ],
       "layout": {
        "annotations": [
         {
          "showarrow": false,
          "text": "Drag to pan, scroll to zoom",
          "x": 0.005,
          "xref": "paper",
          "y": -0.002,
          "yref": "paper"
         }
        ],
        "hovermode": "closest",
        "margin": {
         "b": 20,
         "l": 5,
         "r": 5,
         "t": 40
        },
        "plot_bgcolor": "white",
        "showlegend": false,
        "template": {
         "data": {
          "candlestick": [
           {
            "decreasing": {
             "line": {
              "color": "#000033"
             }
            },
            "increasing": {
             "line": {
              "color": "#000032"
             }
            },
            "type": "candlestick"
           }
          ],
          "contour": [
           {
            "colorscale": [
             [
              0,
              "#000011"
             ],
             [
              0.1111111111111111,
              "#000012"
             ],
             [
              0.2222222222222222,
              "#000013"
             ],
             [
              0.3333333333333333,
              "#000014"
             ],
             [
              0.4444444444444444,
              "#000015"
             ],
             [
              0.5555555555555556,
              "#000016"
             ],
             [
              0.6666666666666666,
              "#000017"
             ],
             [
              0.7777777777777778,
              "#000018"
             ],
             [
              0.8888888888888888,
              "#000019"
             ],
             [
              1,
              "#000020"
             ]
            ],
            "type": "contour"
           }
          ],
          "contourcarpet": [
           {
            "colorscale": [
             [
              0,
              "#000011"
             ],
             [
              0.1111111111111111,
              "#000012"
             ],
             [
              0.2222222222222222,
              "#000013"
             ],
             [
              0.3333333333333333,
              "#000014"
             ],
             [
              0.4444444444444444,
              "#000015"
             ],
             [
              0.5555555555555556,
              "#000016"
             ],
             [
              0.6666666666666666,
              "#000017"
             ],
             [
              0.7777777777777778,
              "#000018"
             ],
             [
              0.8888888888888888,
              "#000019"
             ],
             [
              1,
              "#000020"
             ]
            ],
            "type": "contourcarpet"
           }
          ],
          "heatmap": [
           {
            "colorscale": [
             [
              0,
              "#000011"
             ],
             [
              0.1111111111111111,
              "#000012"
             ],
             [
              0.2222222222222222,
              "#000013"
             ],
             [
              0.3333333333333333,
              "#000014"
             ],
             [
              0.4444444444444444,
              "#000015"
             ],
             [
              0.5555555555555556,
              "#000016"
             ],
             [
              0.6666666666666666,
              "#000017"
             ],
             [
              0.7777777777777778,
              "#000018"
             ],
             [
              0.8888888888888888,
              "#000019"
             ],
             [
              1,
              "#000020"
             ]
            ],
            "type": "heatmap"
           }
          ],
          "histogram2d": [
           {
            "colorscale": [
             [
              0,
              "#000011"
             ],
             [
              0.1111111111111111,
              "#000012"
             ],
             [
              0.2222222222222222,
              "#000013"
             ],
             [
              0.3333333333333333,
              "#000014"
             ],
             [
              0.4444444444444444,
              "#000015"
             ],
             [
              0.5555555555555556,
              "#000016"
             ],
             [
              0.6666666666666666,
              "#000017"
             ],
             [
              0.7777777777777778,
              "#000018"
             ],
             [
              0.8888888888888888,
              "#000019"
             ],
             [
              1,
              "#000020"
             ]
            ],
            "type": "histogram2d"
           }
          ],
          "icicle": [
           {
            "textfont": {
             "color": "white"
            },
            "type": "icicle"
           }
          ],
          "sankey": [
           {
            "textfont": {
             "color": "#000036"
            },
            "type": "sankey"
           }
          ],
          "scatter": [
           {
            "marker": {
             "line": {
              "width": 0
             }
            },
            "type": "scatter"
           }
          ],
          "table": [
           {
            "cells": {
             "fill": {
              "color": "#000038"
             },
             "font": {
              "color": "#000037"
             },
             "line": {
              "color": "#000039"
             }
            },
            "header": {
             "fill": {
              "color": "#000040"
             },
             "font": {
              "color": "#000036"
             },
             "line": {
              "color": "#000039"
             }
            },
            "type": "table"
           }
          ],
          "waterfall": [
           {
            "connector": {
             "line": {
              "color": "#000036",
              "width": 2
             }
            },
            "decreasing": {
             "marker": {
              "color": "#000033"
             }
            },
            "increasing": {
             "marker": {
              "color": "#000032"
             }
            },
            "totals": {
             "marker": {
              "color": "#000034"
             }
            },
            "type": "waterfall"
           }
          ]
         },
         "layout": {
          "coloraxis": {
           "colorscale": [
            [
             0,
             "#000011"
            ],
            [
             0.1111111111111111,
             "#000012"
            ],
            [
             0.2222222222222222,
             "#000013"
            ],
            [
             0.3333333333333333,
             "#000014"
            ],
            [
             0.4444444444444444,
             "#000015"
            ],
            [
             0.5555555555555556,
             "#000016"
            ],
            [
             0.6666666666666666,
             "#000017"
            ],
            [
             0.7777777777777778,
             "#000018"
            ],
            [
             0.8888888888888888,
             "#000019"
            ],
            [
             1,
             "#000020"
            ]
           ]
          },
          "colorscale": {
           "diverging": [
            [
             0,
             "#000021"
            ],
            [
             0.1,
             "#000022"
            ],
            [
             0.2,
             "#000023"
            ],
            [
             0.3,
             "#000024"
            ],
            [
             0.4,
             "#000025"
            ],
            [
             0.5,
             "#000026"
            ],
            [
             0.6,
             "#000027"
            ],
            [
             0.7,
             "#000028"
            ],
            [
             0.8,
             "#000029"
            ],
            [
             0.9,
             "#000030"
            ],
            [
             1,
             "#000031"
            ]
           ],
           "sequential": [
            [
             0,
             "#000011"
            ],
            [
             0.1111111111111111,
             "#000012"
            ],
            [
             0.2222222222222222,
             "#000013"
            ],
            [
             0.3333333333333333,
             "#000014"
            ],
            [
             0.4444444444444444,
             "#000015"
            ],
            [
             0.5555555555555556,
             "#000016"
            ],
            [
             0.6666666666666666,
             "#000017"
            ],
            [
             0.7777777777777778,
             "#000018"
            ],
            [
             0.8888888888888888,
             "#000019"
            ],
            [
             1,
             "#000020"
            ]
           ],
           "sequentialminus": [
            [
             0,
             "#000011"
            ],
            [
             0.1111111111111111,
             "#000012"
            ],
            [
             0.2222222222222222,
             "#000013"
            ],
            [
             0.3333333333333333,
             "#000014"
            ],
            [
             0.4444444444444444,
             "#000015"
            ],
            [
             0.5555555555555556,
             "#000016"
            ],
            [
             0.6666666666666666,
             "#000017"
            ],
            [
             0.7777777777777778,
             "#000018"
            ],
            [
             0.8888888888888888,
             "#000019"
            ],
            [
             1,
             "#000020"
            ]
           ]
          },
          "colorway": [
           "#000001",
           "#000002",
           "#000003",
           "#000004",
           "#000005",
           "#000006",
           "#000007",
           "#000008",
           "#000009",
           "#000010"
          ]
         }
        },
        "title": {
         "text": "Knowledge Graph Visualization"
        },
        "xaxis": {
         "showgrid": false,
         "showticklabels": false,
         "zeroline": false
        },
        "yaxis": {
         "showgrid": false,
         "showticklabels": false,
         "zeroline": false
        }
       }
      },
      "text/html": [
       "<div>                        <script type=\"text/javascript\">window.PlotlyConfig = {MathJaxConfig: 'local'};</script>\n",
       "        <script charset=\"utf-8\" src=\"https://cdn.plot.ly/plotly-3.1.1.min.js\" integrity=\"sha256-HUEFyfiTnZJxCxur99FjbKYTvKSzwDaD3/x5TqHpFu4=\" crossorigin=\"anonymous\"></script>                <div id=\"3d8142f0-44e8-4b69-8e00-8023a39f0101\" class=\"plotly-graph-div\" style=\"height:100%; width:100%;\"></div>            <script type=\"text/javascript\">                window.PLOTLYENV=window.PLOTLYENV || {};                                if (document.getElementById(\"3d8142f0-44e8-4b69-8e00-8023a39f0101\")) {                    Plotly.newPlot(                        \"3d8142f0-44e8-4b69-8e00-8023a39f0101\",                        [{\"hoverinfo\":\"none\",\"line\":{\"color\":\"gray\",\"width\":1},\"mode\":\"lines\",\"showlegend\":false,\"x\":[0.0818083472134615,0.2377381393646877,null],\"y\":[-0.22490619484851754,-0.16815085934496712,null],\"type\":\"scatter\"},{\"hoverinfo\":\"text\",\"hovertext\":[\"Type\\u003cbr\\u003eType: concept\",\"Afghan Albanian Algerian American Puerto Rican Angolan Antarctic Argentine Armenian Australian Austrian Azerbaijani Bahraini Bangladeshi Barbadian Belarusian Belgian Belizean Beninese Bhutanese Bolivian Bosnian\\u003cbr\\u003eType: date\",\"Lists\\u003cbr\\u003eType: concept\",\"Loaf\\u003cbr\\u003eType: concept\",\"Swedish\\u003cbr\\u003eType: concept\",\"Note\\u003cbr\\u003eType: concept\",\"People Who Make It\\u003cbr\\u003eType: concept\",\"List\\u003cbr\\u003eType: concept\",\"Acrylamide Content\\u003cbr\\u003eType: person\",\"Toast\\u003cbr\\u003eType: concept\",\"Water\\u003cbr\\u003eType: concept\",\"Its Holy\\u003cbr\\u003eType: person\",\"Soda\\u003cbr\\u003eType: concept\",\"Brand\\u003cbr\\u003eType: concept\",\"Kitchen\\u003cbr\\u003eType: concept\",\"Shattering Tell Abu Hureyra Tell Aswad Category\\u003cbr\\u003eType: concept\",\"North West\\u003cbr\\u003eType: person\",\"Carl Wilhelm Scheele\\u003cbr\\u003eType: person\",\"European\\u003cbr\\u003eType: concept\",\"Wheat\\u003cbr\\u003eType: concept\",\"Bread  Media\\u003cbr\\u003eType: person\",\"Contemporary History\\u003cbr\\u003eType: person\",\"Sponge\\u003cbr\\u003eType: concept\",\"Flour Main\\u003cbr\\u003eType: person\",\"Way It Is Made\\u003cbr\\u003eType: concept\",\"Protein\\u003cbr\\u003eType: concept\",\"Burmese Burundian Cambodian Cameroonian Canadian Acadian\\u003cbr\\u003eType: concept\",\"References\\u003cbr\\u003eType: concept\",\"Such\\u003cbr\\u003eType: concept\",\"North Africa\\u003cbr\\u003eType: person\",\"Unleavened\\u003cbr\\u003eType: concept\",\"The Russo\\u003cbr\\u003eType: person\",\"Technology\\u003cbr\\u003eType: concept\",\"Sourdough\\u003cbr\\u003eType: concept\",\"Winter Farro Einkorn Emmer Spelt\\u003cbr\\u003eType: concept\",\"Sweet\\u003cbr\\u003eType: concept\",\"Good Bread Is Back\\u003cbr\\u003eType: concept\",\"Scottish\\u003cbr\\u003eType: concept\",\"Bowl\\u003cbr\\u003eType: concept\",\"Fortification\\u003cbr\\u003eType: concept\",\"Sourdough Sprouted Unleavened White\\u003cbr\\u003eType: concept\",\"Salt\\u003cbr\\u003eType: concept\",\"Rebaked\\u003cbr\\u003eType: concept\",\"Crouton\\u003cbr\\u003eType: concept\",\"Trade Australian Wheat Board Canadian Wheat Board Corn\\u003cbr\\u003eType: concept\",\"Corn\\u003cbr\\u003eType: concept\",\"Unholy History\\u003cbr\\u003eType: person\",\"Vienna\\u003cbr\\u003eType: concept\",\"Pakistani\\u003cbr\\u003eType: concept\",\"Mongolian Montenegrin Moroccan Mozambican Namibian Nauruan Nepalese New Zealand Nicaraguan Niger Nigerian Niuean Norwegian Omani Pakistani Palestinian Panamanian Papua New Guinean Paraguayan Peruvian Polish Portuguese Qatari Romanian Russian Bashkir Chechen Circassian Cossack Komi Mordovian Sakha Tatar Udmurt Yamal Rwandan Saint Lucian Salvadoran Sammarinese\\u003cbr\\u003eType: date\",\"Lactic Acid Making\\u003cbr\\u003eType: person\",\"Middle East\\u003cbr\\u003eType: person\",\"Americas\\u003cbr\\u003eType: concept\",\"Fructose\\u003cbr\\u003eType: concept\",\"Durum Einkorn Emmer Khorasan Spelt Agronomy Wheat\\u003cbr\\u003eType: concept\",\"Ukrainian War\\u003cbr\\u003eType: person\",\"American\\u003cbr\\u003eType: concept\",\"Poolish\\u003cbr\\u003eType: concept\",\"Berlin\\u003cbr\\u003eType: concept\",\"Douglas\\u003cbr\\u003eType: concept\",\"Woman\\u003cbr\\u003eType: concept\",\"Gluten\\u003cbr\\u003eType: concept\",\"Brown\\u003cbr\\u003eType: concept\",\"See\\u003cbr\\u003eType: concept\",\"Canada Plant\\u003cbr\\u003eType: person\",\"Ritual\\u003cbr\\u003eType: concept\",\"Heinrich Eduard\\u003cbr\\u003eType: person\",\"History\\u003cbr\\u003eType: concept\",\"Milling Farina Flour Middlings Semolina Parboiling Bulgur As\\u003cbr\\u003eType: concept\",\"Germany\\u003cbr\\u003eType: concept\",\"Multigrain Quick Rye\\u003cbr\\u003eType: person\",\"Baking Research Association\\u003cbr\\u003eType: person\",\"Disease Prevention\\u003cbr\\u003eType: person\",\"Vacuum\\u003cbr\\u003eType: concept\",\"Drink Food\\u003cbr\\u003eType: person\",\"Bissauan Guinean Guyana Haitian Honduran Hungarian Icelandic Indian Andhra Arunachali Assamese Bengali Bihari Chhattisgarhi Goan Gujarati Haryanvi Kashmiri Jharkhandi Karnataka Kerala Maharashtrian Manipuri Meghalayan Mizo Naga Odia Punjabi Rajasthani Sikkimese Sindhi Tamil Telangana Tripuri Uttar Pradesh Uttarakhandi Indonesian Acehnese Balinese Banjar Batak Betawi Gorontalese Indo Javanese Madurese Makassar Minahasan Minangkabau Palembangese Sundanese Iranian Iraqi Irish Israeli Italian Abruzzese Apulian Emilian Ligurian Lombard Lucanian Neapolitan Piedmontese Roman Sardinian Sicilian Tuscan Venetian Ivorian Jamaican Japanese Okinawan Jordanian Kazakh Kenyan Korean North Korean South Korean Kosovan Kuwaiti Kyrgyz Lao Latvian Lebanese Lesotho Liberian Libyan Liechtensteiner Lithuanian Luxembourgish Macedonian Malagasy Malawian Malaysian Sabahan Sarawakian Maldivian Malian Maltese Marshallese Mauritanian Mauritian Mexican Moldovan\\u003cbr\\u003eType: date\",\"Sikh Historical Ancient Egyptian Ancient Greek Ancient Israelite Ancient Roman Antebellum America Aztec Byzantine Early\\u003cbr\\u003eType: concept\",\"Baking Science\\u003cbr\\u003eType: person\",\"Academic Press\\u003cbr\\u003eType: person\",\"Louvre Museum\\u003cbr\\u003eType: person\",\"Cultural\\u003cbr\\u003eType: concept\",\"Plant\\u003cbr\\u003eType: concept\",\"Natufian\\u003cbr\\u003eType: concept\",\"Biotechnology\\u003cbr\\u003eType: concept\",\"Processes\\u003cbr\\u003eType: concept\",\"Tobagonian Tunisian Turkish Turkmen Tuvaluan Ugandan Ukrainian Uruguayan Uzbek Vanuatuan Venezuelan Vietnamese Western Saharan Yemeni Zambian Zimbabwean Ethnic African American Ainu Arab Arab\\u003cbr\\u003eType: concept\",\"Benninga\\u003cbr\\u003eType: concept\",\"The Paths\\u003cbr\\u003eType: person\",\"Types Main\\u003cbr\\u003eType: person\",\"Herzegovinian Botswana Brazilian British Anguillia Channel Islands English Gibraltarian Northern Irish Saint Helena Scottish Welsh Bruneian Bulgarian\\u003cbr\\u003eType: concept\",\"Non\\u003cbr\\u003eType: concept\",\"Flour Regulations\\u003cbr\\u003eType: person\",\"Pakistani History\\u003cbr\\u003eType: person\",\"Fusion New American Eurasian Haute Molecular\\u003cbr\\u003eType: concept\",\"East Timor Professional\\u003cbr\\u003eType: person\",\"Liquids Water\\u003cbr\\u003eType: person\",\"Sandwich\\u003cbr\\u003eType: concept\",\"Harper\\u003cbr\\u003eType: concept\",\"Aberdour Castle\\u003cbr\\u003eType: person\",\"France\\u003cbr\\u003eType: concept\",\"Scandinavian\\u003cbr\\u003eType: concept\",\"Diet Fat Meal Meal\\u003cbr\\u003eType: concept\",\"Uses Beer\\u003cbr\\u003eType: person\",\"Barley Fonio Job\\u003cbr\\u003eType: person\",\"Further\\u003cbr\\u003eType: concept\",\"Djulis Lamiaceae Chia Emerging\\u003cbr\\u003eType: date\",\"King Arthur Flour\\u003cbr\\u003eType: person\",\"Wikipedia Jump\\u003cbr\\u003eType: person\",\"Hittite Inca Mayan Muisca Mughal Medieval Ottoman Peasant Pre\\u003cbr\\u003eType: date\",\"Berlin Wall\\u003cbr\\u003eType: person\",\"The\\u003cbr\\u003eType: concept\",\"Eiffel Tower\\u003cbr\\u003eType: person\",\"Brandenburg Gate\\u003cbr\\u003eType: person\",\"Paris\\u003cbr\\u003eType: concept\",\"Chapter\\u003cbr\\u003eType: concept\"],\"marker\":{\"color\":[\"lightgray\",\"pink\",\"lightgray\",\"lightgray\",\"lightgray\",\"lightgray\",\"lightgray\",\"lightgray\",\"lightblue\",\"lightgray\",\"lightgray\",\"lightblue\",\"lightgray\",\"lightgray\",\"lightgray\",\"lightgray\",\"lightblue\",\"lightblue\",\"lightgray\",\"lightgray\",\"lightblue\",\"lightblue\",\"lightgray\",\"lightblue\",\"lightgray\",\"lightgray\",\"lightgray\",\"lightgray\",\"lightgray\",\"lightblue\",\"lightgray\",\"lightblue\",\"lightgray\",\"lightgray\",\"lightgray\",\"lightgray\",\"lightgray\",\"lightgray\",\"lightgray\",\"lightgray\",\"lightgray\",\"lightgray\",\"lightgray\",\"lightgray\",\"lightgray\",\"lightgray\",\"lightblue\",\"lightgray\",\"lightgray\",\"pink\",\"lightblue\",\"lightblue\",\"lightgray\",\"lightgray\",\"lightgray\",\"lightblue\",\"lightgray\",\"lightgray\",\"lightgray\",\"lightgray\",\"lightgray\",\"lightgray\",\"lightgray\",\"lightgray\",\"lightblue\",\"lightgray\",\"lightblue\",\"lightgray\",\"lightgray\",\"lightgray\",\"lightblue\",\"lightblue\",\"lightblue\",\"lightgray\",\"lightblue\",\"pink\",\"lightgray\",\"lightblue\",\"lightblue\",\"lightblue\",\"lightgray\",\"lightgray\",\"lightgray\",\"lightgray\",\"lightgray\",\"lightgray\",\"lightgray\",\"lightblue\",\"lightblue\",\"lightgray\",\"lightgray\",\"lightblue\",\"lightblue\",\"lightgray\",\"lightblue\",\"lightblue\",\"lightgray\",\"lightgray\",\"lightblue\",\"lightgray\",\"lightgray\",\"lightgray\",\"lightblue\",\"lightblue\",\"lightgray\",\"pink\",\"lightblue\",\"lightblue\",\"pink\",\"lightblue\",\"lightgray\",\"lightblue\",\"lightblue\",\"lightgray\",\"lightgray\"],\"line\":{\"color\":\"black\",\"width\":1},\"size\":[10,10,10,10,10,10,10,10,10,10,10,10,10,10,10,10,10,10,10,10,10,10,10,10,10,10,10,10,10,10,10,10,10,10,10,10,10,10,10,10,10,10,10,10,10,10,10,10,10,10,10,10,10,10,10,10,10,10,10,10,10,10,10,10,10,10,10,10,10,10,10,10,10,10,10,10,10,10,10,10,10,10,10,10,10,10,10,10,10,10,10,10,10,10,10,10,10,10,10,10,10,10,10,10,10,10,10,10,10,10,10,10,10,10,10]},\"mode\":\"markers+text\",\"showlegend\":false,\"text\":[\"Type\",\"Afghan Albanian Algerian American Puerto Rican Angolan Antarctic Argentine Armenian Australian Austrian Azerbaijani Bahraini Bangladeshi Barbadian Belarusian Belgian Belizean Beninese Bhutanese Bolivian Bosnian\",\"Lists\",\"Loaf\",\"Swedish\",\"Note\",\"People Who Make It\",\"List\",\"Acrylamide Content\",\"Toast\",\"Water\",\"Its Holy\",\"Soda\",\"Brand\",\"Kitchen\",\"Shattering Tell Abu Hureyra Tell Aswad Category\",\"North West\",\"Carl Wilhelm Scheele\",\"European\",\"Wheat\",\"Bread  Media\",\"Contemporary History\",\"Sponge\",\"Flour Main\",\"Way It Is Made\",\"Protein\",\"Burmese Burundian Cambodian Cameroonian Canadian Acadian\",\"References\",\"Such\",\"North Africa\",\"Unleavened\",\"The Russo\",\"Technology\",\"Sourdough\",\"Winter Farro Einkorn Emmer Spelt\",\"Sweet\",\"Good Bread Is Back\",\"Scottish\",\"Bowl\",\"Fortification\",\"Sourdough Sprouted Unleavened White\",\"Salt\",\"Rebaked\",\"Crouton\",\"Trade Australian Wheat Board Canadian Wheat Board Corn\",\"Corn\",\"Unholy History\",\"Vienna\",\"Pakistani\",\"Mongolian Montenegrin Moroccan Mozambican Namibian Nauruan Nepalese New Zealand Nicaraguan Niger Nigerian Niuean Norwegian Omani Pakistani Palestinian Panamanian Papua New Guinean Paraguayan Peruvian Polish Portuguese Qatari Romanian Russian Bashkir Chechen Circassian Cossack Komi Mordovian Sakha Tatar Udmurt Yamal Rwandan Saint Lucian Salvadoran Sammarinese\",\"Lactic Acid Making\",\"Middle East\",\"Americas\",\"Fructose\",\"Durum Einkorn Emmer Khorasan Spelt Agronomy Wheat\",\"Ukrainian War\",\"American\",\"Poolish\",\"Berlin\",\"Douglas\",\"Woman\",\"Gluten\",\"Brown\",\"See\",\"Canada Plant\",\"Ritual\",\"Heinrich Eduard\",\"History\",\"Milling Farina Flour Middlings Semolina Parboiling Bulgur As\",\"Germany\",\"Multigrain Quick Rye\",\"Baking Research Association\",\"Disease Prevention\",\"Vacuum\",\"Drink Food\",\"Bissauan Guinean Guyana Haitian Honduran Hungarian Icelandic Indian Andhra Arunachali Assamese Bengali Bihari Chhattisgarhi Goan Gujarati Haryanvi Kashmiri Jharkhandi Karnataka Kerala Maharashtrian Manipuri Meghalayan Mizo Naga Odia Punjabi Rajasthani Sikkimese Sindhi Tamil Telangana Tripuri Uttar Pradesh Uttarakhandi Indonesian Acehnese Balinese Banjar Batak Betawi Gorontalese Indo Javanese Madurese Makassar Minahasan Minangkabau Palembangese Sundanese Iranian Iraqi Irish Israeli Italian Abruzzese Apulian Emilian Ligurian Lombard Lucanian Neapolitan Piedmontese Roman Sardinian Sicilian Tuscan Venetian Ivorian Jamaican Japanese Okinawan Jordanian Kazakh Kenyan Korean North Korean South Korean Kosovan Kuwaiti Kyrgyz Lao Latvian Lebanese Lesotho Liberian Libyan Liechtensteiner Lithuanian Luxembourgish Macedonian Malagasy Malawian Malaysian Sabahan Sarawakian Maldivian Malian Maltese Marshallese Mauritanian Mauritian Mexican Moldovan\",\"Sikh Historical Ancient Egyptian Ancient Greek Ancient Israelite Ancient Roman Antebellum America Aztec Byzantine Early\",\"Baking Science\",\"Academic Press\",\"Louvre Museum\",\"Cultural\",\"Plant\",\"Natufian\",\"Biotechnology\",\"Processes\",\"Tobagonian Tunisian Turkish Turkmen Tuvaluan Ugandan Ukrainian Uruguayan Uzbek Vanuatuan Venezuelan Vietnamese Western Saharan Yemeni Zambian Zimbabwean Ethnic African American Ainu Arab Arab\",\"Benninga\",\"The Paths\",\"Types Main\",\"Herzegovinian Botswana Brazilian British Anguillia Channel Islands English Gibraltarian Northern Irish Saint Helena Scottish Welsh Bruneian Bulgarian\",\"Non\",\"Flour Regulations\",\"Pakistani History\",\"Fusion New American Eurasian Haute Molecular\",\"East Timor Professional\",\"Liquids Water\",\"Sandwich\",\"Harper\",\"Aberdour Castle\",\"France\",\"Scandinavian\",\"Diet Fat Meal Meal\",\"Uses Beer\",\"Barley Fonio Job\",\"Further\",\"Djulis Lamiaceae Chia Emerging\",\"King Arthur Flour\",\"Wikipedia Jump\",\"Hittite Inca Mayan Muisca Mughal Medieval Ottoman Peasant Pre\",\"Berlin Wall\",\"The\",\"Eiffel Tower\",\"Brandenburg Gate\",\"Paris\",\"Chapter\"],\"textfont\":{\"size\":8},\"textposition\":\"top center\",\"x\":[-0.056409917088014905,0.789378839139489,-0.6781004761891646,-0.8774505550899908,0.3108426001361509,-0.7281417500883415,0.7726373521025138,-0.7654132049901297,-0.6885176245685793,-0.3381704676465943,0.21433419758491024,0.0818083472134615,-0.05855577207188427,-0.9171591389452486,0.03982459082998889,0.37814346811265687,-0.6058399852285372,0.906093755452706,-0.4324749761997101,0.8989056229584482,-0.957144971963357,-0.7890755859832299,-0.6371753036628952,-0.46705889929511063,0.10791815829810433,0.956112811751541,0.7437396426716357,0.07315175790199771,-0.8335816720256628,-0.9632088742333023,-0.5319325223889173,0.9329604602110779,-0.8490600351697383,-0.6410233173349791,-0.4171322864044282,0.5916216549810185,-0.9488533692421746,0.6266182432465938,0.5449727220218602,-0.057942159029295406,0.87671270804455,-0.20636049548049762,-0.6740811802469103,0.7057388793119127,0.9730922394404723,-0.8779556753562772,0.2377381393646877,0.9313284890413468,0.364496709637724,-0.7673708291986228,-0.9691981205643211,-0.8510626765129977,0.946102209099702,-0.15468160366990455,-0.5579270389836058,-0.6101090813884755,0.7933569878206653,0.17203765087029402,0.6807270024238398,0.9719072404882878,0.46537604590231674,-0.29022460126306343,-0.8964937330813304,0.5571098258312174,-0.9964775717176523,-0.20081089626786067,-0.9157620921216564,0.9834910423098219,0.03404213064391027,-0.19388213442686683,0.9417134358143118,0.497739885586467,-0.3695541302593283,0.7067982615166051,-0.9175302063538501,0.8536720479743796,-0.9472113137060968,0.9134883596992285,0.44892798105695636,-0.4789934785523092,-0.24507538517344382,0.8347271970755705,-0.8130729139133201,-0.4761839674140896,-0.980986853420775,0.4143932088878152,0.00581109045555854,0.4659533197721541,0.8424474711873241,0.7620803449681136,-0.12353754044246236,0.6534631134111603,-0.7932493583183771,0.9394083943961101,0.25571573288459476,-0.5048730947412722,0.9599759426308777,-0.8142029496295989,0.35798698134943835,0.83123661785315,0.31188563945714937,-0.30233847914070294,0.16394102044868925,-0.9287521941971879,-0.9094438789138204,0.14985380614191793,0.6354949310640233,0.7866735610371407,-0.3596902067720642,0.2557813369483345,0.5410585615518845,-0.9607980582431052,-0.8018196650640776,1.0,0.9365845013613581],\"y\":[0.9892550758826654,0.4864273107701809,-0.7290148570273671,0.5233791584594626,0.863968191071677,0.7677301943237842,-0.6167000366577247,-0.6146497129525029,0.5583708599948216,-0.8388281663444896,-0.9398259774708855,-0.22490619484851754,0.9333566009664735,0.1675879245713035,-0.9885253173020447,-0.8747966160612428,0.8464920587595257,0.48754112051831605,-0.8827867350791642,-0.12450383442196455,0.04739011851984169,0.6781993364520826,0.6729291763590868,0.7058990824087182,-0.938474033285493,0.36036668485547846,0.7261000259768724,0.9793019990458564,-0.55773880546276,-0.24326950937966565,-0.7485747106799743,-0.23455546831007978,0.31440663745602543,0.7531170057457562,0.9526188142078417,-0.7761619224237958,0.38653207430105513,0.7063458968102596,-0.8491619781800148,-0.9596728448327527,0.4104469547766121,-0.967232805665264,-0.6240838216197907,0.6061953988535647,-0.02027075049405641,0.43127369667027715,-0.16815085934496712,0.033003635541492285,0.7268500600621915,-0.6989838449295006,0.2258006261170538,-0.016089231239337372,-0.30344982117943026,0.9150144460786983,-0.8319306243719486,-0.7478413615073325,0.6395419875818964,0.954309408458692,-0.7150415512626506,0.08805438663731212,0.8914978249280995,-0.9328351526667651,-0.22467662310725828,0.8314126163779073,-0.023280741217217613,-0.9104905430316708,-0.31904494519764975,-0.17643418452905646,0.9052115645462094,0.9822395284321843,-0.3819814144183636,-0.7370906899260571,-0.9347168789984204,-0.4886407784386866,-0.3953290645565377,-0.5247916130229705,-0.08024853788987298,-0.46671707479827046,0.8324839116658134,0.8154577451382662,0.8579599145920623,0.29347362113718534,0.5985260299820846,-0.8276507154127369,0.1207022277450832,-0.9215712212217964,-0.928672121562906,-0.8373045273414141,-0.3609699717861086,-0.693938163067267,-0.9625197814418699,0.7939240106234442,0.4877178435180754,0.15124415676733044,-0.8778234234241895,0.8828354486167271,0.21325864689885207,-0.3867284947989213,0.9248810116273675,0.5582291118766999,-0.9324341742897249,0.9491834708482494,-0.9919284150507095,0.30037688516345523,-0.48544597527465233,0.8934840843474018,-0.6967008881733217,-0.5328211584692287,0.86310900570763,0.9314622561493873,0.7052444064317055,-0.15287667383084008,-0.49831184537147444,-0.08880268691595053,0.2862786002105349],\"type\":\"scatter\"}],                        {\"template\":{\"data\":{\"candlestick\":[{\"decreasing\":{\"line\":{\"color\":\"#000033\"}},\"increasing\":{\"line\":{\"color\":\"#000032\"}},\"type\":\"candlestick\"}],\"contourcarpet\":[{\"colorscale\":[[0.0,\"#000011\"],[0.1111111111111111,\"#000012\"],[0.2222222222222222,\"#000013\"],[0.3333333333333333,\"#000014\"],[0.4444444444444444,\"#000015\"],[0.5555555555555556,\"#000016\"],[0.6666666666666666,\"#000017\"],[0.7777777777777778,\"#000018\"],[0.8888888888888888,\"#000019\"],[1.0,\"#000020\"]],\"type\":\"contourcarpet\"}],\"contour\":[{\"colorscale\":[[0.0,\"#000011\"],[0.1111111111111111,\"#000012\"],[0.2222222222222222,\"#000013\"],[0.3333333333333333,\"#000014\"],[0.4444444444444444,\"#000015\"],[0.5555555555555556,\"#000016\"],[0.6666666666666666,\"#000017\"],[0.7777777777777778,\"#000018\"],[0.8888888888888888,\"#000019\"],[1.0,\"#000020\"]],\"type\":\"contour\"}],\"heatmap\":[{\"colorscale\":[[0.0,\"#000011\"],[0.1111111111111111,\"#000012\"],[0.2222222222222222,\"#000013\"],[0.3333333333333333,\"#000014\"],[0.4444444444444444,\"#000015\"],[0.5555555555555556,\"#000016\"],[0.6666666666666666,\"#000017\"],[0.7777777777777778,\"#000018\"],[0.8888888888888888,\"#000019\"],[1.0,\"#000020\"]],\"type\":\"heatmap\"}],\"histogram2d\":[{\"colorscale\":[[0.0,\"#000011\"],[0.1111111111111111,\"#000012\"],[0.2222222222222222,\"#000013\"],[0.3333333333333333,\"#000014\"],[0.4444444444444444,\"#000015\"],[0.5555555555555556,\"#000016\"],[0.6666666666666666,\"#000017\"],[0.7777777777777778,\"#000018\"],[0.8888888888888888,\"#000019\"],[1.0,\"#000020\"]],\"type\":\"histogram2d\"}],\"icicle\":[{\"textfont\":{\"color\":\"white\"},\"type\":\"icicle\"}],\"sankey\":[{\"textfont\":{\"color\":\"#000036\"},\"type\":\"sankey\"}],\"scatter\":[{\"marker\":{\"line\":{\"width\":0}},\"type\":\"scatter\"}],\"table\":[{\"cells\":{\"fill\":{\"color\":\"#000038\"},\"font\":{\"color\":\"#000037\"},\"line\":{\"color\":\"#000039\"}},\"header\":{\"fill\":{\"color\":\"#000040\"},\"font\":{\"color\":\"#000036\"},\"line\":{\"color\":\"#000039\"}},\"type\":\"table\"}],\"waterfall\":[{\"connector\":{\"line\":{\"color\":\"#000036\",\"width\":2}},\"decreasing\":{\"marker\":{\"color\":\"#000033\"}},\"increasing\":{\"marker\":{\"color\":\"#000032\"}},\"totals\":{\"marker\":{\"color\":\"#000034\"}},\"type\":\"waterfall\"}]},\"layout\":{\"coloraxis\":{\"colorscale\":[[0.0,\"#000011\"],[0.1111111111111111,\"#000012\"],[0.2222222222222222,\"#000013\"],[0.3333333333333333,\"#000014\"],[0.4444444444444444,\"#000015\"],[0.5555555555555556,\"#000016\"],[0.6666666666666666,\"#000017\"],[0.7777777777777778,\"#000018\"],[0.8888888888888888,\"#000019\"],[1.0,\"#000020\"]]},\"colorscale\":{\"diverging\":[[0.0,\"#000021\"],[0.1,\"#000022\"],[0.2,\"#000023\"],[0.3,\"#000024\"],[0.4,\"#000025\"],[0.5,\"#000026\"],[0.6,\"#000027\"],[0.7,\"#000028\"],[0.8,\"#000029\"],[0.9,\"#000030\"],[1.0,\"#000031\"]],\"sequential\":[[0.0,\"#000011\"],[0.1111111111111111,\"#000012\"],[0.2222222222222222,\"#000013\"],[0.3333333333333333,\"#000014\"],[0.4444444444444444,\"#000015\"],[0.5555555555555556,\"#000016\"],[0.6666666666666666,\"#000017\"],[0.7777777777777778,\"#000018\"],[0.8888888888888888,\"#000019\"],[1.0,\"#000020\"]],\"sequentialminus\":[[0.0,\"#000011\"],[0.1111111111111111,\"#000012\"],[0.2222222222222222,\"#000013\"],[0.3333333333333333,\"#000014\"],[0.4444444444444444,\"#000015\"],[0.5555555555555556,\"#000016\"],[0.6666666666666666,\"#000017\"],[0.7777777777777778,\"#000018\"],[0.8888888888888888,\"#000019\"],[1.0,\"#000020\"]]},\"colorway\":[\"#000001\",\"#000002\",\"#000003\",\"#000004\",\"#000005\",\"#000006\",\"#000007\",\"#000008\",\"#000009\",\"#000010\"]}},\"margin\":{\"b\":20,\"l\":5,\"r\":5,\"t\":40},\"xaxis\":{\"showgrid\":false,\"zeroline\":false,\"showticklabels\":false},\"yaxis\":{\"showgrid\":false,\"zeroline\":false,\"showticklabels\":false},\"title\":{\"text\":\"Knowledge Graph Visualization\"},\"showlegend\":false,\"hovermode\":\"closest\",\"annotations\":[{\"showarrow\":false,\"text\":\"Drag to pan, scroll to zoom\",\"x\":0.005,\"xref\":\"paper\",\"y\":-0.002,\"yref\":\"paper\"}],\"plot_bgcolor\":\"white\"},                        {\"responsive\": true}                    )                };            </script>        </div>"
      ],
      "text/plain": [
       "Figure({\n",
       "    'data': [{'hoverinfo': 'none',\n",
       "              'line': {'color': 'gray', 'width': 1},\n",
       "              'mode': 'lines',\n",
       "              'showlegend': False,\n",
       "              'type': 'scatter',\n",
       "              'x': [0.0818083472134615, 0.2377381393646877, None],\n",
       "              'y': [-0.22490619484851754, -0.16815085934496712, None]},\n",
       "             {'hoverinfo': 'text',\n",
       "              'hovertext': [Type<br>Type: concept, Afghan Albanian Algerian\n",
       "                            American Puerto Rican Angolan Antarctic Argentine\n",
       "                            Armenian Australian Austrian Azerbaijani Bahraini\n",
       "                            Bangladeshi Barbadian Belarusian Belgian Belizean\n",
       "                            Beninese Bhutanese Bolivian Bosnian<br>Type: date,\n",
       "                            Lists<br>Type: concept, Loaf<br>Type: concept,\n",
       "                            Swedish<br>Type: concept, Note<br>Type: concept, People\n",
       "                            Who Make It<br>Type: concept, List<br>Type: concept,\n",
       "                            Acrylamide Content<br>Type: person, Toast<br>Type:\n",
       "                            concept, Water<br>Type: concept, Its Holy<br>Type:\n",
       "                            person, Soda<br>Type: concept, Brand<br>Type: concept,\n",
       "                            Kitchen<br>Type: concept, Shattering Tell Abu Hureyra\n",
       "                            Tell Aswad Category<br>Type: concept, North\n",
       "                            West<br>Type: person, Carl Wilhelm Scheele<br>Type:\n",
       "                            person, European<br>Type: concept, Wheat<br>Type:\n",
       "                            concept, Bread  Media<br>Type: person, Contemporary\n",
       "                            History<br>Type: person, Sponge<br>Type: concept, Flour\n",
       "                            Main<br>Type: person, Way It Is Made<br>Type: concept,\n",
       "                            Protein<br>Type: concept, Burmese Burundian Cambodian\n",
       "                            Cameroonian Canadian Acadian<br>Type: concept,\n",
       "                            References<br>Type: concept, Such<br>Type: concept,\n",
       "                            North Africa<br>Type: person, Unleavened<br>Type:\n",
       "                            concept, The Russo<br>Type: person, Technology<br>Type:\n",
       "                            concept, Sourdough<br>Type: concept, Winter Farro\n",
       "                            Einkorn Emmer Spelt<br>Type: concept, Sweet<br>Type:\n",
       "                            concept, Good Bread Is Back<br>Type: concept,\n",
       "                            Scottish<br>Type: concept, Bowl<br>Type: concept,\n",
       "                            Fortification<br>Type: concept, Sourdough Sprouted\n",
       "                            Unleavened White<br>Type: concept, Salt<br>Type:\n",
       "                            concept, Rebaked<br>Type: concept, Crouton<br>Type:\n",
       "                            concept, Trade Australian Wheat Board Canadian Wheat\n",
       "                            Board Corn<br>Type: concept, Corn<br>Type: concept,\n",
       "                            Unholy History<br>Type: person, Vienna<br>Type:\n",
       "                            concept, Pakistani<br>Type: concept, Mongolian\n",
       "                            Montenegrin Moroccan Mozambican Namibian Nauruan\n",
       "                            Nepalese New Zealand Nicaraguan Niger Nigerian Niuean\n",
       "                            Norwegian Omani Pakistani Palestinian Panamanian Papua\n",
       "                            New Guinean Paraguayan Peruvian Polish Portuguese\n",
       "                            Qatari Romanian Russian Bashkir Chechen Circassian\n",
       "                            Cossack Komi Mordovian Sakha Tatar Udmurt Yamal Rwandan\n",
       "                            Saint Lucian Salvadoran Sammarinese<br>Type: date,\n",
       "                            Lactic Acid Making<br>Type: person, Middle\n",
       "                            East<br>Type: person, Americas<br>Type: concept,\n",
       "                            Fructose<br>Type: concept, Durum Einkorn Emmer Khorasan\n",
       "                            Spelt Agronomy Wheat<br>Type: concept, Ukrainian\n",
       "                            War<br>Type: person, American<br>Type: concept,\n",
       "                            Poolish<br>Type: concept, Berlin<br>Type: concept,\n",
       "                            Douglas<br>Type: concept, Woman<br>Type: concept,\n",
       "                            Gluten<br>Type: concept, Brown<br>Type: concept,\n",
       "                            See<br>Type: concept, Canada Plant<br>Type: person,\n",
       "                            Ritual<br>Type: concept, Heinrich Eduard<br>Type:\n",
       "                            person, History<br>Type: concept, Milling Farina Flour\n",
       "                            Middlings Semolina Parboiling Bulgur As<br>Type:\n",
       "                            concept, Germany<br>Type: concept, Multigrain Quick\n",
       "                            Rye<br>Type: person, Baking Research\n",
       "                            Association<br>Type: person, Disease\n",
       "                            Prevention<br>Type: person, Vacuum<br>Type: concept,\n",
       "                            Drink Food<br>Type: person, Bissauan Guinean Guyana\n",
       "                            Haitian Honduran Hungarian Icelandic Indian Andhra\n",
       "                            Arunachali Assamese Bengali Bihari Chhattisgarhi Goan\n",
       "                            Gujarati Haryanvi Kashmiri Jharkhandi Karnataka Kerala\n",
       "                            Maharashtrian Manipuri Meghalayan Mizo Naga Odia\n",
       "                            Punjabi Rajasthani Sikkimese Sindhi Tamil Telangana\n",
       "                            Tripuri Uttar Pradesh Uttarakhandi Indonesian Acehnese\n",
       "                            Balinese Banjar Batak Betawi Gorontalese Indo Javanese\n",
       "                            Madurese Makassar Minahasan Minangkabau Palembangese\n",
       "                            Sundanese Iranian Iraqi Irish Israeli Italian Abruzzese\n",
       "                            Apulian Emilian Ligurian Lombard Lucanian Neapolitan\n",
       "                            Piedmontese Roman Sardinian Sicilian Tuscan Venetian\n",
       "                            Ivorian Jamaican Japanese Okinawan Jordanian Kazakh\n",
       "                            Kenyan Korean North Korean South Korean Kosovan Kuwaiti\n",
       "                            Kyrgyz Lao Latvian Lebanese Lesotho Liberian Libyan\n",
       "                            Liechtensteiner Lithuanian Luxembourgish Macedonian\n",
       "                            Malagasy Malawian Malaysian Sabahan Sarawakian\n",
       "                            Maldivian Malian Maltese Marshallese Mauritanian\n",
       "                            Mauritian Mexican Moldovan<br>Type: date, Sikh\n",
       "                            Historical Ancient Egyptian Ancient Greek Ancient\n",
       "                            Israelite Ancient Roman Antebellum America Aztec\n",
       "                            Byzantine Early<br>Type: concept, Baking\n",
       "                            Science<br>Type: person, Academic Press<br>Type:\n",
       "                            person, Louvre Museum<br>Type: person,\n",
       "                            Cultural<br>Type: concept, Plant<br>Type: concept,\n",
       "                            Natufian<br>Type: concept, Biotechnology<br>Type:\n",
       "                            concept, Processes<br>Type: concept, Tobagonian\n",
       "                            Tunisian Turkish Turkmen Tuvaluan Ugandan Ukrainian\n",
       "                            Uruguayan Uzbek Vanuatuan Venezuelan Vietnamese Western\n",
       "                            Saharan Yemeni Zambian Zimbabwean Ethnic African\n",
       "                            American Ainu Arab Arab<br>Type: concept,\n",
       "                            Benninga<br>Type: concept, The Paths<br>Type: person,\n",
       "                            Types Main<br>Type: person, Herzegovinian Botswana\n",
       "                            Brazilian British Anguillia Channel Islands English\n",
       "                            Gibraltarian Northern Irish Saint Helena Scottish Welsh\n",
       "                            Bruneian Bulgarian<br>Type: concept, Non<br>Type:\n",
       "                            concept, Flour Regulations<br>Type: person, Pakistani\n",
       "                            History<br>Type: person, Fusion New American Eurasian\n",
       "                            Haute Molecular<br>Type: concept, East Timor\n",
       "                            Professional<br>Type: person, Liquids Water<br>Type:\n",
       "                            person, Sandwich<br>Type: concept, Harper<br>Type:\n",
       "                            concept, Aberdour Castle<br>Type: person,\n",
       "                            France<br>Type: concept, Scandinavian<br>Type: concept,\n",
       "                            Diet Fat Meal Meal<br>Type: concept, Uses Beer<br>Type:\n",
       "                            person, Barley Fonio Job<br>Type: person,\n",
       "                            Further<br>Type: concept, Djulis Lamiaceae Chia\n",
       "                            Emerging<br>Type: date, King Arthur Flour<br>Type:\n",
       "                            person, Wikipedia Jump<br>Type: person, Hittite Inca\n",
       "                            Mayan Muisca Mughal Medieval Ottoman Peasant\n",
       "                            Pre<br>Type: date, Berlin Wall<br>Type: person,\n",
       "                            The<br>Type: concept, Eiffel Tower<br>Type: person,\n",
       "                            Brandenburg Gate<br>Type: person, Paris<br>Type:\n",
       "                            concept, Chapter<br>Type: concept],\n",
       "              'marker': {'color': [lightgray, pink, lightgray, lightgray,\n",
       "                                   lightgray, lightgray, lightgray, lightgray,\n",
       "                                   lightblue, lightgray, lightgray, lightblue,\n",
       "                                   lightgray, lightgray, lightgray, lightgray,\n",
       "                                   lightblue, lightblue, lightgray, lightgray,\n",
       "                                   lightblue, lightblue, lightgray, lightblue,\n",
       "                                   lightgray, lightgray, lightgray, lightgray,\n",
       "                                   lightgray, lightblue, lightgray, lightblue,\n",
       "                                   lightgray, lightgray, lightgray, lightgray,\n",
       "                                   lightgray, lightgray, lightgray, lightgray,\n",
       "                                   lightgray, lightgray, lightgray, lightgray,\n",
       "                                   lightgray, lightgray, lightblue, lightgray,\n",
       "                                   lightgray, pink, lightblue, lightblue,\n",
       "                                   lightgray, lightgray, lightgray, lightblue,\n",
       "                                   lightgray, lightgray, lightgray, lightgray,\n",
       "                                   lightgray, lightgray, lightgray, lightgray,\n",
       "                                   lightblue, lightgray, lightblue, lightgray,\n",
       "                                   lightgray, lightgray, lightblue, lightblue,\n",
       "                                   lightblue, lightgray, lightblue, pink,\n",
       "                                   lightgray, lightblue, lightblue, lightblue,\n",
       "                                   lightgray, lightgray, lightgray, lightgray,\n",
       "                                   lightgray, lightgray, lightgray, lightblue,\n",
       "                                   lightblue, lightgray, lightgray, lightblue,\n",
       "                                   lightblue, lightgray, lightblue, lightblue,\n",
       "                                   lightgray, lightgray, lightblue, lightgray,\n",
       "                                   lightgray, lightgray, lightblue, lightblue,\n",
       "                                   lightgray, pink, lightblue, lightblue, pink,\n",
       "                                   lightblue, lightgray, lightblue, lightblue,\n",
       "                                   lightgray, lightgray],\n",
       "                         'line': {'color': 'black', 'width': 1},\n",
       "                         'size': [10, 10, 10, 10, 10, 10, 10, 10, 10, 10, 10, 10,\n",
       "                                  10, 10, 10, 10, 10, 10, 10, 10, 10, 10, 10, 10,\n",
       "                                  10, 10, 10, 10, 10, 10, 10, 10, 10, 10, 10, 10,\n",
       "                                  10, 10, 10, 10, 10, 10, 10, 10, 10, 10, 10, 10,\n",
       "                                  10, 10, 10, 10, 10, 10, 10, 10, 10, 10, 10, 10,\n",
       "                                  10, 10, 10, 10, 10, 10, 10, 10, 10, 10, 10, 10,\n",
       "                                  10, 10, 10, 10, 10, 10, 10, 10, 10, 10, 10, 10,\n",
       "                                  10, 10, 10, 10, 10, 10, 10, 10, 10, 10, 10, 10,\n",
       "                                  10, 10, 10, 10, 10, 10, 10, 10, 10, 10, 10, 10,\n",
       "                                  10, 10, 10, 10, 10, 10, 10]},\n",
       "              'mode': 'markers+text',\n",
       "              'showlegend': False,\n",
       "              'text': [Type, Afghan Albanian Algerian American Puerto Rican\n",
       "                       Angolan Antarctic Argentine Armenian Australian Austrian\n",
       "                       Azerbaijani Bahraini Bangladeshi Barbadian Belarusian\n",
       "                       Belgian Belizean Beninese Bhutanese Bolivian Bosnian, Lists,\n",
       "                       Loaf, Swedish, Note, People Who Make It, List, Acrylamide\n",
       "                       Content, Toast, Water, Its Holy, Soda, Brand, Kitchen,\n",
       "                       Shattering Tell Abu Hureyra Tell Aswad Category, North West,\n",
       "                       Carl Wilhelm Scheele, European, Wheat, Bread  Media,\n",
       "                       Contemporary History, Sponge, Flour Main, Way It Is Made,\n",
       "                       Protein, Burmese Burundian Cambodian Cameroonian Canadian\n",
       "                       Acadian, References, Such, North Africa, Unleavened, The\n",
       "                       Russo, Technology, Sourdough, Winter Farro Einkorn Emmer\n",
       "                       Spelt, Sweet, Good Bread Is Back, Scottish, Bowl,\n",
       "                       Fortification, Sourdough Sprouted Unleavened White, Salt,\n",
       "                       Rebaked, Crouton, Trade Australian Wheat Board Canadian\n",
       "                       Wheat Board Corn, Corn, Unholy History, Vienna, Pakistani,\n",
       "                       Mongolian Montenegrin Moroccan Mozambican Namibian Nauruan\n",
       "                       Nepalese New Zealand Nicaraguan Niger Nigerian Niuean\n",
       "                       Norwegian Omani Pakistani Palestinian Panamanian Papua New\n",
       "                       Guinean Paraguayan Peruvian Polish Portuguese Qatari\n",
       "                       Romanian Russian Bashkir Chechen Circassian Cossack Komi\n",
       "                       Mordovian Sakha Tatar Udmurt Yamal Rwandan Saint Lucian\n",
       "                       Salvadoran Sammarinese, Lactic Acid Making, Middle East,\n",
       "                       Americas, Fructose, Durum Einkorn Emmer Khorasan Spelt\n",
       "                       Agronomy Wheat, Ukrainian War, American, Poolish, Berlin,\n",
       "                       Douglas, Woman, Gluten, Brown, See, Canada Plant, Ritual,\n",
       "                       Heinrich Eduard, History, Milling Farina Flour Middlings\n",
       "                       Semolina Parboiling Bulgur As, Germany, Multigrain Quick\n",
       "                       Rye, Baking Research Association, Disease Prevention,\n",
       "                       Vacuum, Drink Food, Bissauan Guinean Guyana Haitian Honduran\n",
       "                       Hungarian Icelandic Indian Andhra Arunachali Assamese\n",
       "                       Bengali Bihari Chhattisgarhi Goan Gujarati Haryanvi Kashmiri\n",
       "                       Jharkhandi Karnataka Kerala Maharashtrian Manipuri\n",
       "                       Meghalayan Mizo Naga Odia Punjabi Rajasthani Sikkimese\n",
       "                       Sindhi Tamil Telangana Tripuri Uttar Pradesh Uttarakhandi\n",
       "                       Indonesian Acehnese Balinese Banjar Batak Betawi Gorontalese\n",
       "                       Indo Javanese Madurese Makassar Minahasan Minangkabau\n",
       "                       Palembangese Sundanese Iranian Iraqi Irish Israeli Italian\n",
       "                       Abruzzese Apulian Emilian Ligurian Lombard Lucanian\n",
       "                       Neapolitan Piedmontese Roman Sardinian Sicilian Tuscan\n",
       "                       Venetian Ivorian Jamaican Japanese Okinawan Jordanian Kazakh\n",
       "                       Kenyan Korean North Korean South Korean Kosovan Kuwaiti\n",
       "                       Kyrgyz Lao Latvian Lebanese Lesotho Liberian Libyan\n",
       "                       Liechtensteiner Lithuanian Luxembourgish Macedonian Malagasy\n",
       "                       Malawian Malaysian Sabahan Sarawakian Maldivian Malian\n",
       "                       Maltese Marshallese Mauritanian Mauritian Mexican Moldovan,\n",
       "                       Sikh Historical Ancient Egyptian Ancient Greek Ancient\n",
       "                       Israelite Ancient Roman Antebellum America Aztec Byzantine\n",
       "                       Early, Baking Science, Academic Press, Louvre Museum,\n",
       "                       Cultural, Plant, Natufian, Biotechnology, Processes,\n",
       "                       Tobagonian Tunisian Turkish Turkmen Tuvaluan Ugandan\n",
       "                       Ukrainian Uruguayan Uzbek Vanuatuan Venezuelan Vietnamese\n",
       "                       Western Saharan Yemeni Zambian Zimbabwean Ethnic African\n",
       "                       American Ainu Arab Arab, Benninga, The Paths, Types Main,\n",
       "                       Herzegovinian Botswana Brazilian British Anguillia Channel\n",
       "                       Islands English Gibraltarian Northern Irish Saint Helena\n",
       "                       Scottish Welsh Bruneian Bulgarian, Non, Flour Regulations,\n",
       "                       Pakistani History, Fusion New American Eurasian Haute\n",
       "                       Molecular, East Timor Professional, Liquids Water, Sandwich,\n",
       "                       Harper, Aberdour Castle, France, Scandinavian, Diet Fat Meal\n",
       "                       Meal, Uses Beer, Barley Fonio Job, Further, Djulis Lamiaceae\n",
       "                       Chia Emerging, King Arthur Flour, Wikipedia Jump, Hittite\n",
       "                       Inca Mayan Muisca Mughal Medieval Ottoman Peasant Pre,\n",
       "                       Berlin Wall, The, Eiffel Tower, Brandenburg Gate, Paris,\n",
       "                       Chapter],\n",
       "              'textfont': {'size': 8},\n",
       "              'textposition': 'top center',\n",
       "              'type': 'scatter',\n",
       "              'x': [-0.056409917088014905, 0.789378839139489, -0.6781004761891646,\n",
       "                    -0.8774505550899908, 0.3108426001361509, -0.7281417500883415,\n",
       "                    0.7726373521025138, -0.7654132049901297, -0.6885176245685793,\n",
       "                    -0.3381704676465943, 0.21433419758491024, 0.0818083472134615,\n",
       "                    -0.05855577207188427, -0.9171591389452486, 0.03982459082998889,\n",
       "                    0.37814346811265687, -0.6058399852285372, 0.906093755452706,\n",
       "                    -0.4324749761997101, 0.8989056229584482, -0.957144971963357,\n",
       "                    -0.7890755859832299, -0.6371753036628952, -0.46705889929511063,\n",
       "                    0.10791815829810433, 0.956112811751541, 0.7437396426716357,\n",
       "                    0.07315175790199771, -0.8335816720256628, -0.9632088742333023,\n",
       "                    -0.5319325223889173, 0.9329604602110779, -0.8490600351697383,\n",
       "                    -0.6410233173349791, -0.4171322864044282, 0.5916216549810185,\n",
       "                    -0.9488533692421746, 0.6266182432465938, 0.5449727220218602,\n",
       "                    -0.057942159029295406, 0.87671270804455, -0.20636049548049762,\n",
       "                    -0.6740811802469103, 0.7057388793119127, 0.9730922394404723,\n",
       "                    -0.8779556753562772, 0.2377381393646877, 0.9313284890413468,\n",
       "                    0.364496709637724, -0.7673708291986228, -0.9691981205643211,\n",
       "                    -0.8510626765129977, 0.946102209099702, -0.15468160366990455,\n",
       "                    -0.5579270389836058, -0.6101090813884755, 0.7933569878206653,\n",
       "                    0.17203765087029402, 0.6807270024238398, 0.9719072404882878,\n",
       "                    0.46537604590231674, -0.29022460126306343, -0.8964937330813304,\n",
       "                    0.5571098258312174, -0.9964775717176523, -0.20081089626786067,\n",
       "                    -0.9157620921216564, 0.9834910423098219, 0.03404213064391027,\n",
       "                    -0.19388213442686683, 0.9417134358143118, 0.497739885586467,\n",
       "                    -0.3695541302593283, 0.7067982615166051, -0.9175302063538501,\n",
       "                    0.8536720479743796, -0.9472113137060968, 0.9134883596992285,\n",
       "                    0.44892798105695636, -0.4789934785523092, -0.24507538517344382,\n",
       "                    0.8347271970755705, -0.8130729139133201, -0.4761839674140896,\n",
       "                    -0.980986853420775, 0.4143932088878152, 0.00581109045555854,\n",
       "                    0.4659533197721541, 0.8424474711873241, 0.7620803449681136,\n",
       "                    -0.12353754044246236, 0.6534631134111603, -0.7932493583183771,\n",
       "                    0.9394083943961101, 0.25571573288459476, -0.5048730947412722,\n",
       "                    0.9599759426308777, -0.8142029496295989, 0.35798698134943835,\n",
       "                    0.83123661785315, 0.31188563945714937, -0.30233847914070294,\n",
       "                    0.16394102044868925, -0.9287521941971879, -0.9094438789138204,\n",
       "                    0.14985380614191793, 0.6354949310640233, 0.7866735610371407,\n",
       "                    -0.3596902067720642, 0.2557813369483345, 0.5410585615518845,\n",
       "                    -0.9607980582431052, -0.8018196650640776, 1.0,\n",
       "                    0.9365845013613581],\n",
       "              'y': [0.9892550758826654, 0.4864273107701809, -0.7290148570273671,\n",
       "                    0.5233791584594626, 0.863968191071677, 0.7677301943237842,\n",
       "                    -0.6167000366577247, -0.6146497129525029, 0.5583708599948216,\n",
       "                    -0.8388281663444896, -0.9398259774708855, -0.22490619484851754,\n",
       "                    0.9333566009664735, 0.1675879245713035, -0.9885253173020447,\n",
       "                    -0.8747966160612428, 0.8464920587595257, 0.48754112051831605,\n",
       "                    -0.8827867350791642, -0.12450383442196455, 0.04739011851984169,\n",
       "                    0.6781993364520826, 0.6729291763590868, 0.7058990824087182,\n",
       "                    -0.938474033285493, 0.36036668485547846, 0.7261000259768724,\n",
       "                    0.9793019990458564, -0.55773880546276, -0.24326950937966565,\n",
       "                    -0.7485747106799743, -0.23455546831007978, 0.31440663745602543,\n",
       "                    0.7531170057457562, 0.9526188142078417, -0.7761619224237958,\n",
       "                    0.38653207430105513, 0.7063458968102596, -0.8491619781800148,\n",
       "                    -0.9596728448327527, 0.4104469547766121, -0.967232805665264,\n",
       "                    -0.6240838216197907, 0.6061953988535647, -0.02027075049405641,\n",
       "                    0.43127369667027715, -0.16815085934496712,\n",
       "                    0.033003635541492285, 0.7268500600621915, -0.6989838449295006,\n",
       "                    0.2258006261170538, -0.016089231239337372,\n",
       "                    -0.30344982117943026, 0.9150144460786983, -0.8319306243719486,\n",
       "                    -0.7478413615073325, 0.6395419875818964, 0.954309408458692,\n",
       "                    -0.7150415512626506, 0.08805438663731212, 0.8914978249280995,\n",
       "                    -0.9328351526667651, -0.22467662310725828, 0.8314126163779073,\n",
       "                    -0.023280741217217613, -0.9104905430316708,\n",
       "                    -0.31904494519764975, -0.17643418452905646, 0.9052115645462094,\n",
       "                    0.9822395284321843, -0.3819814144183636, -0.7370906899260571,\n",
       "                    -0.9347168789984204, -0.4886407784386866, -0.3953290645565377,\n",
       "                    -0.5247916130229705, -0.08024853788987298,\n",
       "                    -0.46671707479827046, 0.8324839116658134, 0.8154577451382662,\n",
       "                    0.8579599145920623, 0.29347362113718534, 0.5985260299820846,\n",
       "                    -0.8276507154127369, 0.1207022277450832, -0.9215712212217964,\n",
       "                    -0.928672121562906, -0.8373045273414141, -0.3609699717861086,\n",
       "                    -0.693938163067267, -0.9625197814418699, 0.7939240106234442,\n",
       "                    0.4877178435180754, 0.15124415676733044, -0.8778234234241895,\n",
       "                    0.8828354486167271, 0.21325864689885207, -0.3867284947989213,\n",
       "                    0.9248810116273675, 0.5582291118766999, -0.9324341742897249,\n",
       "                    0.9491834708482494, -0.9919284150507095, 0.30037688516345523,\n",
       "                    -0.48544597527465233, 0.8934840843474018, -0.6967008881733217,\n",
       "                    -0.5328211584692287, 0.86310900570763, 0.9314622561493873,\n",
       "                    0.7052444064317055, -0.15287667383084008, -0.49831184537147444,\n",
       "                    -0.08880268691595053, 0.2862786002105349]}],\n",
       "    'layout': {'annotations': [{'showarrow': False,\n",
       "                                'text': 'Drag to pan, scroll to zoom',\n",
       "                                'x': 0.005,\n",
       "                                'xref': 'paper',\n",
       "                                'y': -0.002,\n",
       "                                'yref': 'paper'}],\n",
       "               'hovermode': 'closest',\n",
       "               'margin': {'b': 20, 'l': 5, 'r': 5, 't': 40},\n",
       "               'plot_bgcolor': 'white',\n",
       "               'showlegend': False,\n",
       "               'template': '...',\n",
       "               'title': {'text': 'Knowledge Graph Visualization'},\n",
       "               'xaxis': {'showgrid': False, 'showticklabels': False, 'zeroline': False},\n",
       "               'yaxis': {'showgrid': False, 'showticklabels': False, 'zeroline': False}}\n",
       "})"
      ]
     },
     "metadata": {},
     "output_type": "display_data"
    }
   ],
   "source": [
    "display(Markdown(\"### Building Knowledge Graph...\"))\n",
    "\n",
    "kg_builder = KnowledgeGraphBuilder()\n",
    "\n",
    "# 1. Get all documents from the vector store\n",
    "all_docs = rag_engine.get_all_documents_for_kg()\n",
    "print(f\"Building KG from {len(all_docs)} total document chunks.\")\n",
    "\n",
    "# 2. Extract entities and relationships\n",
    "kg_stats = kg_builder.extract_entities_and_relationships(all_docs)\n",
    "print(\"\\n--- Knowledge Graph Stats ---\")\n",
    "pjson(kg_stats)\n",
    "\n",
    "# 3. Visualize the graph\n",
    "if kg_stats.get('graph_nodes', 0) > 0:\n",
    "    display(Markdown(\"### Interactive Knowledge Graph Visualization\"))\n",
    "    fig = kg_builder.visualize_graph_plotly()\n",
    "    display(fig)\n",
    "else:\n",
    "    print(\"No nodes found for KG visualization.\")"
   ]
  },
  {
   "cell_type": "markdown",
   "metadata": {},
   "source": [
    "## 8. Cleanup\n",
    "\n",
    "You can now manually delete the `chroma_db_store` and `logs` directories if you wish."
   ]
  },
  {
   "cell_type": "code",
   "execution_count": 9,
   "metadata": {},
   "outputs": [
    {
     "name": "stdout",
     "output_type": "stream",
     "text": [
      "Test complete. Remember to delete 'chroma_db_store' and 'logs' if you want a fresh start next time.\n"
     ]
    }
   ],
   "source": [
    "print(\"Test complete. Remember to delete 'chroma_db_store' and 'logs' if you want a fresh start next time.\")"
   ]
  }
 ],
 "metadata": {
  "kernelspec": {
   "display_name": "Python 3",
   "language": "python",
   "name": "python3"
  },
  "language_info": {
   "codemirror_mode": {
    "name": "ipython",
    "version": 3
   },
   "file_extension": ".py",
   "mimetype": "text/x-python",
   "name": "python",
   "nbconvert_exporter": "python",
   "pygments_lexer": "ipython3",
   "version": "3.11.9"
  }
 },
 "nbformat": 4,
 "nbformat_minor": 4
}
