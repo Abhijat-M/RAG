{
 "cells": [
  {
   "cell_type": "code",
   "execution_count": 1,
   "id": "8cff2228",
   "metadata": {},
   "outputs": [],
   "source": [
    "import json\n",
    "import os\n",
    "from pathlib import Path"
   ]
  },
  {
   "cell_type": "code",
   "execution_count": 2,
   "id": "3967a860",
   "metadata": {},
   "outputs": [
    {
     "name": "stdout",
     "output_type": "stream",
     "text": [
      "2025-10-23 21:47:58,773 - RAG_App - INFO - Loading configuration...\n",
      "2025-10-23 21:47:58,775 - RAG_App - INFO - Configuration validated successfully.\n",
      "2025-10-23 21:48:00,694 - faiss.loader - INFO - Loading faiss with AVX512 support.\n",
      "2025-10-23 21:48:00,695 - faiss.loader - INFO - Could not load library with AVX512 support due to:\n",
      "ModuleNotFoundError(\"No module named 'faiss.swigfaiss_avx512'\")\n",
      "2025-10-23 21:48:00,695 - faiss.loader - INFO - Loading faiss with AVX2 support.\n",
      "2025-10-23 21:48:00,857 - faiss.loader - INFO - Successfully loaded faiss with AVX2 support.\n"
     ]
    },
    {
     "name": "stderr",
     "output_type": "stream",
     "text": [
      "c:\\Users\\Wizard\\AppData\\Local\\Programs\\Python\\Python311\\Lib\\site-packages\\tqdm\\auto.py:21: TqdmWarning: IProgress not found. Please update jupyter and ipywidgets. See https://ipywidgets.readthedocs.io/en/stable/user_install.html\n",
      "  from .autonotebook import tqdm as notebook_tqdm\n"
     ]
    },
    {
     "name": "stdout",
     "output_type": "stream",
     "text": [
      "2025-10-23 21:48:34,132 - datasets - INFO - TensorFlow version 2.20.0 available.\n",
      "2025-10-23 21:48:34,134 - datasets - INFO - JAX version 0.7.2 available.\n",
      "2025-10-23 21:48:38,239 - tensorflow - WARNING - From c:\\Users\\Wizard\\AppData\\Local\\Programs\\Python\\Python311\\Lib\\site-packages\\tf_keras\\src\\losses.py:2976: The name tf.losses.sparse_softmax_cross_entropy is deprecated. Please use tf.compat.v1.losses.sparse_softmax_cross_entropy instead.\n",
      "\n"
     ]
    }
   ],
   "source": [
    "from config import Config, IS_CONFIG_VALID\n",
    "from core.knowledge_graph import KnowledgeGraphBuilder\n",
    "from core.rag_engine import RAGEngine\n",
    "from ingestion.document_processor import DocumentProcessor\n",
    "from ingestion.web_crawler import WebCrawler\n",
    "from logger import logger"
   ]
  },
  {
   "cell_type": "code",
   "execution_count": 3,
   "id": "d9863557",
   "metadata": {},
   "outputs": [],
   "source": [
    "def pjson(obj):\n",
    "    \"\"\"Pretty-print JSON to stdout.\"\"\"\n",
    "    print(json.dumps(obj, indent=2, ensure_ascii=False))"
   ]
  },
  {
   "cell_type": "code",
   "execution_count": 4,
   "id": "f9f736a8",
   "metadata": {},
   "outputs": [
    {
     "name": "stdout",
     "output_type": "stream",
     "text": [
      "2025-10-23 21:48:49,790 - RAG_App - INFO - Configuration is valid.\n",
      "LLM Provider : featherless-ai\n",
      "LLM Model    : inclusionAI/Ling-1T\n",
      "Vector Store : chroma\n",
      "2025-10-23 21:48:49,791 - RAG_App - INFO - Initializing RAGEngine...\n",
      "2025-10-23 21:48:49,792 - RAG_App - INFO - Initializing ChromaVectorStore at ./chroma_db_store\n",
      "2025-10-23 21:48:49,820 - chromadb.telemetry.product.posthog - INFO - Anonymized telemetry enabled. See                     https://docs.trychroma.com/telemetry for more information.\n"
     ]
    },
    {
     "name": "stderr",
     "output_type": "stream",
     "text": [
      "2025-10-23 21:48:49.974 WARNING streamlit.runtime.scriptrunner_utils.script_run_context: Thread 'MainThread': missing ScriptRunContext! This warning can be ignored when running in bare mode.\n",
      "2025-10-23 21:48:50.177 \n",
      "  \u001b[33m\u001b[1mWarning:\u001b[0m to view this Streamlit app on a browser, run it with the following\n",
      "  command:\n",
      "\n",
      "    streamlit run C:\\Users\\Wizard\\AppData\\Roaming\\Python\\Python311\\site-packages\\ipykernel_launcher.py [ARGUMENTS]\n",
      "2025-10-23 21:48:50.178 Thread 'MainThread': missing ScriptRunContext! This warning can be ignored when running in bare mode.\n",
      "2025-10-23 21:48:50.178 Thread 'MainThread': missing ScriptRunContext! This warning can be ignored when running in bare mode.\n",
      "2025-10-23 21:48:50.179 Thread 'MainThread': missing ScriptRunContext! This warning can be ignored when running in bare mode.\n"
     ]
    },
    {
     "name": "stdout",
     "output_type": "stream",
     "text": [
      "2025-10-23 21:48:50,180 - RAG_App - INFO - Loading embedding model: sentence-transformers/all-MiniLM-L6-v2\n",
      "2025-10-23 21:48:50,199 - sentence_transformers.SentenceTransformer - INFO - Use pytorch device_name: cuda:0\n",
      "2025-10-23 21:48:50,200 - sentence_transformers.SentenceTransformer - INFO - Load pretrained SentenceTransformer: sentence-transformers/all-MiniLM-L6-v2\n"
     ]
    },
    {
     "name": "stderr",
     "output_type": "stream",
     "text": [
      "2025-10-23 21:48:50.694 Thread 'Thread-4': missing ScriptRunContext! This warning can be ignored when running in bare mode.\n",
      "2025-10-23 21:48:50.696 Thread 'Thread-4': missing ScriptRunContext! This warning can be ignored when running in bare mode.\n",
      "2025-10-23 21:48:50.696 Thread 'Thread-4': missing ScriptRunContext! This warning can be ignored when running in bare mode.\n",
      "2025-10-23 21:48:56.363 Thread 'MainThread': missing ScriptRunContext! This warning can be ignored when running in bare mode.\n",
      "2025-10-23 21:48:56.363 Thread 'MainThread': missing ScriptRunContext! This warning can be ignored when running in bare mode.\n",
      "2025-10-23 21:48:56.364 Thread 'MainThread': missing ScriptRunContext! This warning can be ignored when running in bare mode.\n"
     ]
    },
    {
     "name": "stdout",
     "output_type": "stream",
     "text": [
      "2025-10-23 21:48:56,384 - RAG_App - INFO - ChromaVectorStore loaded on initialization.\n",
      "2025-10-23 21:48:56,385 - RAG_App - INFO - Vector store loaded successfully.\n",
      "2025-10-23 21:48:56,386 - RAG_App - INFO - RAGEngine initialized with provider featherless-ai and model inclusionAI/Ling-1T\n"
     ]
    }
   ],
   "source": [
    "if not IS_CONFIG_VALID:\n",
    "    logger.error(\"CRITICAL: .env file is not configured correctly. Please check it.\")\n",
    "    raise RuntimeError(\"Invalid configuration\")\n",
    "\n",
    "logger.info(\"Configuration is valid.\")\n",
    "print(f\"LLM Provider : {Config.LLM_PROVIDER}\")\n",
    "print(f\"LLM Model    : {Config.LLM_MODEL}\")\n",
    "print(f\"Vector Store : {Config.VECTOR_STORE_TYPE}\")\n",
    "\n",
    "rag = RAGEngine()"
   ]
  },
  {
   "cell_type": "code",
   "execution_count": 5,
   "id": "706386fb",
   "metadata": {},
   "outputs": [
    {
     "name": "stdout",
     "output_type": "stream",
     "text": [
      "2025-10-23 21:49:10,018 - RAG_App - WARNING - Clearing vector store for a clean test…\n",
      "2025-10-23 21:49:10,018 - RAG_App - WARNING - Clearing vector store...\n",
      "2025-10-23 21:49:10,030 - RAG_App - ERROR - Error resetting chroma database: Reset is disabled by config\n",
      "2025-10-23 21:49:10,031 - RAG_App - INFO - Vector store cleared and re-initialized.\n",
      "Vector store cleared.\n",
      "\n"
     ]
    }
   ],
   "source": [
    "logger.warning(\"Clearing vector store for a clean test…\")\n",
    "rag.clear_vector_store()\n",
    "print(\"Vector store cleared.\\n\")"
   ]
  },
  {
   "cell_type": "code",
   "execution_count": 7,
   "id": "63d2a06e",
   "metadata": {},
   "outputs": [
    {
     "name": "stdout",
     "output_type": "stream",
     "text": [
      "2025-10-23 21:50:10,324 - RAG_App - INFO - DocumentProcessor initialized.\n",
      "2025-10-23 21:50:10,324 - RAG_App - INFO - Processing file: test_paris.txt\n",
      "2025-10-23 21:50:10,325 - RAG_App - INFO - Successfully processed test_paris.txt, created 1 chunks.\n",
      "2025-10-23 21:50:10,325 - RAG_App - INFO - Processing file: test_berlin.txt\n",
      "2025-10-23 21:50:10,326 - RAG_App - INFO - Successfully processed test_berlin.txt, created 1 chunks.\n",
      "2025-10-23 21:50:10,326 - RAG_App - INFO - Adding 2 documents to Chroma...\n"
     ]
    },
    {
     "name": "stderr",
     "output_type": "stream",
     "text": [
      "Batches: 100%|██████████| 1/1 [00:00<00:00,  1.81it/s]"
     ]
    },
    {
     "name": "stdout",
     "output_type": "stream",
     "text": [
      "2025-10-23 21:50:10,953 - RAG_App - INFO - Document addition to Chroma complete.\n",
      "2025-10-23 21:50:10,954 - RAG_App - INFO - ChromaVectorStore is persistent. No explicit save needed.\n",
      "DocumentProcessor created 2 chunks from 2 files.\n",
      "\n",
      "--- Vector-store stats after document ingestion ---\n",
      "{\n",
      "  \"total_documents\": 6,\n",
      "  \"index_size\": 6,\n",
      "  \"dimension\": 384,\n",
      "  \"model\": \"sentence-transformers/all-MiniLM-L6-v2\",\n",
      "  \"type\": \"Chroma\"\n",
      "}\n"
     ]
    },
    {
     "name": "stderr",
     "output_type": "stream",
     "text": [
      "\n"
     ]
    }
   ],
   "source": [
    "mock_files = [\n",
    "    {\n",
    "        \"name\": \"test_paris.txt\",\n",
    "        \"type\": \"text/plain\",\n",
    "        \"data\": b\"The capital of France is Paris. Paris is known for the Eiffel Tower, \"\n",
    "                b\"the Louvre Museum, and its beautiful cafes. It is a major center for \"\n",
    "                b\"art and culture.\",\n",
    "    },\n",
    "    {\n",
    "        \"name\": \"test_berlin.txt\",\n",
    "        \"type\": \"text/plain\",\n",
    "        \"data\": b\"Berlin is the capital of Germany. It is famous for the Brandenburg Gate \"\n",
    "                b\"and the remains of the Berlin Wall. It has a vibrant nightlife and tech scene.\",\n",
    "    },\n",
    "]\n",
    "\n",
    "processor = DocumentProcessor()\n",
    "docs = processor.process_uploaded_files(mock_files)\n",
    "rag.add_documents(docs)\n",
    "print(f\"DocumentProcessor created {len(docs)} chunks from {len(mock_files)} files.\\n\")\n",
    "\n",
    "stats = rag.get_vector_store_stats()\n",
    "print(\"--- Vector-store stats after document ingestion ---\")\n",
    "pjson(stats)"
   ]
  },
  {
   "cell_type": "code",
   "execution_count": 10,
   "id": "a85474f2",
   "metadata": {},
   "outputs": [
    {
     "name": "stdout",
     "output_type": "stream",
     "text": [
      "2025-10-23 21:51:39,949 - RAG_App - INFO - Starting crawl 1/1 for root URL: https://en.wikipedia.org/wiki/Bread\n",
      "2025-10-23 21:51:39,950 - RAG_App - INFO - Crawling (Depth 0): https://en.wikipedia.org/wiki/Bread\n",
      "2025-10-23 21:51:42,484 - RAG_App - INFO - Crawling (Depth 1): https://en.wikipedia.org/wiki/American_Jewish_cuisine\n",
      "2025-10-23 21:51:43,246 - RAG_App - INFO - Crawl complete. Fetched 2 total pages.\n",
      "\n",
      "WebCrawler found 2 relevant pages.\n",
      "2025-10-23 21:51:43,246 - RAG_App - INFO - Adding 2 documents to Chroma...\n"
     ]
    },
    {
     "name": "stderr",
     "output_type": "stream",
     "text": [
      "Batches: 100%|██████████| 1/1 [00:00<00:00, 38.87it/s]"
     ]
    },
    {
     "name": "stdout",
     "output_type": "stream",
     "text": [
      "2025-10-23 21:51:43,288 - RAG_App - INFO - Document addition to Chroma complete.\n",
      "2025-10-23 21:51:43,289 - RAG_App - INFO - ChromaVectorStore is persistent. No explicit save needed.\n",
      "--- Vector-store stats after web crawl ---\n",
      "{\n",
      "  \"total_documents\": 8,\n",
      "  \"index_size\": 8,\n",
      "  \"dimension\": 384,\n",
      "  \"model\": \"sentence-transformers/all-MiniLM-L6-v2\",\n",
      "  \"type\": \"Chroma\"\n",
      "}\n"
     ]
    },
    {
     "name": "stderr",
     "output_type": "stream",
     "text": [
      "\n"
     ]
    }
   ],
   "source": [
    "crawler = WebCrawler()\n",
    "seed_urls = [\"https://en.wikipedia.org/wiki/Bread\"]\n",
    "crawled = crawler.crawl_root_urls(\n",
    "    seed_urls,\n",
    "    context=\"baking, history, flour\",\n",
    "    max_depth=1,\n",
    "    max_pages_per_url=2,   # <-- added\n",
    ")\n",
    "\n",
    "print(f\"\\nWebCrawler found {len(crawled)} relevant pages.\")\n",
    "if crawled:\n",
    "    rag.add_documents(crawled)\n",
    "    stats = rag.get_vector_store_stats()\n",
    "    print(\"--- Vector-store stats after web crawl ---\")\n",
    "    pjson(stats)"
   ]
  },
  {
   "cell_type": "code",
   "execution_count": 11,
   "id": "12e645e1",
   "metadata": {},
   "outputs": [
    {
     "name": "stderr",
     "output_type": "stream",
     "text": [
      "Batches: 100%|██████████| 1/1 [00:00<00:00, 23.40it/s]"
     ]
    },
    {
     "name": "stdout",
     "output_type": "stream",
     "text": [
      "\n",
      "Retrieval test for: 'What is the capital of France?'\n",
      "[\n",
      "  {\n",
      "    \"document\": \"The capital of France is Paris. Paris is known for the Eiffel Tower, the Louvre Museum, and its beautiful cafes. It is a major center for art and culture.\",\n",
      "    \"metadata\": {\n",
      "      \"filename\": \"test_paris.txt\",\n",
      "      \"source\": \"upload\",\n",
      "      \"chunk_id\": 0,\n",
      "      \"file_type\": \"text/plain\"\n",
      "    },\n",
      "    \"score\": 0.689079999923706\n",
      "  },\n",
      "  {\n",
      "    \"document\": \"The capital of France is Paris. Paris is known for the Eiffel Tower, the Louvre Museum, and its beautiful cafes. It is a major center for art and culture.\",\n",
      "    \"metadata\": {\n",
      "      \"source\": \"upload\",\n",
      "      \"filename\": \"test_paris.txt\",\n",
      "      \"chunk_id\": 0,\n",
      "      \"file_type\": \"text/plain\"\n",
      "    },\n",
      "    \"score\": 0.689079999923706\n",
      "  },\n",
      "  {\n",
      "    \"document\": \"Berlin is the capital of Germany. It is famous for the Brandenburg Gate and the remains of the Berlin Wall. It has a vibrant nightlife and tech scene.\",\n",
      "    \"metadata\": {\n",
      "      \"file_type\": \"text/plain\",\n",
      "      \"source\": \"upload\",\n",
      "      \"filename\": \"test_berlin.txt\",\n",
      "      \"chunk_id\": 0\n",
      "    },\n",
      "    \"score\": 0.2829338312149048\n",
      "  }\n",
      "]\n"
     ]
    },
    {
     "name": "stderr",
     "output_type": "stream",
     "text": [
      "\n"
     ]
    }
   ],
   "source": [
    "query = \"What is the capital of France?\"\n",
    "retrieved = rag.retrieve_relevant_documents(query, k=3)\n",
    "print(f\"\\nRetrieval test for: '{query}'\")\n",
    "pjson(retrieved)"
   ]
  },
  {
   "cell_type": "code",
   "execution_count": 12,
   "id": "7fb2f528",
   "metadata": {},
   "outputs": [
    {
     "name": "stdout",
     "output_type": "stream",
     "text": [
      "\n",
      "=== Generation tests ===\n",
      "\n",
      "Q: What is Paris known for?\n"
     ]
    },
    {
     "name": "stderr",
     "output_type": "stream",
     "text": [
      "Batches: 100%|██████████| 1/1 [00:00<00:00, 109.60it/s]"
     ]
    },
    {
     "name": "stdout",
     "output_type": "stream",
     "text": [
      "2025-10-23 23:18:41,023 - RAG_App - INFO - Generating LLM chat completion for 1 messages...\n"
     ]
    },
    {
     "name": "stderr",
     "output_type": "stream",
     "text": [
      "\n"
     ]
    },
    {
     "name": "stdout",
     "output_type": "stream",
     "text": [
      "2025-10-23 23:18:46,158 - RAG_App - INFO - LLM response received.\n",
      "{\n",
      "  \"answer\": \"Paris is known for the Eiffel Tower, the Louvre Museum, and its beautiful cafes. It is also a major center for art and culture.\",\n",
      "  \"sources\": [\n",
      "    {\n",
      "      \"filename\": \"test_paris.txt\",\n",
      "      \"source\": \"upload\",\n",
      "      \"chunk_id\": 0,\n",
      "      \"file_type\": \"text/plain\"\n",
      "    },\n",
      "    {\n",
      "      \"file_type\": \"text/plain\",\n",
      "      \"source\": \"upload\",\n",
      "      \"chunk_id\": 0,\n",
      "      \"filename\": \"test_paris.txt\"\n",
      "    },\n",
      "    {\n",
      "      \"chunk_id\": 0,\n",
      "      \"filename\": \"test_berlin.txt\",\n",
      "      \"source\": \"upload\",\n",
      "      \"file_type\": \"text/plain\"\n",
      "    }\n",
      "  ],\n",
      "  \"confidence\": 0.4087715148925781,\n",
      "  \"context_used\": \"The capital of France is Paris. Paris is known for the Eiffel Tower, the Louvre Museum, and its beautiful cafes. It is a major center for art and culture.\\n\\n---\\n\\nThe capital of France is Paris. Paris is known for the Eiffel Tower, the Louvre Museum, and its beautiful cafes. It is a major center for art and culture.\\n\\n---\\n\\nBerlin is the capital of Germany. It is famous for the Brandenburg Gate and the remains of the Berlin Wall. It has a vibrant nightlife and tech scene.\\n\\n---\\n\\nBerlin is the capital...\"\n",
      "}\n",
      "\n",
      "Q: What is bread?\n"
     ]
    },
    {
     "name": "stderr",
     "output_type": "stream",
     "text": [
      "Batches: 100%|██████████| 1/1 [00:00<00:00, 99.88it/s]"
     ]
    },
    {
     "name": "stdout",
     "output_type": "stream",
     "text": [
      "2025-10-23 23:18:46,176 - RAG_App - INFO - Generating LLM chat completion for 1 messages...\n"
     ]
    },
    {
     "name": "stderr",
     "output_type": "stream",
     "text": [
      "\n"
     ]
    },
    {
     "name": "stdout",
     "output_type": "stream",
     "text": [
      "2025-10-23 23:18:49,717 - RAG_App - INFO - LLM response received.\n",
      "{\n",
      "  \"answer\": \"Bread is a baked food product made from water, flour, and often yeast. It has been an important part of many cultures' diets throughout history.\",\n",
      "  \"sources\": [\n",
      "    {\n",
      "      \"source\": \"web_crawl\",\n",
      "      \"context\": \"baking, history, flour\",\n",
      "      \"url\": \"https://en.wikipedia.org/wiki/Bread\",\n",
      "      \"description\": \"\",\n",
      "      \"title\": \"Bread - Wikipedia\"\n",
      "    },\n",
      "    {\n",
      "      \"source\": \"web_crawl\",\n",
      "      \"title\": \"Bread - Wikipedia\",\n",
      "      \"url\": \"https://en.wikipedia.org/wiki/Bread\",\n",
      "      \"description\": \"\",\n",
      "      \"context\": \"baking, history, flour\"\n",
      "    },\n",
      "    {\n",
      "      \"title\": \"American Jewish cuisine - Wikipedia\",\n",
      "      \"description\": \"\",\n",
      "      \"source\": \"web_crawl\",\n",
      "      \"context\": \"baking, history, flour\",\n",
      "      \"url\": \"https://en.wikipedia.org/wiki/American_Jewish_cuisine\"\n",
      "    }\n",
      "  ],\n",
      "  \"confidence\": 0.39863656759262084,\n",
      "  \"context_used\": \"Bread - Wikipedia Jump to content From Wikipedia, the free encyclopedia Food made of flour and water For other uses, see Bread (disambiguation). BreadVarious leavened breadsMain ingredientsFlour, water Cookbook: Bread  Media: Bread Bread is a baked food product made from water, flour, and often yeast. Throughout recorded history and around the world, it has been an important part of many cultures' diets. baking soda), industrially produced yeast, or high-pressure aeration, which creates the gas ...\"\n",
      "}\n"
     ]
    }
   ],
   "source": [
    "print(\"\\n=== Generation tests ===\")\n",
    "\n",
    "q1 = \"What is Paris known for?\"\n",
    "print(f\"\\nQ: {q1}\")\n",
    "pjson(rag.generate_response(q1))\n",
    "\n",
    "q2 = \"What is bread?\"\n",
    "print(f\"\\nQ: {q2}\")\n",
    "pjson(rag.generate_response(q2))"
   ]
  },
  {
   "cell_type": "code",
   "execution_count": 13,
   "id": "868998d9",
   "metadata": {},
   "outputs": [
    {
     "name": "stdout",
     "output_type": "stream",
     "text": [
      "\n",
      "=== Multi-turn chat ===\n",
      "\n",
      "Human   : What is the capital of Germany?\n"
     ]
    },
    {
     "name": "stderr",
     "output_type": "stream",
     "text": [
      "Batches: 100%|██████████| 1/1 [00:00<00:00, 124.66it/s]"
     ]
    },
    {
     "name": "stdout",
     "output_type": "stream",
     "text": [
      "2025-10-23 23:18:57,453 - RAG_App - INFO - Generating LLM chat completion for 1 messages...\n"
     ]
    },
    {
     "name": "stderr",
     "output_type": "stream",
     "text": [
      "\n"
     ]
    },
    {
     "name": "stdout",
     "output_type": "stream",
     "text": [
      "2025-10-23 23:18:59,427 - RAG_App - INFO - LLM response received.\n",
      "Assistant: Berlin\n",
      "\n",
      "Human   : How many people live there?\n"
     ]
    },
    {
     "name": "stderr",
     "output_type": "stream",
     "text": [
      "Batches: 100%|██████████| 1/1 [00:00<00:00, 124.72it/s]"
     ]
    },
    {
     "name": "stdout",
     "output_type": "stream",
     "text": [
      "2025-10-23 23:18:59,442 - RAG_App - INFO - Generating LLM chat completion for 3 messages...\n"
     ]
    },
    {
     "name": "stderr",
     "output_type": "stream",
     "text": [
      "\n"
     ]
    },
    {
     "name": "stdout",
     "output_type": "stream",
     "text": [
      "2025-10-23 23:19:01,767 - RAG_App - INFO - LLM response received.\n",
      "Assistant: I do not have that information in my documents.\n",
      "\n",
      "Human   : What is the Eiffel Tower?\n"
     ]
    },
    {
     "name": "stderr",
     "output_type": "stream",
     "text": [
      "Batches: 100%|██████████| 1/1 [00:00<00:00, 111.74it/s]"
     ]
    },
    {
     "name": "stdout",
     "output_type": "stream",
     "text": [
      "2025-10-23 23:19:01,782 - RAG_App - INFO - Generating LLM chat completion for 5 messages...\n"
     ]
    },
    {
     "name": "stderr",
     "output_type": "stream",
     "text": [
      "\n"
     ]
    },
    {
     "name": "stdout",
     "output_type": "stream",
     "text": [
      "2025-10-23 23:19:05,060 - RAG_App - INFO - LLM response received.\n",
      "Assistant: The Eiffel Tower is a landmark in Paris, the capital of France, known for its iconic iron lattice structure.\n"
     ]
    }
   ],
   "source": [
    "print(\"\\n=== Multi-turn chat ===\")\n",
    "history = []\n",
    "\n",
    "turns = [\n",
    "    \"What is the capital of Germany?\",\n",
    "    \"How many people live there?\",\n",
    "    \"What is the Eiffel Tower?\",\n",
    "]\n",
    "\n",
    "for turn in turns:\n",
    "    print(f\"\\nHuman   : {turn}\")\n",
    "    reply = rag.chat_mode(turn, history)\n",
    "    print(f\"Assistant: {reply['answer']}\")\n",
    "    history.append({\"human\": turn, \"assistant\": reply[\"answer\"]})"
   ]
  },
  {
   "cell_type": "code",
   "execution_count": 14,
   "id": "4a326f14",
   "metadata": {},
   "outputs": [
    {
     "name": "stdout",
     "output_type": "stream",
     "text": [
      "\n",
      "=== Knowledge Graph ===\n",
      "2025-10-23 23:19:31,800 - RAG_App - INFO - Retrieving all documents for KG build...\n",
      "Building KG from 8 chunks…\n",
      "2025-10-23 23:19:31,812 - RAG_App - INFO - Starting KG extraction from 8 documents...\n",
      "2025-10-23 23:19:31,813 - RAG_App - INFO - Processing document 0/8 for KG...\n",
      "2025-10-23 23:19:33,218 - RAG_App - INFO - KG build complete. Nodes: 165, Edges: 1\n",
      "\n",
      "--- KG stats ---\n",
      "{\n",
      "  \"entities_count\": 165,\n",
      "  \"relationships_count\": 2,\n",
      "  \"graph_nodes\": 165,\n",
      "  \"graph_edges\": 1\n",
      "}\n",
      "Interactive graph saved → C:\\Users\\Wizard\\Documents\\RAG\\knowledge_graph.html\n"
     ]
    }
   ],
   "source": [
    "print(\"\\n=== Knowledge Graph ===\")\n",
    "kg_builder = KnowledgeGraphBuilder()\n",
    "\n",
    "all_docs = rag.get_all_documents_for_kg()\n",
    "print(f\"Building KG from {len(all_docs)} chunks…\")\n",
    "\n",
    "kg_stats = kg_builder.extract_entities_and_relationships(all_docs)\n",
    "print(\"\\n--- KG stats ---\")\n",
    "pjson(kg_stats)\n",
    "\n",
    "if kg_stats.get(\"graph_nodes\", 0):\n",
    "    fig = kg_builder.visualize_graph_plotly()\n",
    "    # Save interactive plot instead of trying to display in terminal\n",
    "    out_file = Path(\"knowledge_graph.html\")\n",
    "    fig.write_html(out_file)\n",
    "    print(f\"Interactive graph saved → {out_file.resolve()}\")\n",
    "else:\n",
    "    print(\"No nodes found for KG visualisation.\")"
   ]
  },
  {
   "cell_type": "code",
   "execution_count": 1,
   "id": "548a682a",
   "metadata": {},
   "outputs": [
    {
     "name": "stdout",
     "output_type": "stream",
     "text": [
      "\n",
      "Test complete. Delete 'chroma_db_store' and 'logs' folders if you want a fresh start next run.\n"
     ]
    }
   ],
   "source": [
    "print(\"\\nTest complete. \"\n",
    "      \"Delete 'chroma_db_store' and 'logs' folders if you want a fresh start next run.\")"
   ]
  },
  {
   "cell_type": "code",
   "execution_count": null,
   "id": "3439922a",
   "metadata": {},
   "outputs": [
    {
     "name": "stderr",
     "output_type": "stream",
     "text": [
      "c:\\Users\\Wizard\\AppData\\Local\\Programs\\Python\\Python311\\Lib\\site-packages\\tqdm\\auto.py:21: TqdmWarning: IProgress not found. Please update jupyter and ipywidgets. See https://ipywidgets.readthedocs.io/en/stable/user_install.html\n",
      "  from .autonotebook import tqdm as notebook_tqdm\n"
     ]
    },
    {
     "name": "stdout",
     "output_type": "stream",
     "text": [
      "I am an AI language model developed by Ant Group, named Bailing. Ant Group is a world-leading open internet platform that, through technological innovation, assists partners in providing inclusive and convenient digital life and digital financial services to consumers and small and micro enterprises]]: enterprises. It continuously opens its products and technologies to help enterprises with digital upgrades and collaboration.\n",
      "\n",
      "**Key points about me:**\n",
      "\n",
      "1.  **Purpose:** My primary function is to assist you by providing information, answering questions, generating text, translating languages, summarizing content, and engaging in helpful, respectful conversation.\n",
      "2.  **Knowledge Base:** I was trained on a massive dataset of text and code from the internet, books, articles, and other sources, up until my last update (currently around July 2024). This allows me to understand and generate human-like text across a wide range of topics and domains.\n",
      "3.  **Capabilities:**\n",
      "    *   **Answering Questions:** I can answer factual questions, explain concepts, and offer insights based on my training data.\n",
      "    *   **Creative Writing:** I can generate stories, poems, emails, scripts, musical pieces, and other creative text formats.\n",
      "    *  \n"
     ]
    }
   ],
   "source": [
    "\n",
    "import os\n",
    "from huggingface_hub import InferenceClient\n",
    "\n",
    "\n",
    "api_key = os.getenv(\"HF_API_TOKEN\")\n",
    "if not api_key:\n",
    "    raise RuntimeError(\"Export HF_TOKEN=<your-hugging-face-token> first\")\n",
    "\n",
    "\n",
    "s= \"explain yourself\"\n",
    "\n",
    "client = InferenceClient(\n",
    "    provider=\"featherless-ai\",\n",
    "    api_key=api_key,\n",
    ")\n",
    "\n",
    "\n",
    "completion = client.chat.completions.create(\n",
    "    model=\"inclusionAI/Ling-1T\",\n",
    "    messages=[{\"role\": \"user\", \"content\": s}],\n",
    "    max_tokens=250,\n",
    "    temperature=0.7,\n",
    ")\n",
    "\n",
    "\n",
    "answer = completion.choices[0].message.content\n",
    "print(answer)"
   ]
  }
 ],
 "metadata": {
  "kernelspec": {
   "display_name": "Python 3",
   "language": "python",
   "name": "python3"
  },
  "language_info": {
   "codemirror_mode": {
    "name": "ipython",
    "version": 3
   },
   "file_extension": ".py",
   "mimetype": "text/x-python",
   "name": "python",
   "nbconvert_exporter": "python",
   "pygments_lexer": "ipython3",
   "version": "3.11.9"
  }
 },
 "nbformat": 4,
 "nbformat_minor": 5
}
